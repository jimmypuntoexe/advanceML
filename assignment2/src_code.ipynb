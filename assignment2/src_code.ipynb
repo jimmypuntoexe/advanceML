{
  "nbformat": 4,
  "nbformat_minor": 0,
  "metadata": {
    "colab": {
      "name": "pred_def_payment.ipynb",
      "provenance": [],
      "collapsed_sections": []
    },
    "kernelspec": {
      "name": "python3",
      "display_name": "Python 3"
    }
  },
  "cells": [
    {
      "cell_type": "code",
      "metadata": {
        "id": "DWL4hHbvgqDk",
        "colab": {
          "base_uri": "https://localhost:8080/"
        },
        "outputId": "692cc5a2-4739-49b8-bbb3-11141831d8a7"
      },
      "source": [
        "!pip install -U scipy\n",
        "!pip install -U pandas_profiling\n",
        "!pip install -U keras\n",
        "!pip install -U keras_metrics\n",
        "!pip install -U imbalanced-learn"
      ],
      "execution_count": null,
      "outputs": [
        {
          "output_type": "stream",
          "text": [
            "Collecting scipy\n",
            "\u001b[?25l  Downloading https://files.pythonhosted.org/packages/c8/89/63171228d5ced148f5ced50305c89e8576ffc695a90b58fe5bb602b910c2/scipy-1.5.4-cp36-cp36m-manylinux1_x86_64.whl (25.9MB)\n",
            "\u001b[K     |████████████████████████████████| 25.9MB 67.5MB/s \n",
            "\u001b[?25hRequirement already satisfied, skipping upgrade: numpy>=1.14.5 in /usr/local/lib/python3.6/dist-packages (from scipy) (1.18.5)\n",
            "\u001b[31mERROR: tensorflow 2.3.0 has requirement scipy==1.4.1, but you'll have scipy 1.5.4 which is incompatible.\u001b[0m\n",
            "\u001b[31mERROR: albumentations 0.1.12 has requirement imgaug<0.2.7,>=0.2.5, but you'll have imgaug 0.2.9 which is incompatible.\u001b[0m\n",
            "Installing collected packages: scipy\n",
            "  Found existing installation: scipy 1.4.1\n",
            "    Uninstalling scipy-1.4.1:\n",
            "      Successfully uninstalled scipy-1.4.1\n",
            "Successfully installed scipy-1.5.4\n",
            "Collecting pandas_profiling\n",
            "\u001b[?25l  Downloading https://files.pythonhosted.org/packages/32/79/5d03ed1172e3e67a997a6a795bcdd2ab58f84851969d01a91455383795b6/pandas_profiling-2.9.0-py2.py3-none-any.whl (258kB)\n",
            "\u001b[K     |████████████████████████████████| 266kB 5.5MB/s \n",
            "\u001b[?25hRequirement already satisfied, skipping upgrade: pandas!=1.0.0,!=1.0.1,!=1.0.2,!=1.1.0,>=0.25.3 in /usr/local/lib/python3.6/dist-packages (from pandas_profiling) (1.1.4)\n",
            "Requirement already satisfied, skipping upgrade: matplotlib>=3.2.0 in /usr/local/lib/python3.6/dist-packages (from pandas_profiling) (3.2.2)\n",
            "Requirement already satisfied, skipping upgrade: jinja2>=2.11.1 in /usr/local/lib/python3.6/dist-packages (from pandas_profiling) (2.11.2)\n",
            "Collecting tangled-up-in-unicode>=0.0.6\n",
            "\u001b[?25l  Downloading https://files.pythonhosted.org/packages/4a/e2/e588ab9298d4989ce7fdb2b97d18aac878d99dbdc379a4476a09d9271b68/tangled_up_in_unicode-0.0.6-py3-none-any.whl (3.1MB)\n",
            "\u001b[K     |████████████████████████████████| 3.1MB 26.3MB/s \n",
            "\u001b[?25hCollecting tqdm>=4.43.0\n",
            "\u001b[?25l  Downloading https://files.pythonhosted.org/packages/dc/7e/bc84ebdb47cfc1f643d026570cb24dd40c2b7a29e167ea101f1702717658/tqdm-4.52.0-py2.py3-none-any.whl (71kB)\n",
            "\u001b[K     |████████████████████████████████| 71kB 9.1MB/s \n",
            "\u001b[?25hCollecting htmlmin>=0.1.12\n",
            "  Downloading https://files.pythonhosted.org/packages/b3/e7/fcd59e12169de19f0131ff2812077f964c6b960e7c09804d30a7bf2ab461/htmlmin-0.1.12.tar.gz\n",
            "Requirement already satisfied, skipping upgrade: joblib in /usr/local/lib/python3.6/dist-packages (from pandas_profiling) (0.17.0)\n",
            "Requirement already satisfied, skipping upgrade: attrs>=19.3.0 in /usr/local/lib/python3.6/dist-packages (from pandas_profiling) (20.2.0)\n",
            "Collecting visions[type_image_path]==0.5.0\n",
            "\u001b[?25l  Downloading https://files.pythonhosted.org/packages/26/e3/9416e94e767d59a86edcbcb8e1c8f42874d272c3b343676074879e9db0e0/visions-0.5.0-py3-none-any.whl (64kB)\n",
            "\u001b[K     |████████████████████████████████| 71kB 9.0MB/s \n",
            "\u001b[?25hRequirement already satisfied, skipping upgrade: missingno>=0.4.2 in /usr/local/lib/python3.6/dist-packages (from pandas_profiling) (0.4.2)\n",
            "Requirement already satisfied, skipping upgrade: scipy>=1.4.1 in /usr/local/lib/python3.6/dist-packages (from pandas_profiling) (1.5.4)\n",
            "Collecting confuse>=1.0.0\n",
            "\u001b[?25l  Downloading https://files.pythonhosted.org/packages/b5/6d/bedc0d1068bd244cee05843313cbec6cebb9f01f925538269bababc6d887/confuse-1.3.0-py2.py3-none-any.whl (64kB)\n",
            "\u001b[K     |████████████████████████████████| 71kB 8.6MB/s \n",
            "\u001b[?25hRequirement already satisfied, skipping upgrade: requests>=2.23.0 in /usr/local/lib/python3.6/dist-packages (from pandas_profiling) (2.23.0)\n",
            "Requirement already satisfied, skipping upgrade: numpy>=1.16.0 in /usr/local/lib/python3.6/dist-packages (from pandas_profiling) (1.18.5)\n",
            "Collecting phik>=0.9.10\n",
            "\u001b[?25l  Downloading https://files.pythonhosted.org/packages/01/5a/7ef1c04ce62cd72f900c06298dc2385840550d5c653a0dbc19109a5477e6/phik-0.10.0-py3-none-any.whl (599kB)\n",
            "\u001b[K     |████████████████████████████████| 604kB 34.2MB/s \n",
            "\u001b[?25hRequirement already satisfied, skipping upgrade: seaborn>=0.10.1 in /usr/local/lib/python3.6/dist-packages (from pandas_profiling) (0.11.0)\n",
            "Requirement already satisfied, skipping upgrade: ipywidgets>=7.5.1 in /usr/local/lib/python3.6/dist-packages (from pandas_profiling) (7.5.1)\n",
            "Requirement already satisfied, skipping upgrade: pytz>=2017.2 in /usr/local/lib/python3.6/dist-packages (from pandas!=1.0.0,!=1.0.1,!=1.0.2,!=1.1.0,>=0.25.3->pandas_profiling) (2018.9)\n",
            "Requirement already satisfied, skipping upgrade: python-dateutil>=2.7.3 in /usr/local/lib/python3.6/dist-packages (from pandas!=1.0.0,!=1.0.1,!=1.0.2,!=1.1.0,>=0.25.3->pandas_profiling) (2.8.1)\n",
            "Requirement already satisfied, skipping upgrade: cycler>=0.10 in /usr/local/lib/python3.6/dist-packages (from matplotlib>=3.2.0->pandas_profiling) (0.10.0)\n",
            "Requirement already satisfied, skipping upgrade: kiwisolver>=1.0.1 in /usr/local/lib/python3.6/dist-packages (from matplotlib>=3.2.0->pandas_profiling) (1.3.1)\n",
            "Requirement already satisfied, skipping upgrade: pyparsing!=2.0.4,!=2.1.2,!=2.1.6,>=2.0.1 in /usr/local/lib/python3.6/dist-packages (from matplotlib>=3.2.0->pandas_profiling) (2.4.7)\n",
            "Requirement already satisfied, skipping upgrade: MarkupSafe>=0.23 in /usr/local/lib/python3.6/dist-packages (from jinja2>=2.11.1->pandas_profiling) (1.1.1)\n",
            "Requirement already satisfied, skipping upgrade: networkx>=2.4 in /usr/local/lib/python3.6/dist-packages (from visions[type_image_path]==0.5.0->pandas_profiling) (2.5)\n",
            "Collecting imagehash; extra == \"type_image_path\"\n",
            "\u001b[?25l  Downloading https://files.pythonhosted.org/packages/8e/18/9dbb772b5ef73a3069c66bb5bf29b9fb4dd57af0d5790c781c3f559bcca6/ImageHash-4.2.0-py2.py3-none-any.whl (295kB)\n",
            "\u001b[K     |████████████████████████████████| 296kB 46.2MB/s \n",
            "\u001b[?25hRequirement already satisfied, skipping upgrade: Pillow; extra == \"type_image_path\" in /usr/local/lib/python3.6/dist-packages (from visions[type_image_path]==0.5.0->pandas_profiling) (7.0.0)\n",
            "Requirement already satisfied, skipping upgrade: pyyaml in /usr/local/lib/python3.6/dist-packages (from confuse>=1.0.0->pandas_profiling) (3.13)\n",
            "Requirement already satisfied, skipping upgrade: idna<3,>=2.5 in /usr/local/lib/python3.6/dist-packages (from requests>=2.23.0->pandas_profiling) (2.10)\n",
            "Requirement already satisfied, skipping upgrade: chardet<4,>=3.0.2 in /usr/local/lib/python3.6/dist-packages (from requests>=2.23.0->pandas_profiling) (3.0.4)\n",
            "Requirement already satisfied, skipping upgrade: certifi>=2017.4.17 in /usr/local/lib/python3.6/dist-packages (from requests>=2.23.0->pandas_profiling) (2020.6.20)\n",
            "Requirement already satisfied, skipping upgrade: urllib3!=1.25.0,!=1.25.1,<1.26,>=1.21.1 in /usr/local/lib/python3.6/dist-packages (from requests>=2.23.0->pandas_profiling) (1.24.3)\n",
            "Requirement already satisfied, skipping upgrade: numba>=0.38.1 in /usr/local/lib/python3.6/dist-packages (from phik>=0.9.10->pandas_profiling) (0.48.0)\n",
            "Requirement already satisfied, skipping upgrade: nbformat>=4.2.0 in /usr/local/lib/python3.6/dist-packages (from ipywidgets>=7.5.1->pandas_profiling) (5.0.8)\n",
            "Requirement already satisfied, skipping upgrade: traitlets>=4.3.1 in /usr/local/lib/python3.6/dist-packages (from ipywidgets>=7.5.1->pandas_profiling) (4.3.3)\n",
            "Requirement already satisfied, skipping upgrade: widgetsnbextension~=3.5.0 in /usr/local/lib/python3.6/dist-packages (from ipywidgets>=7.5.1->pandas_profiling) (3.5.1)\n",
            "Requirement already satisfied, skipping upgrade: ipykernel>=4.5.1 in /usr/local/lib/python3.6/dist-packages (from ipywidgets>=7.5.1->pandas_profiling) (4.10.1)\n",
            "Requirement already satisfied, skipping upgrade: ipython>=4.0.0; python_version >= \"3.3\" in /usr/local/lib/python3.6/dist-packages (from ipywidgets>=7.5.1->pandas_profiling) (5.5.0)\n",
            "Requirement already satisfied, skipping upgrade: six>=1.5 in /usr/local/lib/python3.6/dist-packages (from python-dateutil>=2.7.3->pandas!=1.0.0,!=1.0.1,!=1.0.2,!=1.1.0,>=0.25.3->pandas_profiling) (1.15.0)\n",
            "Requirement already satisfied, skipping upgrade: decorator>=4.3.0 in /usr/local/lib/python3.6/dist-packages (from networkx>=2.4->visions[type_image_path]==0.5.0->pandas_profiling) (4.4.2)\n",
            "Requirement already satisfied, skipping upgrade: PyWavelets in /usr/local/lib/python3.6/dist-packages (from imagehash; extra == \"type_image_path\"->visions[type_image_path]==0.5.0->pandas_profiling) (1.1.1)\n",
            "Requirement already satisfied, skipping upgrade: setuptools in /usr/local/lib/python3.6/dist-packages (from numba>=0.38.1->phik>=0.9.10->pandas_profiling) (50.3.2)\n",
            "Requirement already satisfied, skipping upgrade: llvmlite<0.32.0,>=0.31.0dev0 in /usr/local/lib/python3.6/dist-packages (from numba>=0.38.1->phik>=0.9.10->pandas_profiling) (0.31.0)\n",
            "Requirement already satisfied, skipping upgrade: jupyter-core in /usr/local/lib/python3.6/dist-packages (from nbformat>=4.2.0->ipywidgets>=7.5.1->pandas_profiling) (4.6.3)\n",
            "Requirement already satisfied, skipping upgrade: jsonschema!=2.5.0,>=2.4 in /usr/local/lib/python3.6/dist-packages (from nbformat>=4.2.0->ipywidgets>=7.5.1->pandas_profiling) (2.6.0)\n",
            "Requirement already satisfied, skipping upgrade: ipython-genutils in /usr/local/lib/python3.6/dist-packages (from nbformat>=4.2.0->ipywidgets>=7.5.1->pandas_profiling) (0.2.0)\n",
            "Requirement already satisfied, skipping upgrade: notebook>=4.4.1 in /usr/local/lib/python3.6/dist-packages (from widgetsnbextension~=3.5.0->ipywidgets>=7.5.1->pandas_profiling) (5.3.1)\n",
            "Requirement already satisfied, skipping upgrade: tornado>=4.0 in /usr/local/lib/python3.6/dist-packages (from ipykernel>=4.5.1->ipywidgets>=7.5.1->pandas_profiling) (5.1.1)\n",
            "Requirement already satisfied, skipping upgrade: jupyter-client in /usr/local/lib/python3.6/dist-packages (from ipykernel>=4.5.1->ipywidgets>=7.5.1->pandas_profiling) (5.3.5)\n",
            "Requirement already satisfied, skipping upgrade: prompt-toolkit<2.0.0,>=1.0.4 in /usr/local/lib/python3.6/dist-packages (from ipython>=4.0.0; python_version >= \"3.3\"->ipywidgets>=7.5.1->pandas_profiling) (1.0.18)\n",
            "Requirement already satisfied, skipping upgrade: pickleshare in /usr/local/lib/python3.6/dist-packages (from ipython>=4.0.0; python_version >= \"3.3\"->ipywidgets>=7.5.1->pandas_profiling) (0.7.5)\n",
            "Requirement already satisfied, skipping upgrade: pygments in /usr/local/lib/python3.6/dist-packages (from ipython>=4.0.0; python_version >= \"3.3\"->ipywidgets>=7.5.1->pandas_profiling) (2.6.1)\n",
            "Requirement already satisfied, skipping upgrade: simplegeneric>0.8 in /usr/local/lib/python3.6/dist-packages (from ipython>=4.0.0; python_version >= \"3.3\"->ipywidgets>=7.5.1->pandas_profiling) (0.8.1)\n",
            "Requirement already satisfied, skipping upgrade: pexpect; sys_platform != \"win32\" in /usr/local/lib/python3.6/dist-packages (from ipython>=4.0.0; python_version >= \"3.3\"->ipywidgets>=7.5.1->pandas_profiling) (4.8.0)\n",
            "Requirement already satisfied, skipping upgrade: nbconvert in /usr/local/lib/python3.6/dist-packages (from notebook>=4.4.1->widgetsnbextension~=3.5.0->ipywidgets>=7.5.1->pandas_profiling) (5.6.1)\n",
            "Requirement already satisfied, skipping upgrade: Send2Trash in /usr/local/lib/python3.6/dist-packages (from notebook>=4.4.1->widgetsnbextension~=3.5.0->ipywidgets>=7.5.1->pandas_profiling) (1.5.0)\n",
            "Requirement already satisfied, skipping upgrade: terminado>=0.8.1 in /usr/local/lib/python3.6/dist-packages (from notebook>=4.4.1->widgetsnbextension~=3.5.0->ipywidgets>=7.5.1->pandas_profiling) (0.9.1)\n",
            "Requirement already satisfied, skipping upgrade: pyzmq>=13 in /usr/local/lib/python3.6/dist-packages (from jupyter-client->ipykernel>=4.5.1->ipywidgets>=7.5.1->pandas_profiling) (19.0.2)\n",
            "Requirement already satisfied, skipping upgrade: wcwidth in /usr/local/lib/python3.6/dist-packages (from prompt-toolkit<2.0.0,>=1.0.4->ipython>=4.0.0; python_version >= \"3.3\"->ipywidgets>=7.5.1->pandas_profiling) (0.2.5)\n",
            "Requirement already satisfied, skipping upgrade: ptyprocess>=0.5 in /usr/local/lib/python3.6/dist-packages (from pexpect; sys_platform != \"win32\"->ipython>=4.0.0; python_version >= \"3.3\"->ipywidgets>=7.5.1->pandas_profiling) (0.6.0)\n",
            "Requirement already satisfied, skipping upgrade: testpath in /usr/local/lib/python3.6/dist-packages (from nbconvert->notebook>=4.4.1->widgetsnbextension~=3.5.0->ipywidgets>=7.5.1->pandas_profiling) (0.4.4)\n",
            "Requirement already satisfied, skipping upgrade: pandocfilters>=1.4.1 in /usr/local/lib/python3.6/dist-packages (from nbconvert->notebook>=4.4.1->widgetsnbextension~=3.5.0->ipywidgets>=7.5.1->pandas_profiling) (1.4.3)\n",
            "Requirement already satisfied, skipping upgrade: entrypoints>=0.2.2 in /usr/local/lib/python3.6/dist-packages (from nbconvert->notebook>=4.4.1->widgetsnbextension~=3.5.0->ipywidgets>=7.5.1->pandas_profiling) (0.3)\n",
            "Requirement already satisfied, skipping upgrade: bleach in /usr/local/lib/python3.6/dist-packages (from nbconvert->notebook>=4.4.1->widgetsnbextension~=3.5.0->ipywidgets>=7.5.1->pandas_profiling) (3.2.1)\n",
            "Requirement already satisfied, skipping upgrade: defusedxml in /usr/local/lib/python3.6/dist-packages (from nbconvert->notebook>=4.4.1->widgetsnbextension~=3.5.0->ipywidgets>=7.5.1->pandas_profiling) (0.6.0)\n",
            "Requirement already satisfied, skipping upgrade: mistune<2,>=0.8.1 in /usr/local/lib/python3.6/dist-packages (from nbconvert->notebook>=4.4.1->widgetsnbextension~=3.5.0->ipywidgets>=7.5.1->pandas_profiling) (0.8.4)\n",
            "Requirement already satisfied, skipping upgrade: webencodings in /usr/local/lib/python3.6/dist-packages (from bleach->nbconvert->notebook>=4.4.1->widgetsnbextension~=3.5.0->ipywidgets>=7.5.1->pandas_profiling) (0.5.1)\n",
            "Requirement already satisfied, skipping upgrade: packaging in /usr/local/lib/python3.6/dist-packages (from bleach->nbconvert->notebook>=4.4.1->widgetsnbextension~=3.5.0->ipywidgets>=7.5.1->pandas_profiling) (20.4)\n",
            "Building wheels for collected packages: htmlmin\n",
            "  Building wheel for htmlmin (setup.py) ... \u001b[?25l\u001b[?25hdone\n",
            "  Created wheel for htmlmin: filename=htmlmin-0.1.12-cp36-none-any.whl size=27085 sha256=70038d131a76cefb950c4c966dfecbbf916d7294ed2574cffb598bca532ebaf3\n",
            "  Stored in directory: /root/.cache/pip/wheels/43/07/ac/7c5a9d708d65247ac1f94066cf1db075540b85716c30255459\n",
            "Successfully built htmlmin\n",
            "Installing collected packages: tangled-up-in-unicode, tqdm, htmlmin, imagehash, visions, confuse, phik, pandas-profiling\n",
            "  Found existing installation: tqdm 4.41.1\n",
            "    Uninstalling tqdm-4.41.1:\n",
            "      Successfully uninstalled tqdm-4.41.1\n",
            "  Found existing installation: pandas-profiling 1.4.1\n",
            "    Uninstalling pandas-profiling-1.4.1:\n",
            "      Successfully uninstalled pandas-profiling-1.4.1\n",
            "Successfully installed confuse-1.3.0 htmlmin-0.1.12 imagehash-4.2.0 pandas-profiling-2.9.0 phik-0.10.0 tangled-up-in-unicode-0.0.6 tqdm-4.52.0 visions-0.5.0\n",
            "Requirement already up-to-date: keras in /usr/local/lib/python3.6/dist-packages (2.4.3)\n",
            "Requirement already satisfied, skipping upgrade: h5py in /usr/local/lib/python3.6/dist-packages (from keras) (2.10.0)\n",
            "Requirement already satisfied, skipping upgrade: scipy>=0.14 in /usr/local/lib/python3.6/dist-packages (from keras) (1.5.4)\n",
            "Requirement already satisfied, skipping upgrade: numpy>=1.9.1 in /usr/local/lib/python3.6/dist-packages (from keras) (1.18.5)\n",
            "Requirement already satisfied, skipping upgrade: pyyaml in /usr/local/lib/python3.6/dist-packages (from keras) (3.13)\n",
            "Requirement already satisfied, skipping upgrade: six in /usr/local/lib/python3.6/dist-packages (from h5py->keras) (1.15.0)\n",
            "Collecting keras_metrics\n",
            "  Downloading https://files.pythonhosted.org/packages/32/c9/a87420da8e73de944e63a8e9cdcfb1f03ca31a7c4cdcdbd45d2cdf13275a/keras_metrics-1.1.0-py2.py3-none-any.whl\n",
            "Requirement already satisfied, skipping upgrade: Keras>=2.1.5 in /usr/local/lib/python3.6/dist-packages (from keras_metrics) (2.4.3)\n",
            "Requirement already satisfied, skipping upgrade: pyyaml in /usr/local/lib/python3.6/dist-packages (from Keras>=2.1.5->keras_metrics) (3.13)\n",
            "Requirement already satisfied, skipping upgrade: numpy>=1.9.1 in /usr/local/lib/python3.6/dist-packages (from Keras>=2.1.5->keras_metrics) (1.18.5)\n",
            "Requirement already satisfied, skipping upgrade: scipy>=0.14 in /usr/local/lib/python3.6/dist-packages (from Keras>=2.1.5->keras_metrics) (1.5.4)\n",
            "Requirement already satisfied, skipping upgrade: h5py in /usr/local/lib/python3.6/dist-packages (from Keras>=2.1.5->keras_metrics) (2.10.0)\n",
            "Requirement already satisfied, skipping upgrade: six in /usr/local/lib/python3.6/dist-packages (from h5py->Keras>=2.1.5->keras_metrics) (1.15.0)\n",
            "Installing collected packages: keras-metrics\n",
            "Successfully installed keras-metrics-1.1.0\n",
            "Collecting imbalanced-learn\n",
            "\u001b[?25l  Downloading https://files.pythonhosted.org/packages/c8/81/8db4d87b03b998fda7c6f835d807c9ae4e3b141f978597b8d7f31600be15/imbalanced_learn-0.7.0-py3-none-any.whl (167kB)\n",
            "\u001b[K     |████████████████████████████████| 174kB 5.6MB/s \n",
            "\u001b[?25hCollecting scikit-learn>=0.23\n",
            "\u001b[?25l  Downloading https://files.pythonhosted.org/packages/5c/a1/273def87037a7fb010512bbc5901c31cfddfca8080bc63b42b26e3cc55b3/scikit_learn-0.23.2-cp36-cp36m-manylinux1_x86_64.whl (6.8MB)\n",
            "\u001b[K     |████████████████████████████████| 6.8MB 15.7MB/s \n",
            "\u001b[?25hRequirement already satisfied, skipping upgrade: scipy>=0.19.1 in /usr/local/lib/python3.6/dist-packages (from imbalanced-learn) (1.5.4)\n",
            "Requirement already satisfied, skipping upgrade: numpy>=1.13.3 in /usr/local/lib/python3.6/dist-packages (from imbalanced-learn) (1.18.5)\n",
            "Requirement already satisfied, skipping upgrade: joblib>=0.11 in /usr/local/lib/python3.6/dist-packages (from imbalanced-learn) (0.17.0)\n",
            "Collecting threadpoolctl>=2.0.0\n",
            "  Downloading https://files.pythonhosted.org/packages/f7/12/ec3f2e203afa394a149911729357aa48affc59c20e2c1c8297a60f33f133/threadpoolctl-2.1.0-py3-none-any.whl\n",
            "Installing collected packages: threadpoolctl, scikit-learn, imbalanced-learn\n",
            "  Found existing installation: scikit-learn 0.22.2.post1\n",
            "    Uninstalling scikit-learn-0.22.2.post1:\n",
            "      Successfully uninstalled scikit-learn-0.22.2.post1\n",
            "  Found existing installation: imbalanced-learn 0.4.3\n",
            "    Uninstalling imbalanced-learn-0.4.3:\n",
            "      Successfully uninstalled imbalanced-learn-0.4.3\n",
            "Successfully installed imbalanced-learn-0.7.0 scikit-learn-0.23.2 threadpoolctl-2.1.0\n"
          ],
          "name": "stdout"
        }
      ]
    },
    {
      "cell_type": "code",
      "metadata": {
        "id": "k8-hlEB68wHS"
      },
      "source": [
        "from keras import *\n",
        "import tensorflow as tf\n",
        "import pandas as pd\n",
        "import numpy as np\n",
        "from sklearn.model_selection import train_test_split\n",
        "from sklearn.metrics import mean_squared_error\n",
        "import matplotlib.pyplot as plt\n",
        "from keras.layers import Activation, LeakyReLU\n",
        "from tensorflow.keras.activations import sigmoid\n",
        "from keras.utils.generic_utils import get_custom_objects\n",
        "from keras import backend as K\n",
        "from sklearn.preprocessing import StandardScaler\n",
        "import os \n",
        "import statistics"
      ],
      "execution_count": null,
      "outputs": []
    },
    {
      "cell_type": "code",
      "metadata": {
        "id": "NYWMn25d_k9K"
      },
      "source": [
        "X_train = pd.read_csv(\"https://raw.githubusercontent.com/jimmypuntoexe/advanceML/master/assignment2/data/X_train.csv\")\n",
        "X_test = pd.read_csv(\"https://raw.githubusercontent.com/jimmypuntoexe/advanceML/master/assignment2/data/X_test.csv\")\n",
        "y_train = pd.read_csv(\"https://raw.githubusercontent.com/jimmypuntoexe/advanceML/master/assignment2/data/y_train.csv\")"
      ],
      "execution_count": null,
      "outputs": []
    },
    {
      "cell_type": "code",
      "metadata": {
        "colab": {
          "base_uri": "https://localhost:8080/",
          "height": 317
        },
        "id": "FC8He4_X72Nh",
        "outputId": "4841273c-c1ed-43d5-b073-d24ad43d6adc"
      },
      "source": [
        "X_train.describe()"
      ],
      "execution_count": null,
      "outputs": [
        {
          "output_type": "execute_result",
          "data": {
            "text/html": [
              "<div>\n",
              "<style scoped>\n",
              "    .dataframe tbody tr th:only-of-type {\n",
              "        vertical-align: middle;\n",
              "    }\n",
              "\n",
              "    .dataframe tbody tr th {\n",
              "        vertical-align: top;\n",
              "    }\n",
              "\n",
              "    .dataframe thead th {\n",
              "        text-align: right;\n",
              "    }\n",
              "</style>\n",
              "<table border=\"1\" class=\"dataframe\">\n",
              "  <thead>\n",
              "    <tr style=\"text-align: right;\">\n",
              "      <th></th>\n",
              "      <th>ID</th>\n",
              "      <th>LIMIT_BAL</th>\n",
              "      <th>SEX</th>\n",
              "      <th>EDUCATION</th>\n",
              "      <th>MARRIAGE</th>\n",
              "      <th>AGE</th>\n",
              "      <th>PAY_0</th>\n",
              "      <th>PAY_2</th>\n",
              "      <th>PAY_3</th>\n",
              "      <th>PAY_4</th>\n",
              "      <th>PAY_5</th>\n",
              "      <th>PAY_6</th>\n",
              "      <th>BILL_AMT1</th>\n",
              "      <th>BILL_AMT2</th>\n",
              "      <th>BILL_AMT3</th>\n",
              "      <th>BILL_AMT4</th>\n",
              "      <th>BILL_AMT5</th>\n",
              "      <th>BILL_AMT6</th>\n",
              "      <th>PAY_AMT1</th>\n",
              "      <th>PAY_AMT2</th>\n",
              "      <th>PAY_AMT3</th>\n",
              "      <th>PAY_AMT4</th>\n",
              "      <th>PAY_AMT5</th>\n",
              "      <th>PAY_AMT6</th>\n",
              "    </tr>\n",
              "  </thead>\n",
              "  <tbody>\n",
              "    <tr>\n",
              "      <th>count</th>\n",
              "      <td>24000.000000</td>\n",
              "      <td>24000.000000</td>\n",
              "      <td>24000.000000</td>\n",
              "      <td>24000.000000</td>\n",
              "      <td>24000.000000</td>\n",
              "      <td>24000.000000</td>\n",
              "      <td>24000.000000</td>\n",
              "      <td>24000.000000</td>\n",
              "      <td>24000.000000</td>\n",
              "      <td>24000.000000</td>\n",
              "      <td>24000.000000</td>\n",
              "      <td>24000.000000</td>\n",
              "      <td>24000.000000</td>\n",
              "      <td>24000.000000</td>\n",
              "      <td>2.400000e+04</td>\n",
              "      <td>24000.000000</td>\n",
              "      <td>24000.000000</td>\n",
              "      <td>24000.000000</td>\n",
              "      <td>24000.000000</td>\n",
              "      <td>2.400000e+04</td>\n",
              "      <td>24000.000000</td>\n",
              "      <td>24000.000000</td>\n",
              "      <td>24000.000000</td>\n",
              "      <td>24000.000000</td>\n",
              "    </tr>\n",
              "    <tr>\n",
              "      <th>mean</th>\n",
              "      <td>15010.821708</td>\n",
              "      <td>167226.653333</td>\n",
              "      <td>1.604917</td>\n",
              "      <td>1.854000</td>\n",
              "      <td>1.551417</td>\n",
              "      <td>35.494375</td>\n",
              "      <td>-0.016667</td>\n",
              "      <td>-0.131375</td>\n",
              "      <td>-0.168167</td>\n",
              "      <td>-0.220417</td>\n",
              "      <td>-0.265167</td>\n",
              "      <td>-0.288750</td>\n",
              "      <td>50927.468417</td>\n",
              "      <td>48914.770500</td>\n",
              "      <td>4.675708e+04</td>\n",
              "      <td>43013.532167</td>\n",
              "      <td>40150.333000</td>\n",
              "      <td>38763.540458</td>\n",
              "      <td>5670.826542</td>\n",
              "      <td>5.961101e+03</td>\n",
              "      <td>5258.246500</td>\n",
              "      <td>4880.847125</td>\n",
              "      <td>4818.849250</td>\n",
              "      <td>5159.462125</td>\n",
              "    </tr>\n",
              "    <tr>\n",
              "      <th>std</th>\n",
              "      <td>8680.406114</td>\n",
              "      <td>129734.959196</td>\n",
              "      <td>0.488879</td>\n",
              "      <td>0.792176</td>\n",
              "      <td>0.522766</td>\n",
              "      <td>9.235160</td>\n",
              "      <td>1.126473</td>\n",
              "      <td>1.197675</td>\n",
              "      <td>1.191685</td>\n",
              "      <td>1.168107</td>\n",
              "      <td>1.132949</td>\n",
              "      <td>1.152394</td>\n",
              "      <td>73400.840274</td>\n",
              "      <td>70923.493353</td>\n",
              "      <td>6.926506e+04</td>\n",
              "      <td>64069.494705</td>\n",
              "      <td>60635.882129</td>\n",
              "      <td>59281.986863</td>\n",
              "      <td>17084.401034</td>\n",
              "      <td>2.428412e+04</td>\n",
              "      <td>18242.618988</td>\n",
              "      <td>16304.718844</td>\n",
              "      <td>15619.425964</td>\n",
              "      <td>17458.604219</td>\n",
              "    </tr>\n",
              "    <tr>\n",
              "      <th>min</th>\n",
              "      <td>1.000000</td>\n",
              "      <td>10000.000000</td>\n",
              "      <td>1.000000</td>\n",
              "      <td>0.000000</td>\n",
              "      <td>0.000000</td>\n",
              "      <td>21.000000</td>\n",
              "      <td>-2.000000</td>\n",
              "      <td>-2.000000</td>\n",
              "      <td>-2.000000</td>\n",
              "      <td>-2.000000</td>\n",
              "      <td>-2.000000</td>\n",
              "      <td>-2.000000</td>\n",
              "      <td>-165580.000000</td>\n",
              "      <td>-69777.000000</td>\n",
              "      <td>-1.572640e+05</td>\n",
              "      <td>-170000.000000</td>\n",
              "      <td>-81334.000000</td>\n",
              "      <td>-209051.000000</td>\n",
              "      <td>0.000000</td>\n",
              "      <td>0.000000e+00</td>\n",
              "      <td>0.000000</td>\n",
              "      <td>0.000000</td>\n",
              "      <td>0.000000</td>\n",
              "      <td>0.000000</td>\n",
              "    </tr>\n",
              "    <tr>\n",
              "      <th>25%</th>\n",
              "      <td>7452.500000</td>\n",
              "      <td>50000.000000</td>\n",
              "      <td>1.000000</td>\n",
              "      <td>1.000000</td>\n",
              "      <td>1.000000</td>\n",
              "      <td>28.000000</td>\n",
              "      <td>-1.000000</td>\n",
              "      <td>-1.000000</td>\n",
              "      <td>-1.000000</td>\n",
              "      <td>-1.000000</td>\n",
              "      <td>-1.000000</td>\n",
              "      <td>-1.000000</td>\n",
              "      <td>3537.000000</td>\n",
              "      <td>2989.750000</td>\n",
              "      <td>2.699500e+03</td>\n",
              "      <td>2329.000000</td>\n",
              "      <td>1763.000000</td>\n",
              "      <td>1271.750000</td>\n",
              "      <td>1000.000000</td>\n",
              "      <td>8.615000e+02</td>\n",
              "      <td>390.000000</td>\n",
              "      <td>285.750000</td>\n",
              "      <td>240.750000</td>\n",
              "      <td>112.750000</td>\n",
              "    </tr>\n",
              "    <tr>\n",
              "      <th>50%</th>\n",
              "      <td>15061.500000</td>\n",
              "      <td>140000.000000</td>\n",
              "      <td>2.000000</td>\n",
              "      <td>2.000000</td>\n",
              "      <td>2.000000</td>\n",
              "      <td>34.000000</td>\n",
              "      <td>0.000000</td>\n",
              "      <td>0.000000</td>\n",
              "      <td>0.000000</td>\n",
              "      <td>0.000000</td>\n",
              "      <td>0.000000</td>\n",
              "      <td>0.000000</td>\n",
              "      <td>22321.500000</td>\n",
              "      <td>21140.500000</td>\n",
              "      <td>2.005000e+04</td>\n",
              "      <td>19010.000000</td>\n",
              "      <td>18085.000000</td>\n",
              "      <td>17108.500000</td>\n",
              "      <td>2100.000000</td>\n",
              "      <td>2.007000e+03</td>\n",
              "      <td>1800.000000</td>\n",
              "      <td>1500.000000</td>\n",
              "      <td>1500.000000</td>\n",
              "      <td>1500.000000</td>\n",
              "    </tr>\n",
              "    <tr>\n",
              "      <th>75%</th>\n",
              "      <td>22509.250000</td>\n",
              "      <td>240000.000000</td>\n",
              "      <td>2.000000</td>\n",
              "      <td>2.000000</td>\n",
              "      <td>2.000000</td>\n",
              "      <td>42.000000</td>\n",
              "      <td>0.000000</td>\n",
              "      <td>0.000000</td>\n",
              "      <td>0.000000</td>\n",
              "      <td>0.000000</td>\n",
              "      <td>0.000000</td>\n",
              "      <td>0.000000</td>\n",
              "      <td>66377.000000</td>\n",
              "      <td>63035.250000</td>\n",
              "      <td>5.952925e+04</td>\n",
              "      <td>53927.750000</td>\n",
              "      <td>50007.500000</td>\n",
              "      <td>49101.750000</td>\n",
              "      <td>5005.000000</td>\n",
              "      <td>5.000000e+03</td>\n",
              "      <td>4500.000000</td>\n",
              "      <td>4000.000000</td>\n",
              "      <td>4021.000000</td>\n",
              "      <td>4000.000000</td>\n",
              "    </tr>\n",
              "    <tr>\n",
              "      <th>max</th>\n",
              "      <td>29999.000000</td>\n",
              "      <td>1000000.000000</td>\n",
              "      <td>2.000000</td>\n",
              "      <td>6.000000</td>\n",
              "      <td>3.000000</td>\n",
              "      <td>79.000000</td>\n",
              "      <td>8.000000</td>\n",
              "      <td>8.000000</td>\n",
              "      <td>8.000000</td>\n",
              "      <td>8.000000</td>\n",
              "      <td>8.000000</td>\n",
              "      <td>8.000000</td>\n",
              "      <td>964511.000000</td>\n",
              "      <td>983931.000000</td>\n",
              "      <td>1.664089e+06</td>\n",
              "      <td>891586.000000</td>\n",
              "      <td>927171.000000</td>\n",
              "      <td>961664.000000</td>\n",
              "      <td>873552.000000</td>\n",
              "      <td>1.684259e+06</td>\n",
              "      <td>896040.000000</td>\n",
              "      <td>621000.000000</td>\n",
              "      <td>426529.000000</td>\n",
              "      <td>527143.000000</td>\n",
              "    </tr>\n",
              "  </tbody>\n",
              "</table>\n",
              "</div>"
            ],
            "text/plain": [
              "                 ID       LIMIT_BAL  ...       PAY_AMT5       PAY_AMT6\n",
              "count  24000.000000    24000.000000  ...   24000.000000   24000.000000\n",
              "mean   15010.821708   167226.653333  ...    4818.849250    5159.462125\n",
              "std     8680.406114   129734.959196  ...   15619.425964   17458.604219\n",
              "min        1.000000    10000.000000  ...       0.000000       0.000000\n",
              "25%     7452.500000    50000.000000  ...     240.750000     112.750000\n",
              "50%    15061.500000   140000.000000  ...    1500.000000    1500.000000\n",
              "75%    22509.250000   240000.000000  ...    4021.000000    4000.000000\n",
              "max    29999.000000  1000000.000000  ...  426529.000000  527143.000000\n",
              "\n",
              "[8 rows x 24 columns]"
            ]
          },
          "metadata": {
            "tags": []
          },
          "execution_count": 4
        }
      ]
    },
    {
      "cell_type": "code",
      "metadata": {
        "id": "V9YIea6H60dc",
        "colab": {
          "base_uri": "https://localhost:8080/"
        },
        "outputId": "5683610e-8885-42b9-87f8-87b31ffd5995"
      },
      "source": [
        "X_train.dtypes"
      ],
      "execution_count": null,
      "outputs": [
        {
          "output_type": "execute_result",
          "data": {
            "text/plain": [
              "ID             int64\n",
              "LIMIT_BAL    float64\n",
              "SEX            int64\n",
              "EDUCATION      int64\n",
              "MARRIAGE       int64\n",
              "AGE            int64\n",
              "PAY_0          int64\n",
              "PAY_2          int64\n",
              "PAY_3          int64\n",
              "PAY_4          int64\n",
              "PAY_5          int64\n",
              "PAY_6          int64\n",
              "BILL_AMT1    float64\n",
              "BILL_AMT2    float64\n",
              "BILL_AMT3    float64\n",
              "BILL_AMT4    float64\n",
              "BILL_AMT5    float64\n",
              "BILL_AMT6    float64\n",
              "PAY_AMT1     float64\n",
              "PAY_AMT2     float64\n",
              "PAY_AMT3     float64\n",
              "PAY_AMT4     float64\n",
              "PAY_AMT5     float64\n",
              "PAY_AMT6     float64\n",
              "dtype: object"
            ]
          },
          "metadata": {
            "tags": []
          },
          "execution_count": 5
        }
      ]
    },
    {
      "cell_type": "markdown",
      "metadata": {
        "id": "59hFZ4cH4EJk"
      },
      "source": [
        ""
      ]
    },
    {
      "cell_type": "code",
      "metadata": {
        "id": "gWpS6rY9FL1c",
        "colab": {
          "base_uri": "https://localhost:8080/",
          "height": 297
        },
        "outputId": "340e773f-7b11-49a0-fce6-6222341154b1"
      },
      "source": [
        "y_train.describe()"
      ],
      "execution_count": null,
      "outputs": [
        {
          "output_type": "execute_result",
          "data": {
            "text/html": [
              "<div>\n",
              "<style scoped>\n",
              "    .dataframe tbody tr th:only-of-type {\n",
              "        vertical-align: middle;\n",
              "    }\n",
              "\n",
              "    .dataframe tbody tr th {\n",
              "        vertical-align: top;\n",
              "    }\n",
              "\n",
              "    .dataframe thead th {\n",
              "        text-align: right;\n",
              "    }\n",
              "</style>\n",
              "<table border=\"1\" class=\"dataframe\">\n",
              "  <thead>\n",
              "    <tr style=\"text-align: right;\">\n",
              "      <th></th>\n",
              "      <th>ID</th>\n",
              "      <th>default.payment.next.month</th>\n",
              "    </tr>\n",
              "  </thead>\n",
              "  <tbody>\n",
              "    <tr>\n",
              "      <th>count</th>\n",
              "      <td>24000.000000</td>\n",
              "      <td>24000.000000</td>\n",
              "    </tr>\n",
              "    <tr>\n",
              "      <th>mean</th>\n",
              "      <td>15010.821708</td>\n",
              "      <td>0.221792</td>\n",
              "    </tr>\n",
              "    <tr>\n",
              "      <th>std</th>\n",
              "      <td>8680.406114</td>\n",
              "      <td>0.415460</td>\n",
              "    </tr>\n",
              "    <tr>\n",
              "      <th>min</th>\n",
              "      <td>1.000000</td>\n",
              "      <td>0.000000</td>\n",
              "    </tr>\n",
              "    <tr>\n",
              "      <th>25%</th>\n",
              "      <td>7452.500000</td>\n",
              "      <td>0.000000</td>\n",
              "    </tr>\n",
              "    <tr>\n",
              "      <th>50%</th>\n",
              "      <td>15061.500000</td>\n",
              "      <td>0.000000</td>\n",
              "    </tr>\n",
              "    <tr>\n",
              "      <th>75%</th>\n",
              "      <td>22509.250000</td>\n",
              "      <td>0.000000</td>\n",
              "    </tr>\n",
              "    <tr>\n",
              "      <th>max</th>\n",
              "      <td>29999.000000</td>\n",
              "      <td>1.000000</td>\n",
              "    </tr>\n",
              "  </tbody>\n",
              "</table>\n",
              "</div>"
            ],
            "text/plain": [
              "                 ID  default.payment.next.month\n",
              "count  24000.000000                24000.000000\n",
              "mean   15010.821708                    0.221792\n",
              "std     8680.406114                    0.415460\n",
              "min        1.000000                    0.000000\n",
              "25%     7452.500000                    0.000000\n",
              "50%    15061.500000                    0.000000\n",
              "75%    22509.250000                    0.000000\n",
              "max    29999.000000                    1.000000"
            ]
          },
          "metadata": {
            "tags": []
          },
          "execution_count": 6
        }
      ]
    },
    {
      "cell_type": "markdown",
      "metadata": {
        "id": "UFVFAQ-DJ0t6"
      },
      "source": [
        "**Correlation**"
      ]
    },
    {
      "cell_type": "code",
      "metadata": {
        "id": "u2E_4v4cKAe6",
        "colab": {
          "base_uri": "https://localhost:8080/",
          "height": 712
        },
        "outputId": "86b00384-e531-4433-df52-5c450cdb37d8"
      },
      "source": [
        "import matplotlib.pyplot as plt\n",
        "\n",
        "correlation = X_train.corr('spearman')\n",
        "f = plt.figure(figsize=(12, 12))\n",
        "m = plt.matshow(correlation, fignum=f.number, cmap=plt.cm.coolwarm)\n",
        "plt.xticks(range(X_train.shape[1]), X_train.columns, fontsize=10, rotation=90)\n",
        "plt.yticks(range(X_train.shape[1]), X_train.columns, fontsize=10, rotation=0)\n",
        "plt.colorbar(m, fraction=0.046, pad=0.04)\n",
        "plt.show()"
      ],
      "execution_count": null,
      "outputs": [
        {
          "output_type": "display_data",
          "data": {
            "image/png": "[encoded data removed]",
            "text/plain": [
              "<Figure size 864x864 with 2 Axes>"
            ]
          },
          "metadata": {
            "tags": [],
            "needs_background": "light"
          }
        }
      ]
    },
    {
      "cell_type": "code",
      "metadata": {
        "id": "KnzSUtNYKRy6",
        "colab": {
          "base_uri": "https://localhost:8080/"
        },
        "outputId": "03606975-2154-4ef1-f110-8ee3a5c792e8"
      },
      "source": [
        "y_train['default.payment.next.month'].value_counts()"
      ],
      "execution_count": null,
      "outputs": [
        {
          "output_type": "execute_result",
          "data": {
            "text/plain": [
              "0    18677\n",
              "1     5323\n",
              "Name: default.payment.next.month, dtype: int64"
            ]
          },
          "metadata": {
            "tags": []
          },
          "execution_count": 7
        }
      ]
    },
    {
      "cell_type": "code",
      "metadata": {
        "id": "Be_VS9MbKd-L"
      },
      "source": [
        "def preprocess_data(X, scaler=None):\n",
        "    columns = X.columns\n",
        "    \"\"\"Preprocess input data by standardise features \n",
        "    by removing the mean and scaling to unit variance\"\"\"\n",
        "    if not scaler:\n",
        "        scaler = StandardScaler()\n",
        "        scaler.fit(X)\n",
        "    X[columns] = scaler.transform(X[columns])\n",
        "    return X, scaler"
      ],
      "execution_count": null,
      "outputs": []
    },
    {
      "cell_type": "code",
      "metadata": {
        "id": "rvzAI0TrPk2f",
        "colab": {
          "base_uri": "https://localhost:8080/"
        },
        "outputId": "3612a340-1e1b-4697-a8dc-5f2d2a7f917c"
      },
      "source": [
        "print('Train dims', X_train.shape)\n",
        "print('Test dims', X_test.shape)\n",
        "print('Target dims', y_train.shape)\n"
      ],
      "execution_count": null,
      "outputs": [
        {
          "output_type": "stream",
          "text": [
            "Train dims (24000, 24)\n",
            "Test dims (6000, 24)\n",
            "Target dims (24000, 2)\n"
          ],
          "name": "stdout"
        }
      ]
    },
    {
      "cell_type": "code",
      "metadata": {
        "id": "JvTkHbjhdlSB",
        "colab": {
          "base_uri": "https://localhost:8080/",
          "height": 317
        },
        "outputId": "a13eb466-920a-4cee-c2bf-03209c2ad772"
      },
      "source": [
        "\n",
        "y_train.drop(['ID'], axis=1, inplace=True)\n",
        "X_train.drop(['ID'], axis=1, inplace=True)\n",
        "X_test.drop(['ID'], axis=1, inplace=True)\n",
        "X_train.loc[X_train.EDUCATION > 5, \"EDUCATION\"] = 5\n",
        "\n",
        "X_train.describe()"
      ],
      "execution_count": null,
      "outputs": [
        {
          "output_type": "execute_result",
          "data": {
            "text/html": [
              "<div>\n",
              "<style scoped>\n",
              "    .dataframe tbody tr th:only-of-type {\n",
              "        vertical-align: middle;\n",
              "    }\n",
              "\n",
              "    .dataframe tbody tr th {\n",
              "        vertical-align: top;\n",
              "    }\n",
              "\n",
              "    .dataframe thead th {\n",
              "        text-align: right;\n",
              "    }\n",
              "</style>\n",
              "<table border=\"1\" class=\"dataframe\">\n",
              "  <thead>\n",
              "    <tr style=\"text-align: right;\">\n",
              "      <th></th>\n",
              "      <th>LIMIT_BAL</th>\n",
              "      <th>SEX</th>\n",
              "      <th>EDUCATION</th>\n",
              "      <th>MARRIAGE</th>\n",
              "      <th>AGE</th>\n",
              "      <th>PAY_0</th>\n",
              "      <th>PAY_2</th>\n",
              "      <th>PAY_3</th>\n",
              "      <th>PAY_4</th>\n",
              "      <th>PAY_5</th>\n",
              "      <th>PAY_6</th>\n",
              "      <th>BILL_AMT1</th>\n",
              "      <th>BILL_AMT2</th>\n",
              "      <th>BILL_AMT3</th>\n",
              "      <th>BILL_AMT4</th>\n",
              "      <th>BILL_AMT5</th>\n",
              "      <th>BILL_AMT6</th>\n",
              "      <th>PAY_AMT1</th>\n",
              "      <th>PAY_AMT2</th>\n",
              "      <th>PAY_AMT3</th>\n",
              "      <th>PAY_AMT4</th>\n",
              "      <th>PAY_AMT5</th>\n",
              "      <th>PAY_AMT6</th>\n",
              "    </tr>\n",
              "  </thead>\n",
              "  <tbody>\n",
              "    <tr>\n",
              "      <th>count</th>\n",
              "      <td>24000.000000</td>\n",
              "      <td>24000.000000</td>\n",
              "      <td>24000.000000</td>\n",
              "      <td>24000.000000</td>\n",
              "      <td>24000.000000</td>\n",
              "      <td>24000.000000</td>\n",
              "      <td>24000.000000</td>\n",
              "      <td>24000.000000</td>\n",
              "      <td>24000.000000</td>\n",
              "      <td>24000.000000</td>\n",
              "      <td>24000.000000</td>\n",
              "      <td>24000.000000</td>\n",
              "      <td>24000.000000</td>\n",
              "      <td>2.400000e+04</td>\n",
              "      <td>24000.000000</td>\n",
              "      <td>24000.000000</td>\n",
              "      <td>24000.000000</td>\n",
              "      <td>24000.000000</td>\n",
              "      <td>2.400000e+04</td>\n",
              "      <td>24000.000000</td>\n",
              "      <td>24000.000000</td>\n",
              "      <td>24000.000000</td>\n",
              "      <td>24000.000000</td>\n",
              "    </tr>\n",
              "    <tr>\n",
              "      <th>mean</th>\n",
              "      <td>167226.653333</td>\n",
              "      <td>1.604917</td>\n",
              "      <td>1.852208</td>\n",
              "      <td>1.551417</td>\n",
              "      <td>35.494375</td>\n",
              "      <td>-0.016667</td>\n",
              "      <td>-0.131375</td>\n",
              "      <td>-0.168167</td>\n",
              "      <td>-0.220417</td>\n",
              "      <td>-0.265167</td>\n",
              "      <td>-0.288750</td>\n",
              "      <td>50927.468417</td>\n",
              "      <td>48914.770500</td>\n",
              "      <td>4.675708e+04</td>\n",
              "      <td>43013.532167</td>\n",
              "      <td>40150.333000</td>\n",
              "      <td>38763.540458</td>\n",
              "      <td>5670.826542</td>\n",
              "      <td>5.961101e+03</td>\n",
              "      <td>5258.246500</td>\n",
              "      <td>4880.847125</td>\n",
              "      <td>4818.849250</td>\n",
              "      <td>5159.462125</td>\n",
              "    </tr>\n",
              "    <tr>\n",
              "      <th>std</th>\n",
              "      <td>129734.959196</td>\n",
              "      <td>0.488879</td>\n",
              "      <td>0.783884</td>\n",
              "      <td>0.522766</td>\n",
              "      <td>9.235160</td>\n",
              "      <td>1.126473</td>\n",
              "      <td>1.197675</td>\n",
              "      <td>1.191685</td>\n",
              "      <td>1.168107</td>\n",
              "      <td>1.132949</td>\n",
              "      <td>1.152394</td>\n",
              "      <td>73400.840274</td>\n",
              "      <td>70923.493353</td>\n",
              "      <td>6.926506e+04</td>\n",
              "      <td>64069.494705</td>\n",
              "      <td>60635.882129</td>\n",
              "      <td>59281.986863</td>\n",
              "      <td>17084.401034</td>\n",
              "      <td>2.428412e+04</td>\n",
              "      <td>18242.618988</td>\n",
              "      <td>16304.718844</td>\n",
              "      <td>15619.425964</td>\n",
              "      <td>17458.604219</td>\n",
              "    </tr>\n",
              "    <tr>\n",
              "      <th>min</th>\n",
              "      <td>10000.000000</td>\n",
              "      <td>1.000000</td>\n",
              "      <td>0.000000</td>\n",
              "      <td>0.000000</td>\n",
              "      <td>21.000000</td>\n",
              "      <td>-2.000000</td>\n",
              "      <td>-2.000000</td>\n",
              "      <td>-2.000000</td>\n",
              "      <td>-2.000000</td>\n",
              "      <td>-2.000000</td>\n",
              "      <td>-2.000000</td>\n",
              "      <td>-165580.000000</td>\n",
              "      <td>-69777.000000</td>\n",
              "      <td>-1.572640e+05</td>\n",
              "      <td>-170000.000000</td>\n",
              "      <td>-81334.000000</td>\n",
              "      <td>-209051.000000</td>\n",
              "      <td>0.000000</td>\n",
              "      <td>0.000000e+00</td>\n",
              "      <td>0.000000</td>\n",
              "      <td>0.000000</td>\n",
              "      <td>0.000000</td>\n",
              "      <td>0.000000</td>\n",
              "    </tr>\n",
              "    <tr>\n",
              "      <th>25%</th>\n",
              "      <td>50000.000000</td>\n",
              "      <td>1.000000</td>\n",
              "      <td>1.000000</td>\n",
              "      <td>1.000000</td>\n",
              "      <td>28.000000</td>\n",
              "      <td>-1.000000</td>\n",
              "      <td>-1.000000</td>\n",
              "      <td>-1.000000</td>\n",
              "      <td>-1.000000</td>\n",
              "      <td>-1.000000</td>\n",
              "      <td>-1.000000</td>\n",
              "      <td>3537.000000</td>\n",
              "      <td>2989.750000</td>\n",
              "      <td>2.699500e+03</td>\n",
              "      <td>2329.000000</td>\n",
              "      <td>1763.000000</td>\n",
              "      <td>1271.750000</td>\n",
              "      <td>1000.000000</td>\n",
              "      <td>8.615000e+02</td>\n",
              "      <td>390.000000</td>\n",
              "      <td>285.750000</td>\n",
              "      <td>240.750000</td>\n",
              "      <td>112.750000</td>\n",
              "    </tr>\n",
              "    <tr>\n",
              "      <th>50%</th>\n",
              "      <td>140000.000000</td>\n",
              "      <td>2.000000</td>\n",
              "      <td>2.000000</td>\n",
              "      <td>2.000000</td>\n",
              "      <td>34.000000</td>\n",
              "      <td>0.000000</td>\n",
              "      <td>0.000000</td>\n",
              "      <td>0.000000</td>\n",
              "      <td>0.000000</td>\n",
              "      <td>0.000000</td>\n",
              "      <td>0.000000</td>\n",
              "      <td>22321.500000</td>\n",
              "      <td>21140.500000</td>\n",
              "      <td>2.005000e+04</td>\n",
              "      <td>19010.000000</td>\n",
              "      <td>18085.000000</td>\n",
              "      <td>17108.500000</td>\n",
              "      <td>2100.000000</td>\n",
              "      <td>2.007000e+03</td>\n",
              "      <td>1800.000000</td>\n",
              "      <td>1500.000000</td>\n",
              "      <td>1500.000000</td>\n",
              "      <td>1500.000000</td>\n",
              "    </tr>\n",
              "    <tr>\n",
              "      <th>75%</th>\n",
              "      <td>240000.000000</td>\n",
              "      <td>2.000000</td>\n",
              "      <td>2.000000</td>\n",
              "      <td>2.000000</td>\n",
              "      <td>42.000000</td>\n",
              "      <td>0.000000</td>\n",
              "      <td>0.000000</td>\n",
              "      <td>0.000000</td>\n",
              "      <td>0.000000</td>\n",
              "      <td>0.000000</td>\n",
              "      <td>0.000000</td>\n",
              "      <td>66377.000000</td>\n",
              "      <td>63035.250000</td>\n",
              "      <td>5.952925e+04</td>\n",
              "      <td>53927.750000</td>\n",
              "      <td>50007.500000</td>\n",
              "      <td>49101.750000</td>\n",
              "      <td>5005.000000</td>\n",
              "      <td>5.000000e+03</td>\n",
              "      <td>4500.000000</td>\n",
              "      <td>4000.000000</td>\n",
              "      <td>4021.000000</td>\n",
              "      <td>4000.000000</td>\n",
              "    </tr>\n",
              "    <tr>\n",
              "      <th>max</th>\n",
              "      <td>1000000.000000</td>\n",
              "      <td>2.000000</td>\n",
              "      <td>5.000000</td>\n",
              "      <td>3.000000</td>\n",
              "      <td>79.000000</td>\n",
              "      <td>8.000000</td>\n",
              "      <td>8.000000</td>\n",
              "      <td>8.000000</td>\n",
              "      <td>8.000000</td>\n",
              "      <td>8.000000</td>\n",
              "      <td>8.000000</td>\n",
              "      <td>964511.000000</td>\n",
              "      <td>983931.000000</td>\n",
              "      <td>1.664089e+06</td>\n",
              "      <td>891586.000000</td>\n",
              "      <td>927171.000000</td>\n",
              "      <td>961664.000000</td>\n",
              "      <td>873552.000000</td>\n",
              "      <td>1.684259e+06</td>\n",
              "      <td>896040.000000</td>\n",
              "      <td>621000.000000</td>\n",
              "      <td>426529.000000</td>\n",
              "      <td>527143.000000</td>\n",
              "    </tr>\n",
              "  </tbody>\n",
              "</table>\n",
              "</div>"
            ],
            "text/plain": [
              "            LIMIT_BAL           SEX  ...       PAY_AMT5       PAY_AMT6\n",
              "count    24000.000000  24000.000000  ...   24000.000000   24000.000000\n",
              "mean    167226.653333      1.604917  ...    4818.849250    5159.462125\n",
              "std     129734.959196      0.488879  ...   15619.425964   17458.604219\n",
              "min      10000.000000      1.000000  ...       0.000000       0.000000\n",
              "25%      50000.000000      1.000000  ...     240.750000     112.750000\n",
              "50%     140000.000000      2.000000  ...    1500.000000    1500.000000\n",
              "75%     240000.000000      2.000000  ...    4021.000000    4000.000000\n",
              "max    1000000.000000      2.000000  ...  426529.000000  527143.000000\n",
              "\n",
              "[8 rows x 23 columns]"
            ]
          },
          "metadata": {
            "tags": []
          },
          "execution_count": 10
        }
      ]
    },
    {
      "cell_type": "code",
      "metadata": {
        "id": "ULEKc2IuRwhW"
      },
      "source": [
        "from imblearn.over_sampling import KMeansSMOTE\n",
        "\n",
        "smote = KMeansSMOTE(sampling_strategy='minority', random_state=42, kmeans_estimator=30, cluster_balance_threshold=0.25)\n",
        "x_over, y_over = smote.fit_resample(X_train.values, y_train.values)\n",
        "over_train = pd.DataFrame(x_over, columns=X_train.columns)\n"
      ],
      "execution_count": null,
      "outputs": []
    },
    {
      "cell_type": "code",
      "metadata": {
        "colab": {
          "base_uri": "https://localhost:8080/"
        },
        "id": "YELF6yHO3MHA",
        "outputId": "35c6eb5b-82d6-4f1c-8e99-4647638ef4c0"
      },
      "source": [
        "\n",
        "y_train=pd.DataFrame(y_over, columns=['default.payment.next.month'])\n",
        "\n",
        "y_train['default.payment.next.month'].value_counts()"
      ],
      "execution_count": null,
      "outputs": [
        {
          "output_type": "execute_result",
          "data": {
            "text/plain": [
              "1    18681\n",
              "0    18677\n",
              "Name: default.payment.next.month, dtype: int64"
            ]
          },
          "metadata": {
            "tags": []
          },
          "execution_count": 12
        }
      ]
    },
    {
      "cell_type": "code",
      "metadata": {
        "id": "evJVE5EuLz3p"
      },
      "source": [
        "X_train, scaler = preprocess_data(over_train)\n",
        "test_final, _ = preprocess_data(X_test, scaler)"
      ],
      "execution_count": null,
      "outputs": []
    },
    {
      "cell_type": "code",
      "metadata": {
        "id": "gqiIhB66L4z9"
      },
      "source": [
        "X_train, X_validation, y_train, y_validation = train_test_split(X_train, y_train, test_size=0.2, random_state=42)"
      ],
      "execution_count": null,
      "outputs": []
    },
    {
      "cell_type": "code",
      "metadata": {
        "id": "0CeIAdLpOwkZ",
        "colab": {
          "base_uri": "https://localhost:8080/"
        },
        "outputId": "c55f077f-6526-4645-fd5a-bbd01e875587"
      },
      "source": [
        "print('Train dims', X_train.shape)\n",
        "print('Test dims', X_test.shape)\n",
        "print('Target dims', y_train.shape)"
      ],
      "execution_count": null,
      "outputs": [
        {
          "output_type": "stream",
          "text": [
            "Train dims (29886, 23)\n",
            "Test dims (6000, 23)\n",
            "Target dims (29886, 1)\n"
          ],
          "name": "stdout"
        }
      ]
    },
    {
      "cell_type": "code",
      "metadata": {
        "id": "8EE5M_CnYylH"
      },
      "source": [
        "from tensorflow.keras import models\n",
        "from tensorflow.keras import layers\n",
        "from tensorflow.keras import optimizers\n",
        "from keras.datasets import fashion_mnist\n",
        "from keras.utils import np_utils\n",
        "from keras.models import Sequential\n",
        "from keras.layers.core import Dense, Dropout\n",
        "from keras.optimizers import SGD\n",
        "from sklearn.model_selection import train_test_split\n",
        "from tensorflow.keras import regularizers\n",
        "from keras.backend import abs, sum\n",
        "import tensorflow as tf\n",
        "import keras_metrics\n",
        "initializer = tf.keras.initializers.GlorotUniform(seed=1234) \n",
        "\n",
        "def NeuralNetwork():\n",
        "  dims = X_train.shape[1]\n",
        "  \n",
        "  #initial random wights seed because we see the changes make from regularization\n",
        "\n",
        "  model = Sequential()\n",
        "  model.add(Dense(256, input_shape=(dims,), activation = \"relu\", kernel_initializer=initializer))\n",
        "  model.add(Dense(128, activation = \"relu\", kernel_initializer=initializer))\n",
        "  model.add(Dense(32, activation = \"relu\", kernel_initializer=initializer))\n",
        "  model.add(Dense(16, activation = \"relu\", kernel_initializer=initializer))\n",
        "  model.add(Dense(1, activation = \"sigmoid\", kernel_initializer=initializer)) \n",
        "\n",
        "\n",
        "  model.compile(optimizer=SGD(lr=0.001), loss='binary_crossentropy',metrics=['accuracy', metrics.Precision(name='precision'), metrics.Recall(name='recall')])\n",
        "  return model\n"
      ],
      "execution_count": null,
      "outputs": []
    },
    {
      "cell_type": "code",
      "metadata": {
        "id": "TZbx62bbZFw9",
        "colab": {
          "base_uri": "https://localhost:8080/"
        },
        "outputId": "23883a16-e2f8-40a2-afc2-f60612a9d1ba"
      },
      "source": [
        "model = NeuralNetwork()\n",
        "model.summary()"
      ],
      "execution_count": null,
      "outputs": [
        {
          "output_type": "stream",
          "text": [
            "Model: \"sequential\"\n",
            "_________________________________________________________________\n",
            "Layer (type)                 Output Shape              Param #   \n",
            "=================================================================\n",
            "dense (Dense)                (None, 256)               6144      \n",
            "_________________________________________________________________\n",
            "dense_1 (Dense)              (None, 128)               32896     \n",
            "_________________________________________________________________\n",
            "dense_2 (Dense)              (None, 32)                4128      \n",
            "_________________________________________________________________\n",
            "dense_3 (Dense)              (None, 16)                528       \n",
            "_________________________________________________________________\n",
            "dense_4 (Dense)              (None, 1)                 17        \n",
            "=================================================================\n",
            "Total params: 43,713\n",
            "Trainable params: 43,713\n",
            "Non-trainable params: 0\n",
            "_________________________________________________________________\n"
          ],
          "name": "stdout"
        }
      ]
    },
    {
      "cell_type": "code",
      "metadata": {
        "colab": {
          "base_uri": "https://localhost:8080/"
        },
        "id": "GMZ2ttNTj1d5",
        "outputId": "0e79a744-305e-4576-d618-17161555b350"
      },
      "source": [
        "print('Xval dims', X_validation.shape)\n",
        "print('Yval dims', y_validation.shape)"
      ],
      "execution_count": null,
      "outputs": [
        {
          "output_type": "stream",
          "text": [
            "Xval dims (7472, 23)\n",
            "Yval dims (7472, 1)\n"
          ],
          "name": "stdout"
        }
      ]
    },
    {
      "cell_type": "code",
      "metadata": {
        "id": "qIJTH6vMb6Mp",
        "colab": {
          "base_uri": "https://localhost:8080/"
        },
        "outputId": "16e92b4a-239d-4648-fc91-fa20e58ce0ae"
      },
      "source": [
        "\n",
        "n_epochs =90 \n",
        "network_history = model.fit(X_train, y_train, batch_size=128, \n",
        "                            epochs=n_epochs, verbose=2, validation_data=(X_validation, y_validation))"
      ],
      "execution_count": null,
      "outputs": [
        {
          "output_type": "stream",
          "text": [
            "Epoch 1/90\n",
            "234/234 - 1s - loss: 0.7025 - accuracy: 0.5108 - precision: 0.5053 - recall: 0.9840 - val_loss: 0.6788 - val_accuracy: 0.5435 - val_precision: 0.5250 - val_recall: 0.9507\n",
            "Epoch 2/90\n",
            "234/234 - 1s - loss: 0.6625 - accuracy: 0.6171 - precision: 0.5739 - recall: 0.9075 - val_loss: 0.6483 - val_accuracy: 0.6804 - val_precision: 0.6354 - val_recall: 0.8520\n",
            "Epoch 3/90\n",
            "234/234 - 1s - loss: 0.6339 - accuracy: 0.7204 - precision: 0.6816 - recall: 0.8264 - val_loss: 0.6215 - val_accuracy: 0.7385 - val_precision: 0.7135 - val_recall: 0.8003\n",
            "Epoch 4/90\n",
            "234/234 - 1s - loss: 0.6075 - accuracy: 0.7601 - precision: 0.7408 - recall: 0.7993 - val_loss: 0.5961 - val_accuracy: 0.7677 - val_precision: 0.7577 - val_recall: 0.7896\n",
            "Epoch 5/90\n",
            "234/234 - 1s - loss: 0.5830 - accuracy: 0.7792 - precision: 0.7714 - recall: 0.7930 - val_loss: 0.5728 - val_accuracy: 0.7772 - val_precision: 0.7723 - val_recall: 0.7885\n",
            "Epoch 6/90\n",
            "234/234 - 1s - loss: 0.5611 - accuracy: 0.7904 - precision: 0.7862 - recall: 0.7971 - val_loss: 0.5528 - val_accuracy: 0.7844 - val_precision: 0.7815 - val_recall: 0.7917\n",
            "Epoch 7/90\n",
            "234/234 - 1s - loss: 0.5424 - accuracy: 0.7946 - precision: 0.7909 - recall: 0.8005 - val_loss: 0.5360 - val_accuracy: 0.7873 - val_precision: 0.7856 - val_recall: 0.7925\n",
            "Epoch 8/90\n",
            "234/234 - 1s - loss: 0.5271 - accuracy: 0.7971 - precision: 0.7934 - recall: 0.8030 - val_loss: 0.5226 - val_accuracy: 0.7918 - val_precision: 0.7910 - val_recall: 0.7952\n",
            "Epoch 9/90\n",
            "234/234 - 1s - loss: 0.5148 - accuracy: 0.7995 - precision: 0.7960 - recall: 0.8051 - val_loss: 0.5121 - val_accuracy: 0.7966 - val_precision: 0.7967 - val_recall: 0.7984\n",
            "Epoch 10/90\n",
            "234/234 - 1s - loss: 0.5053 - accuracy: 0.8015 - precision: 0.7991 - recall: 0.8051 - val_loss: 0.5040 - val_accuracy: 0.8006 - val_precision: 0.8007 - val_recall: 0.8024\n",
            "Epoch 11/90\n",
            "234/234 - 1s - loss: 0.4979 - accuracy: 0.8033 - precision: 0.8008 - recall: 0.8068 - val_loss: 0.4977 - val_accuracy: 0.8011 - val_precision: 0.8007 - val_recall: 0.8037\n",
            "Epoch 12/90\n",
            "234/234 - 1s - loss: 0.4921 - accuracy: 0.8055 - precision: 0.8037 - recall: 0.8082 - val_loss: 0.4928 - val_accuracy: 0.8035 - val_precision: 0.8025 - val_recall: 0.8072\n",
            "Epoch 13/90\n",
            "234/234 - 1s - loss: 0.4876 - accuracy: 0.8066 - precision: 0.8039 - recall: 0.8107 - val_loss: 0.4889 - val_accuracy: 0.8046 - val_precision: 0.8040 - val_recall: 0.8075\n",
            "Epoch 14/90\n",
            "234/234 - 1s - loss: 0.4839 - accuracy: 0.8074 - precision: 0.8045 - recall: 0.8116 - val_loss: 0.4857 - val_accuracy: 0.8070 - val_precision: 0.8069 - val_recall: 0.8091\n",
            "Epoch 15/90\n",
            "234/234 - 1s - loss: 0.4809 - accuracy: 0.8071 - precision: 0.8051 - recall: 0.8099 - val_loss: 0.4831 - val_accuracy: 0.8073 - val_precision: 0.8072 - val_recall: 0.8093\n",
            "Epoch 16/90\n",
            "234/234 - 1s - loss: 0.4783 - accuracy: 0.8077 - precision: 0.8061 - recall: 0.8098 - val_loss: 0.4808 - val_accuracy: 0.8085 - val_precision: 0.8078 - val_recall: 0.8115\n",
            "Epoch 17/90\n",
            "234/234 - 1s - loss: 0.4761 - accuracy: 0.8088 - precision: 0.8073 - recall: 0.8110 - val_loss: 0.4787 - val_accuracy: 0.8088 - val_precision: 0.8084 - val_recall: 0.8112\n",
            "Epoch 18/90\n",
            "234/234 - 1s - loss: 0.4740 - accuracy: 0.8096 - precision: 0.8079 - recall: 0.8121 - val_loss: 0.4769 - val_accuracy: 0.8090 - val_precision: 0.8088 - val_recall: 0.8112\n",
            "Epoch 19/90\n",
            "234/234 - 1s - loss: 0.4722 - accuracy: 0.8106 - precision: 0.8086 - recall: 0.8133 - val_loss: 0.4751 - val_accuracy: 0.8097 - val_precision: 0.8097 - val_recall: 0.8115\n",
            "Epoch 20/90\n",
            "234/234 - 1s - loss: 0.4704 - accuracy: 0.8110 - precision: 0.8094 - recall: 0.8133 - val_loss: 0.4735 - val_accuracy: 0.8100 - val_precision: 0.8112 - val_recall: 0.8099\n",
            "Epoch 21/90\n",
            "234/234 - 1s - loss: 0.4688 - accuracy: 0.8122 - precision: 0.8122 - recall: 0.8117 - val_loss: 0.4720 - val_accuracy: 0.8108 - val_precision: 0.8108 - val_recall: 0.8125\n",
            "Epoch 22/90\n",
            "234/234 - 1s - loss: 0.4672 - accuracy: 0.8124 - precision: 0.8116 - recall: 0.8134 - val_loss: 0.4705 - val_accuracy: 0.8118 - val_precision: 0.8127 - val_recall: 0.8123\n",
            "Epoch 23/90\n",
            "234/234 - 1s - loss: 0.4658 - accuracy: 0.8134 - precision: 0.8120 - recall: 0.8152 - val_loss: 0.4691 - val_accuracy: 0.8121 - val_precision: 0.8140 - val_recall: 0.8109\n",
            "Epoch 24/90\n",
            "234/234 - 1s - loss: 0.4644 - accuracy: 0.8135 - precision: 0.8139 - recall: 0.8124 - val_loss: 0.4678 - val_accuracy: 0.8121 - val_precision: 0.8135 - val_recall: 0.8117\n",
            "Epoch 25/90\n",
            "234/234 - 1s - loss: 0.4630 - accuracy: 0.8141 - precision: 0.8143 - recall: 0.8134 - val_loss: 0.4665 - val_accuracy: 0.8120 - val_precision: 0.8124 - val_recall: 0.8131\n",
            "Epoch 26/90\n",
            "234/234 - 1s - loss: 0.4617 - accuracy: 0.8150 - precision: 0.8148 - recall: 0.8149 - val_loss: 0.4652 - val_accuracy: 0.8126 - val_precision: 0.8127 - val_recall: 0.8144\n",
            "Epoch 27/90\n",
            "234/234 - 1s - loss: 0.4605 - accuracy: 0.8155 - precision: 0.8151 - recall: 0.8158 - val_loss: 0.4640 - val_accuracy: 0.8132 - val_precision: 0.8139 - val_recall: 0.8139\n",
            "Epoch 28/90\n",
            "234/234 - 1s - loss: 0.4593 - accuracy: 0.8158 - precision: 0.8156 - recall: 0.8158 - val_loss: 0.4629 - val_accuracy: 0.8130 - val_precision: 0.8145 - val_recall: 0.8125\n",
            "Epoch 29/90\n",
            "234/234 - 1s - loss: 0.4581 - accuracy: 0.8165 - precision: 0.8171 - recall: 0.8152 - val_loss: 0.4617 - val_accuracy: 0.8145 - val_precision: 0.8157 - val_recall: 0.8144\n",
            "Epoch 30/90\n",
            "234/234 - 1s - loss: 0.4569 - accuracy: 0.8174 - precision: 0.8177 - recall: 0.8164 - val_loss: 0.4606 - val_accuracy: 0.8146 - val_precision: 0.8158 - val_recall: 0.8147\n",
            "Epoch 31/90\n",
            "234/234 - 1s - loss: 0.4559 - accuracy: 0.8180 - precision: 0.8185 - recall: 0.8169 - val_loss: 0.4595 - val_accuracy: 0.8157 - val_precision: 0.8173 - val_recall: 0.8149\n",
            "Epoch 32/90\n",
            "234/234 - 1s - loss: 0.4548 - accuracy: 0.8188 - precision: 0.8197 - recall: 0.8171 - val_loss: 0.4585 - val_accuracy: 0.8158 - val_precision: 0.8179 - val_recall: 0.8144\n",
            "Epoch 33/90\n",
            "234/234 - 1s - loss: 0.4537 - accuracy: 0.8195 - precision: 0.8209 - recall: 0.8170 - val_loss: 0.4574 - val_accuracy: 0.8176 - val_precision: 0.8197 - val_recall: 0.8160\n",
            "Epoch 34/90\n",
            "234/234 - 1s - loss: 0.4527 - accuracy: 0.8196 - precision: 0.8210 - recall: 0.8170 - val_loss: 0.4564 - val_accuracy: 0.8184 - val_precision: 0.8203 - val_recall: 0.8171\n",
            "Epoch 35/90\n",
            "234/234 - 1s - loss: 0.4517 - accuracy: 0.8201 - precision: 0.8220 - recall: 0.8168 - val_loss: 0.4554 - val_accuracy: 0.8188 - val_precision: 0.8205 - val_recall: 0.8179\n",
            "Epoch 36/90\n",
            "234/234 - 1s - loss: 0.4507 - accuracy: 0.8200 - precision: 0.8214 - recall: 0.8174 - val_loss: 0.4545 - val_accuracy: 0.8192 - val_precision: 0.8218 - val_recall: 0.8168\n",
            "Epoch 37/90\n",
            "234/234 - 1s - loss: 0.4498 - accuracy: 0.8209 - precision: 0.8238 - recall: 0.8160 - val_loss: 0.4535 - val_accuracy: 0.8193 - val_precision: 0.8215 - val_recall: 0.8176\n",
            "Epoch 38/90\n",
            "234/234 - 1s - loss: 0.4488 - accuracy: 0.8213 - precision: 0.8230 - recall: 0.8182 - val_loss: 0.4526 - val_accuracy: 0.8196 - val_precision: 0.8225 - val_recall: 0.8168\n",
            "Epoch 39/90\n",
            "234/234 - 1s - loss: 0.4479 - accuracy: 0.8218 - precision: 0.8242 - recall: 0.8176 - val_loss: 0.4517 - val_accuracy: 0.8196 - val_precision: 0.8234 - val_recall: 0.8155\n",
            "Epoch 40/90\n",
            "234/234 - 1s - loss: 0.4470 - accuracy: 0.8216 - precision: 0.8241 - recall: 0.8175 - val_loss: 0.4508 - val_accuracy: 0.8197 - val_precision: 0.8243 - val_recall: 0.8144\n",
            "Epoch 41/90\n",
            "234/234 - 1s - loss: 0.4462 - accuracy: 0.8218 - precision: 0.8255 - recall: 0.8157 - val_loss: 0.4499 - val_accuracy: 0.8200 - val_precision: 0.8247 - val_recall: 0.8144\n",
            "Epoch 42/90\n",
            "234/234 - 1s - loss: 0.4453 - accuracy: 0.8221 - precision: 0.8265 - recall: 0.8149 - val_loss: 0.4491 - val_accuracy: 0.8207 - val_precision: 0.8246 - val_recall: 0.8163\n",
            "Epoch 43/90\n",
            "234/234 - 1s - loss: 0.4445 - accuracy: 0.8219 - precision: 0.8255 - recall: 0.8161 - val_loss: 0.4482 - val_accuracy: 0.8212 - val_precision: 0.8257 - val_recall: 0.8160\n",
            "Epoch 44/90\n",
            "234/234 - 1s - loss: 0.4436 - accuracy: 0.8225 - precision: 0.8264 - recall: 0.8160 - val_loss: 0.4474 - val_accuracy: 0.8213 - val_precision: 0.8264 - val_recall: 0.8152\n",
            "Epoch 45/90\n",
            "234/234 - 1s - loss: 0.4428 - accuracy: 0.8225 - precision: 0.8262 - recall: 0.8164 - val_loss: 0.4465 - val_accuracy: 0.8216 - val_precision: 0.8280 - val_recall: 0.8136\n",
            "Epoch 46/90\n",
            "234/234 - 1s - loss: 0.4420 - accuracy: 0.8230 - precision: 0.8282 - recall: 0.8146 - val_loss: 0.4457 - val_accuracy: 0.8217 - val_precision: 0.8271 - val_recall: 0.8152\n",
            "Epoch 47/90\n",
            "234/234 - 1s - loss: 0.4412 - accuracy: 0.8230 - precision: 0.8277 - recall: 0.8154 - val_loss: 0.4449 - val_accuracy: 0.8215 - val_precision: 0.8268 - val_recall: 0.8149\n",
            "Epoch 48/90\n",
            "234/234 - 1s - loss: 0.4404 - accuracy: 0.8234 - precision: 0.8288 - recall: 0.8149 - val_loss: 0.4441 - val_accuracy: 0.8219 - val_precision: 0.8261 - val_recall: 0.8171\n",
            "Epoch 49/90\n",
            "234/234 - 1s - loss: 0.4396 - accuracy: 0.8236 - precision: 0.8275 - recall: 0.8173 - val_loss: 0.4433 - val_accuracy: 0.8224 - val_precision: 0.8288 - val_recall: 0.8144\n",
            "Epoch 50/90\n",
            "234/234 - 1s - loss: 0.4389 - accuracy: 0.8240 - precision: 0.8296 - recall: 0.8153 - val_loss: 0.4426 - val_accuracy: 0.8225 - val_precision: 0.8285 - val_recall: 0.8152\n",
            "Epoch 51/90\n",
            "234/234 - 1s - loss: 0.4381 - accuracy: 0.8240 - precision: 0.8294 - recall: 0.8154 - val_loss: 0.4418 - val_accuracy: 0.8224 - val_precision: 0.8282 - val_recall: 0.8152\n",
            "Epoch 52/90\n",
            "234/234 - 1s - loss: 0.4373 - accuracy: 0.8243 - precision: 0.8296 - recall: 0.8159 - val_loss: 0.4410 - val_accuracy: 0.8221 - val_precision: 0.8285 - val_recall: 0.8141\n",
            "Epoch 53/90\n",
            "234/234 - 1s - loss: 0.4366 - accuracy: 0.8244 - precision: 0.8305 - recall: 0.8149 - val_loss: 0.4403 - val_accuracy: 0.8221 - val_precision: 0.8280 - val_recall: 0.8149\n",
            "Epoch 54/90\n",
            "234/234 - 1s - loss: 0.4359 - accuracy: 0.8246 - precision: 0.8302 - recall: 0.8158 - val_loss: 0.4396 - val_accuracy: 0.8224 - val_precision: 0.8291 - val_recall: 0.8139\n",
            "Epoch 55/90\n",
            "234/234 - 1s - loss: 0.4351 - accuracy: 0.8250 - precision: 0.8321 - recall: 0.8138 - val_loss: 0.4389 - val_accuracy: 0.8225 - val_precision: 0.8283 - val_recall: 0.8155\n",
            "Epoch 56/90\n",
            "234/234 - 1s - loss: 0.4344 - accuracy: 0.8245 - precision: 0.8303 - recall: 0.8154 - val_loss: 0.4381 - val_accuracy: 0.8225 - val_precision: 0.8293 - val_recall: 0.8139\n",
            "Epoch 57/90\n",
            "234/234 - 1s - loss: 0.4337 - accuracy: 0.8250 - precision: 0.8314 - recall: 0.8151 - val_loss: 0.4374 - val_accuracy: 0.8225 - val_precision: 0.8295 - val_recall: 0.8136\n",
            "Epoch 58/90\n",
            "234/234 - 1s - loss: 0.4330 - accuracy: 0.8253 - precision: 0.8325 - recall: 0.8141 - val_loss: 0.4368 - val_accuracy: 0.8225 - val_precision: 0.8288 - val_recall: 0.8147\n",
            "Epoch 59/90\n",
            "234/234 - 1s - loss: 0.4323 - accuracy: 0.8253 - precision: 0.8320 - recall: 0.8150 - val_loss: 0.4361 - val_accuracy: 0.8223 - val_precision: 0.8282 - val_recall: 0.8149\n",
            "Epoch 60/90\n",
            "234/234 - 1s - loss: 0.4317 - accuracy: 0.8254 - precision: 0.8324 - recall: 0.8145 - val_loss: 0.4354 - val_accuracy: 0.8227 - val_precision: 0.8281 - val_recall: 0.8160\n",
            "Epoch 61/90\n",
            "234/234 - 1s - loss: 0.4310 - accuracy: 0.8255 - precision: 0.8318 - recall: 0.8157 - val_loss: 0.4347 - val_accuracy: 0.8229 - val_precision: 0.8295 - val_recall: 0.8147\n",
            "Epoch 62/90\n",
            "234/234 - 1s - loss: 0.4303 - accuracy: 0.8256 - precision: 0.8327 - recall: 0.8145 - val_loss: 0.4341 - val_accuracy: 0.8231 - val_precision: 0.8290 - val_recall: 0.8157\n",
            "Epoch 63/90\n",
            "234/234 - 1s - loss: 0.4297 - accuracy: 0.8260 - precision: 0.8321 - recall: 0.8166 - val_loss: 0.4334 - val_accuracy: 0.8227 - val_precision: 0.8308 - val_recall: 0.8120\n",
            "Epoch 64/90\n",
            "234/234 - 1s - loss: 0.4290 - accuracy: 0.8266 - precision: 0.8342 - recall: 0.8148 - val_loss: 0.4327 - val_accuracy: 0.8227 - val_precision: 0.8294 - val_recall: 0.8141\n",
            "Epoch 65/90\n",
            "234/234 - 1s - loss: 0.4283 - accuracy: 0.8268 - precision: 0.8334 - recall: 0.8166 - val_loss: 0.4321 - val_accuracy: 0.8227 - val_precision: 0.8307 - val_recall: 0.8123\n",
            "Epoch 66/90\n",
            "234/234 - 1s - loss: 0.4277 - accuracy: 0.8270 - precision: 0.8346 - recall: 0.8154 - val_loss: 0.4314 - val_accuracy: 0.8233 - val_precision: 0.8311 - val_recall: 0.8133\n",
            "Epoch 67/90\n",
            "234/234 - 1s - loss: 0.4271 - accuracy: 0.8267 - precision: 0.8343 - recall: 0.8150 - val_loss: 0.4308 - val_accuracy: 0.8232 - val_precision: 0.8312 - val_recall: 0.8128\n",
            "Epoch 68/90\n",
            "234/234 - 1s - loss: 0.4264 - accuracy: 0.8271 - precision: 0.8343 - recall: 0.8161 - val_loss: 0.4302 - val_accuracy: 0.8236 - val_precision: 0.8315 - val_recall: 0.8133\n",
            "Epoch 69/90\n",
            "234/234 - 1s - loss: 0.4258 - accuracy: 0.8274 - precision: 0.8349 - recall: 0.8160 - val_loss: 0.4295 - val_accuracy: 0.8233 - val_precision: 0.8316 - val_recall: 0.8125\n",
            "Epoch 70/90\n",
            "234/234 - 1s - loss: 0.4252 - accuracy: 0.8277 - precision: 0.8358 - recall: 0.8154 - val_loss: 0.4289 - val_accuracy: 0.8236 - val_precision: 0.8313 - val_recall: 0.8136\n",
            "Epoch 71/90\n",
            "234/234 - 1s - loss: 0.4246 - accuracy: 0.8279 - precision: 0.8360 - recall: 0.8155 - val_loss: 0.4283 - val_accuracy: 0.8236 - val_precision: 0.8313 - val_recall: 0.8136\n",
            "Epoch 72/90\n",
            "234/234 - 1s - loss: 0.4240 - accuracy: 0.8281 - precision: 0.8363 - recall: 0.8155 - val_loss: 0.4277 - val_accuracy: 0.8237 - val_precision: 0.8319 - val_recall: 0.8131\n",
            "Epoch 73/90\n",
            "234/234 - 1s - loss: 0.4234 - accuracy: 0.8282 - precision: 0.8370 - recall: 0.8149 - val_loss: 0.4271 - val_accuracy: 0.8240 - val_precision: 0.8311 - val_recall: 0.8149\n",
            "Epoch 74/90\n",
            "234/234 - 1s - loss: 0.4228 - accuracy: 0.8287 - precision: 0.8369 - recall: 0.8163 - val_loss: 0.4265 - val_accuracy: 0.8239 - val_precision: 0.8311 - val_recall: 0.8147\n",
            "Epoch 75/90\n",
            "234/234 - 1s - loss: 0.4222 - accuracy: 0.8288 - precision: 0.8377 - recall: 0.8152 - val_loss: 0.4259 - val_accuracy: 0.8240 - val_precision: 0.8306 - val_recall: 0.8157\n",
            "Epoch 76/90\n",
            "234/234 - 1s - loss: 0.4216 - accuracy: 0.8284 - precision: 0.8360 - recall: 0.8168 - val_loss: 0.4253 - val_accuracy: 0.8247 - val_precision: 0.8326 - val_recall: 0.8144\n",
            "Epoch 77/90\n",
            "234/234 - 1s - loss: 0.4210 - accuracy: 0.8287 - precision: 0.8377 - recall: 0.8152 - val_loss: 0.4247 - val_accuracy: 0.8249 - val_precision: 0.8331 - val_recall: 0.8144\n",
            "Epoch 78/90\n",
            "234/234 - 1s - loss: 0.4204 - accuracy: 0.8289 - precision: 0.8375 - recall: 0.8158 - val_loss: 0.4242 - val_accuracy: 0.8259 - val_precision: 0.8350 - val_recall: 0.8139\n",
            "Epoch 79/90\n",
            "234/234 - 1s - loss: 0.4198 - accuracy: 0.8296 - precision: 0.8394 - recall: 0.8147 - val_loss: 0.4236 - val_accuracy: 0.8249 - val_precision: 0.8320 - val_recall: 0.8160\n",
            "Epoch 80/90\n",
            "234/234 - 1s - loss: 0.4192 - accuracy: 0.8293 - precision: 0.8375 - recall: 0.8166 - val_loss: 0.4230 - val_accuracy: 0.8259 - val_precision: 0.8352 - val_recall: 0.8136\n",
            "Epoch 81/90\n",
            "234/234 - 1s - loss: 0.4187 - accuracy: 0.8298 - precision: 0.8386 - recall: 0.8163 - val_loss: 0.4225 - val_accuracy: 0.8264 - val_precision: 0.8358 - val_recall: 0.8141\n",
            "Epoch 82/90\n",
            "234/234 - 1s - loss: 0.4181 - accuracy: 0.8301 - precision: 0.8403 - recall: 0.8149 - val_loss: 0.4219 - val_accuracy: 0.8260 - val_precision: 0.8336 - val_recall: 0.8163\n",
            "Epoch 83/90\n",
            "234/234 - 1s - loss: 0.4176 - accuracy: 0.8305 - precision: 0.8401 - recall: 0.8160 - val_loss: 0.4214 - val_accuracy: 0.8262 - val_precision: 0.8337 - val_recall: 0.8165\n",
            "Epoch 84/90\n",
            "234/234 - 1s - loss: 0.4170 - accuracy: 0.8308 - precision: 0.8391 - recall: 0.8182 - val_loss: 0.4209 - val_accuracy: 0.8271 - val_precision: 0.8371 - val_recall: 0.8139\n",
            "Epoch 85/90\n",
            "234/234 - 1s - loss: 0.4165 - accuracy: 0.8306 - precision: 0.8404 - recall: 0.8158 - val_loss: 0.4203 - val_accuracy: 0.8275 - val_precision: 0.8368 - val_recall: 0.8152\n",
            "Epoch 86/90\n",
            "234/234 - 1s - loss: 0.4159 - accuracy: 0.8310 - precision: 0.8410 - recall: 0.8160 - val_loss: 0.4198 - val_accuracy: 0.8280 - val_precision: 0.8372 - val_recall: 0.8160\n",
            "Epoch 87/90\n",
            "234/234 - 1s - loss: 0.4154 - accuracy: 0.8309 - precision: 0.8408 - recall: 0.8161 - val_loss: 0.4192 - val_accuracy: 0.8279 - val_precision: 0.8366 - val_recall: 0.8165\n",
            "Epoch 88/90\n",
            "234/234 - 1s - loss: 0.4148 - accuracy: 0.8312 - precision: 0.8412 - recall: 0.8162 - val_loss: 0.4187 - val_accuracy: 0.8287 - val_precision: 0.8380 - val_recall: 0.8165\n",
            "Epoch 89/90\n",
            "234/234 - 1s - loss: 0.4143 - accuracy: 0.8315 - precision: 0.8418 - recall: 0.8162 - val_loss: 0.4181 - val_accuracy: 0.8288 - val_precision: 0.8378 - val_recall: 0.8171\n",
            "Epoch 90/90\n",
            "234/234 - 1s - loss: 0.4137 - accuracy: 0.8317 - precision: 0.8416 - recall: 0.8169 - val_loss: 0.4176 - val_accuracy: 0.8295 - val_precision: 0.8397 - val_recall: 0.8160\n"
          ],
          "name": "stdout"
        }
      ]
    },
    {
      "cell_type": "code",
      "metadata": {
        "colab": {
          "base_uri": "https://localhost:8080/",
          "height": 541
        },
        "id": "T9kIPNs9UKNi",
        "outputId": "bfd63a55-d412-40ce-d972-47a38af766bb"
      },
      "source": [
        "x_plot = list(range(1,n_epochs+1))\n",
        "\n",
        "def plot_history(network_history):\n",
        "    plt.figure()\n",
        "    plt.xlabel('Epochs')\n",
        "    plt.ylabel('Loss')\n",
        "    plt.plot(x_plot, network_history.history['loss'])\n",
        "    plt.plot(x_plot, network_history.history['val_loss'])\n",
        "    plt.legend(['Training', 'Validation'])\n",
        "\n",
        "    plt.figure()\n",
        "    plt.xlabel('Epochs')\n",
        "    plt.ylabel('Accuracy')\n",
        "    plt.plot(x_plot, network_history.history['accuracy'])\n",
        "    plt.plot(x_plot, network_history.history['val_accuracy'])\n",
        "    plt.legend(['Training', 'Validation'], loc='lower right')\n",
        "    plt.show()\n",
        "\n",
        "plot_history(network_history)"
      ],
      "execution_count": null,
      "outputs": [
        {
          "output_type": "display_data",
          "data": {
            "image/png": "[encoded data removed]",
            "text/plain": [
              "<Figure size 432x288 with 1 Axes>"
            ]
          },
          "metadata": {
            "tags": [],
            "needs_background": "light"
          }
        },
        {
          "output_type": "display_data",
          "data": {
            "image/png": "[encoded data removed]",
            "text/plain": [
              "<Figure size 432x288 with 1 Axes>"
            ]
          },
          "metadata": {
            "tags": [],
            "needs_background": "light"
          }
        }
      ]
    },
    {
      "cell_type": "code",
      "metadata": {
        "colab": {
          "base_uri": "https://localhost:8080/"
        },
        "id": "CqhOIi8WUWcG",
        "outputId": "ec6636ad-8bcd-40cf-dedf-e03c7817128e"
      },
      "source": [
        "from sklearn.metrics import classification_report\n",
        "\n",
        "print(classification_report(y_validation, model.predict_classes(X_validation)))"
      ],
      "execution_count": null,
      "outputs": [
        {
          "output_type": "stream",
          "text": [
            "WARNING:tensorflow:From <ipython-input-21-17938166b97d>:3: Sequential.predict_classes (from tensorflow.python.keras.engine.sequential) is deprecated and will be removed after 2021-01-01.\n",
            "Instructions for updating:\n",
            "Please use instead:* `np.argmax(model.predict(x), axis=-1)`,   if your model does multi-class classification   (e.g. if it uses a `softmax` last-layer activation).* `(model.predict(x) > 0.5).astype(\"int32\")`,   if your model does binary classification   (e.g. if it uses a `sigmoid` last-layer activation).\n",
            "              precision    recall  f1-score   support\n",
            "\n",
            "           0       0.82      0.84      0.83      3722\n",
            "           1       0.84      0.82      0.83      3750\n",
            "\n",
            "    accuracy                           0.83      7472\n",
            "   macro avg       0.83      0.83      0.83      7472\n",
            "weighted avg       0.83      0.83      0.83      7472\n",
            "\n"
          ],
          "name": "stdout"
        }
      ]
    },
    {
      "cell_type": "markdown",
      "metadata": {
        "id": "XYmStyhBELUI"
      },
      "source": [
        "**Regularization**"
      ]
    },
    {
      "cell_type": "markdown",
      "metadata": {
        "id": "TgukOn4CrIWY"
      },
      "source": [
        "**L1**"
      ]
    },
    {
      "cell_type": "code",
      "metadata": {
        "id": "fEsE1OSbERrN"
      },
      "source": [
        "def NeuralNetwork_l1():\n",
        "  dims = X_train.shape[1]\n",
        "  model_l1 = Sequential()\n",
        "  model_l1.add(Dense(256, input_shape=(dims,), activation = \"relu\",kernel_initializer=initializer, kernel_regularizer=regularizers.l1(0.01)))\n",
        "  model_l1.add(Dense(128, activation = \"relu\", kernel_initializer=initializer, kernel_regularizer=regularizers.l1(0.01)))\n",
        "  model_l1.add(Dense(32, activation = \"relu\", kernel_initializer=initializer, kernel_regularizer=regularizers.l1(0.01)))\n",
        "  model_l1.add(Dense(16, activation = \"relu\", kernel_initializer=initializer, kernel_regularizer=regularizers.l1(0.01)))\n",
        "  model_l1.add(Dense(1, activation = \"sigmoid\", kernel_initializer=initializer))        \n",
        "\n",
        "\n",
        "  model_l1.compile(optimizer=SGD(lr=0.001), loss='binary_crossentropy',metrics=['accuracy', metrics.Precision(name='precision'), metrics.Recall(name='recall')])\n",
        "\n",
        "  \n",
        "  return model_l1"
      ],
      "execution_count": null,
      "outputs": []
    },
    {
      "cell_type": "code",
      "metadata": {
        "colab": {
          "base_uri": "https://localhost:8080/"
        },
        "id": "Be9_6sjUs9kd",
        "outputId": "0e398dd1-e833-4a8e-b6c8-d10f5c96c49f"
      },
      "source": [
        "model_l1 = NeuralNetwork_l1()\n",
        "model_l1.summary()\n"
      ],
      "execution_count": null,
      "outputs": [
        {
          "output_type": "stream",
          "text": [
            "Model: \"sequential_1\"\n",
            "_________________________________________________________________\n",
            "Layer (type)                 Output Shape              Param #   \n",
            "=================================================================\n",
            "dense_5 (Dense)              (None, 256)               6144      \n",
            "_________________________________________________________________\n",
            "dense_6 (Dense)              (None, 128)               32896     \n",
            "_________________________________________________________________\n",
            "dense_7 (Dense)              (None, 32)                4128      \n",
            "_________________________________________________________________\n",
            "dense_8 (Dense)              (None, 16)                528       \n",
            "_________________________________________________________________\n",
            "dense_9 (Dense)              (None, 1)                 17        \n",
            "=================================================================\n",
            "Total params: 43,713\n",
            "Trainable params: 43,713\n",
            "Non-trainable params: 0\n",
            "_________________________________________________________________\n"
          ],
          "name": "stdout"
        }
      ]
    },
    {
      "cell_type": "code",
      "metadata": {
        "colab": {
          "base_uri": "https://localhost:8080/"
        },
        "id": "WcjNau37uHPM",
        "outputId": "a4e5dda8-d1ea-4720-df6c-df3825e2cdf5"
      },
      "source": [
        "network_history_l1 = model_l1.fit(X_train, y_train, batch_size=128, \n",
        "                              epochs=90, verbose=2, validation_data=(X_validation, y_validation))"
      ],
      "execution_count": null,
      "outputs": [
        {
          "output_type": "stream",
          "text": [
            "Epoch 1/90\n",
            "234/234 - 1s - loss: 29.8115 - accuracy: 0.5099 - precision: 0.5049 - recall: 0.9833 - val_loss: 29.2841 - val_accuracy: 0.5435 - val_precision: 0.5250 - val_recall: 0.9475\n",
            "Epoch 2/90\n",
            "234/234 - 1s - loss: 28.7792 - accuracy: 0.6175 - precision: 0.5746 - recall: 0.9033 - val_loss: 28.2739 - val_accuracy: 0.6776 - val_precision: 0.6335 - val_recall: 0.8483\n",
            "Epoch 3/90\n",
            "234/234 - 1s - loss: 27.7820 - accuracy: 0.7164 - precision: 0.6776 - recall: 0.8247 - val_loss: 27.2890 - val_accuracy: 0.7338 - val_precision: 0.7092 - val_recall: 0.7960\n",
            "Epoch 4/90\n",
            "234/234 - 1s - loss: 26.8076 - accuracy: 0.7587 - precision: 0.7401 - recall: 0.7969 - val_loss: 26.3248 - val_accuracy: 0.7624 - val_precision: 0.7518 - val_recall: 0.7861\n",
            "Epoch 5/90\n",
            "234/234 - 1s - loss: 25.8531 - accuracy: 0.7783 - precision: 0.7673 - recall: 0.7983 - val_loss: 25.3804 - val_accuracy: 0.7764 - val_precision: 0.7670 - val_recall: 0.7963\n",
            "Epoch 6/90\n",
            "234/234 - 1s - loss: 24.9189 - accuracy: 0.7881 - precision: 0.7779 - recall: 0.8060 - val_loss: 24.4566 - val_accuracy: 0.7819 - val_precision: 0.7718 - val_recall: 0.8027\n",
            "Epoch 7/90\n",
            "234/234 - 1s - loss: 24.0049 - accuracy: 0.7930 - precision: 0.7806 - recall: 0.8146 - val_loss: 23.5524 - val_accuracy: 0.7864 - val_precision: 0.7753 - val_recall: 0.8088\n",
            "Epoch 8/90\n",
            "234/234 - 1s - loss: 23.1104 - accuracy: 0.7949 - precision: 0.7806 - recall: 0.8198 - val_loss: 22.6677 - val_accuracy: 0.7889 - val_precision: 0.7767 - val_recall: 0.8133\n",
            "Epoch 9/90\n",
            "234/234 - 1s - loss: 22.2352 - accuracy: 0.7983 - precision: 0.7843 - recall: 0.8224 - val_loss: 21.8021 - val_accuracy: 0.7922 - val_precision: 0.7794 - val_recall: 0.8171\n",
            "Epoch 10/90\n",
            "234/234 - 1s - loss: 21.3787 - accuracy: 0.7994 - precision: 0.7844 - recall: 0.8253 - val_loss: 20.9550 - val_accuracy: 0.7932 - val_precision: 0.7807 - val_recall: 0.8176\n",
            "Epoch 11/90\n",
            "234/234 - 1s - loss: 20.5415 - accuracy: 0.8010 - precision: 0.7867 - recall: 0.8257 - val_loss: 20.1281 - val_accuracy: 0.7935 - val_precision: 0.7799 - val_recall: 0.8200\n",
            "Epoch 12/90\n",
            "234/234 - 1s - loss: 19.7248 - accuracy: 0.8014 - precision: 0.7864 - recall: 0.8273 - val_loss: 19.3212 - val_accuracy: 0.7956 - val_precision: 0.7825 - val_recall: 0.8211\n",
            "Epoch 13/90\n",
            "234/234 - 1s - loss: 18.9270 - accuracy: 0.8021 - precision: 0.7873 - recall: 0.8275 - val_loss: 18.5326 - val_accuracy: 0.7972 - val_precision: 0.7838 - val_recall: 0.8229\n",
            "Epoch 14/90\n",
            "234/234 - 1s - loss: 18.1475 - accuracy: 0.8031 - precision: 0.7878 - recall: 0.8292 - val_loss: 17.7622 - val_accuracy: 0.7976 - val_precision: 0.7837 - val_recall: 0.8243\n",
            "Epoch 15/90\n",
            "234/234 - 1s - loss: 17.3865 - accuracy: 0.8031 - precision: 0.7872 - recall: 0.8302 - val_loss: 17.0107 - val_accuracy: 0.7975 - val_precision: 0.7834 - val_recall: 0.8245\n",
            "Epoch 16/90\n",
            "234/234 - 1s - loss: 16.6442 - accuracy: 0.8034 - precision: 0.7874 - recall: 0.8308 - val_loss: 16.2778 - val_accuracy: 0.7968 - val_precision: 0.7828 - val_recall: 0.8237\n",
            "Epoch 17/90\n",
            "234/234 - 1s - loss: 15.9208 - accuracy: 0.8037 - precision: 0.7878 - recall: 0.8310 - val_loss: 15.5640 - val_accuracy: 0.7974 - val_precision: 0.7830 - val_recall: 0.8248\n",
            "Epoch 18/90\n",
            "234/234 - 1s - loss: 15.2160 - accuracy: 0.8038 - precision: 0.7874 - recall: 0.8319 - val_loss: 14.8682 - val_accuracy: 0.7987 - val_precision: 0.7850 - val_recall: 0.8248\n",
            "Epoch 19/90\n",
            "234/234 - 1s - loss: 14.5293 - accuracy: 0.8049 - precision: 0.7891 - recall: 0.8317 - val_loss: 14.1908 - val_accuracy: 0.7995 - val_precision: 0.7851 - val_recall: 0.8269\n",
            "Epoch 20/90\n",
            "234/234 - 1s - loss: 13.8612 - accuracy: 0.8045 - precision: 0.7881 - recall: 0.8326 - val_loss: 13.5321 - val_accuracy: 0.7997 - val_precision: 0.7851 - val_recall: 0.8272\n",
            "Epoch 21/90\n",
            "234/234 - 1s - loss: 13.2119 - accuracy: 0.8051 - precision: 0.7887 - recall: 0.8331 - val_loss: 12.8921 - val_accuracy: 0.8003 - val_precision: 0.7858 - val_recall: 0.8277\n",
            "Epoch 22/90\n",
            "234/234 - 1s - loss: 12.5809 - accuracy: 0.8055 - precision: 0.7894 - recall: 0.8328 - val_loss: 12.2702 - val_accuracy: 0.7998 - val_precision: 0.7843 - val_recall: 0.8291\n",
            "Epoch 23/90\n",
            "234/234 - 1s - loss: 11.9677 - accuracy: 0.8051 - precision: 0.7883 - recall: 0.8338 - val_loss: 11.6660 - val_accuracy: 0.7991 - val_precision: 0.7829 - val_recall: 0.8299\n",
            "Epoch 24/90\n",
            "234/234 - 1s - loss: 11.3728 - accuracy: 0.8047 - precision: 0.7869 - recall: 0.8354 - val_loss: 11.0803 - val_accuracy: 0.7997 - val_precision: 0.7838 - val_recall: 0.8296\n",
            "Epoch 25/90\n",
            "234/234 - 1s - loss: 10.7961 - accuracy: 0.8049 - precision: 0.7870 - recall: 0.8357 - val_loss: 10.5130 - val_accuracy: 0.8006 - val_precision: 0.7848 - val_recall: 0.8304\n",
            "Epoch 26/90\n",
            "234/234 - 1s - loss: 10.2380 - accuracy: 0.8053 - precision: 0.7881 - recall: 0.8346 - val_loss: 9.9639 - val_accuracy: 0.8007 - val_precision: 0.7843 - val_recall: 0.8317\n",
            "Epoch 27/90\n",
            "234/234 - 1s - loss: 9.6977 - accuracy: 0.8050 - precision: 0.7870 - recall: 0.8358 - val_loss: 9.4329 - val_accuracy: 0.8011 - val_precision: 0.7846 - val_recall: 0.8323\n",
            "Epoch 28/90\n",
            "234/234 - 1s - loss: 9.1763 - accuracy: 0.8046 - precision: 0.7862 - recall: 0.8364 - val_loss: 8.9212 - val_accuracy: 0.8006 - val_precision: 0.7835 - val_recall: 0.8328\n",
            "Epoch 29/90\n",
            "234/234 - 1s - loss: 8.6737 - accuracy: 0.8047 - precision: 0.7856 - recall: 0.8377 - val_loss: 8.4274 - val_accuracy: 0.8010 - val_precision: 0.7839 - val_recall: 0.8331\n",
            "Epoch 30/90\n",
            "234/234 - 1s - loss: 8.1886 - accuracy: 0.8050 - precision: 0.7855 - recall: 0.8387 - val_loss: 7.9512 - val_accuracy: 0.8015 - val_precision: 0.7846 - val_recall: 0.8333\n",
            "Epoch 31/90\n",
            "234/234 - 1s - loss: 7.7214 - accuracy: 0.8049 - precision: 0.7855 - recall: 0.8383 - val_loss: 7.4931 - val_accuracy: 0.8018 - val_precision: 0.7845 - val_recall: 0.8341\n",
            "Epoch 32/90\n",
            "234/234 - 1s - loss: 7.2722 - accuracy: 0.8057 - precision: 0.7869 - recall: 0.8381 - val_loss: 7.0532 - val_accuracy: 0.8018 - val_precision: 0.7845 - val_recall: 0.8341\n",
            "Epoch 33/90\n",
            "234/234 - 1s - loss: 6.8418 - accuracy: 0.8054 - precision: 0.7863 - recall: 0.8383 - val_loss: 6.6320 - val_accuracy: 0.8027 - val_precision: 0.7861 - val_recall: 0.8339\n",
            "Epoch 34/90\n",
            "234/234 - 1s - loss: 6.4294 - accuracy: 0.8058 - precision: 0.7872 - recall: 0.8378 - val_loss: 6.2286 - val_accuracy: 0.8019 - val_precision: 0.7853 - val_recall: 0.8331\n",
            "Epoch 35/90\n",
            "234/234 - 1s - loss: 6.0348 - accuracy: 0.8060 - precision: 0.7877 - recall: 0.8373 - val_loss: 5.8430 - val_accuracy: 0.8026 - val_precision: 0.7870 - val_recall: 0.8317\n",
            "Epoch 36/90\n",
            "234/234 - 1s - loss: 5.6579 - accuracy: 0.8059 - precision: 0.7879 - recall: 0.8368 - val_loss: 5.4747 - val_accuracy: 0.8041 - val_precision: 0.7897 - val_recall: 0.8309\n",
            "Epoch 37/90\n",
            "234/234 - 1s - loss: 5.2985 - accuracy: 0.8057 - precision: 0.7880 - recall: 0.8360 - val_loss: 5.1247 - val_accuracy: 0.8050 - val_precision: 0.7914 - val_recall: 0.8304\n",
            "Epoch 38/90\n",
            "234/234 - 1s - loss: 4.9573 - accuracy: 0.8070 - precision: 0.7908 - recall: 0.8344 - val_loss: 4.7920 - val_accuracy: 0.8053 - val_precision: 0.7915 - val_recall: 0.8309\n",
            "Epoch 39/90\n",
            "234/234 - 1s - loss: 4.6333 - accuracy: 0.8071 - precision: 0.7917 - recall: 0.8329 - val_loss: 4.4771 - val_accuracy: 0.8059 - val_precision: 0.7946 - val_recall: 0.8272\n",
            "Epoch 40/90\n",
            "234/234 - 1s - loss: 4.3276 - accuracy: 0.8068 - precision: 0.7941 - recall: 0.8279 - val_loss: 4.1806 - val_accuracy: 0.8062 - val_precision: 0.7963 - val_recall: 0.8248\n",
            "Epoch 41/90\n",
            "234/234 - 1s - loss: 4.0401 - accuracy: 0.8070 - precision: 0.7962 - recall: 0.8247 - val_loss: 3.9021 - val_accuracy: 0.8073 - val_precision: 0.8020 - val_recall: 0.8179\n",
            "Epoch 42/90\n",
            "234/234 - 1s - loss: 3.7706 - accuracy: 0.8055 - precision: 0.8028 - recall: 0.8095 - val_loss: 3.6415 - val_accuracy: 0.8065 - val_precision: 0.8041 - val_recall: 0.8123\n",
            "Epoch 43/90\n",
            "234/234 - 1s - loss: 3.5189 - accuracy: 0.8051 - precision: 0.8029 - recall: 0.8084 - val_loss: 3.3990 - val_accuracy: 0.8061 - val_precision: 0.8089 - val_recall: 0.8035\n",
            "Epoch 44/90\n",
            "234/234 - 1s - loss: 3.2857 - accuracy: 0.8050 - precision: 0.8075 - recall: 0.8003 - val_loss: 3.1751 - val_accuracy: 0.8057 - val_precision: 0.8165 - val_recall: 0.7904\n",
            "Epoch 45/90\n",
            "234/234 - 1s - loss: 3.0704 - accuracy: 0.8038 - precision: 0.8152 - recall: 0.7853 - val_loss: 2.9681 - val_accuracy: 0.8013 - val_precision: 0.8211 - val_recall: 0.7723\n",
            "Epoch 46/90\n",
            "234/234 - 1s - loss: 2.8719 - accuracy: 0.7989 - precision: 0.8231 - recall: 0.7610 - val_loss: 2.7784 - val_accuracy: 0.7990 - val_precision: 0.8250 - val_recall: 0.7608\n",
            "Epoch 47/90\n",
            "234/234 - 1s - loss: 2.6905 - accuracy: 0.7951 - precision: 0.8305 - recall: 0.7411 - val_loss: 2.6049 - val_accuracy: 0.7975 - val_precision: 0.8270 - val_recall: 0.7544\n",
            "Epoch 48/90\n",
            "234/234 - 1s - loss: 2.5245 - accuracy: 0.7955 - precision: 0.8290 - recall: 0.7442 - val_loss: 2.4467 - val_accuracy: 0.7950 - val_precision: 0.8371 - val_recall: 0.7344\n",
            "Epoch 49/90\n",
            "234/234 - 1s - loss: 2.3740 - accuracy: 0.7958 - precision: 0.8403 - recall: 0.7300 - val_loss: 2.3041 - val_accuracy: 0.7946 - val_precision: 0.8421 - val_recall: 0.7269\n",
            "Epoch 50/90\n",
            "234/234 - 1s - loss: 2.2394 - accuracy: 0.7955 - precision: 0.8433 - recall: 0.7254 - val_loss: 2.1772 - val_accuracy: 0.7942 - val_precision: 0.8482 - val_recall: 0.7184\n",
            "Epoch 51/90\n",
            "234/234 - 1s - loss: 2.1198 - accuracy: 0.7950 - precision: 0.8514 - recall: 0.7144 - val_loss: 2.0651 - val_accuracy: 0.7939 - val_precision: 0.8512 - val_recall: 0.7141\n",
            "Epoch 52/90\n",
            "234/234 - 1s - loss: 2.0150 - accuracy: 0.7946 - precision: 0.8530 - recall: 0.7114 - val_loss: 1.9675 - val_accuracy: 0.7922 - val_precision: 0.8533 - val_recall: 0.7075\n",
            "Epoch 53/90\n",
            "234/234 - 1s - loss: 1.9242 - accuracy: 0.7936 - precision: 0.8543 - recall: 0.7075 - val_loss: 1.8833 - val_accuracy: 0.7911 - val_precision: 0.8543 - val_recall: 0.7037\n",
            "Epoch 54/90\n",
            "234/234 - 1s - loss: 1.8458 - accuracy: 0.7922 - precision: 0.8551 - recall: 0.7032 - val_loss: 1.8100 - val_accuracy: 0.7901 - val_precision: 0.8547 - val_recall: 0.7011\n",
            "Epoch 55/90\n",
            "234/234 - 1s - loss: 1.7762 - accuracy: 0.7917 - precision: 0.8551 - recall: 0.7020 - val_loss: 1.7437 - val_accuracy: 0.7873 - val_precision: 0.8548 - val_recall: 0.6941\n",
            "Epoch 56/90\n",
            "234/234 - 1s - loss: 1.7122 - accuracy: 0.7886 - precision: 0.8560 - recall: 0.6935 - val_loss: 1.6820 - val_accuracy: 0.7869 - val_precision: 0.8547 - val_recall: 0.6933\n",
            "Epoch 57/90\n",
            "234/234 - 1s - loss: 1.6529 - accuracy: 0.7886 - precision: 0.8556 - recall: 0.6939 - val_loss: 1.6248 - val_accuracy: 0.7869 - val_precision: 0.8556 - val_recall: 0.6923\n",
            "Epoch 58/90\n",
            "234/234 - 1s - loss: 1.5976 - accuracy: 0.7881 - precision: 0.8563 - recall: 0.6919 - val_loss: 1.5714 - val_accuracy: 0.7853 - val_precision: 0.8558 - val_recall: 0.6883\n",
            "Epoch 59/90\n",
            "234/234 - 1s - loss: 1.5461 - accuracy: 0.7870 - precision: 0.8574 - recall: 0.6881 - val_loss: 1.5220 - val_accuracy: 0.7856 - val_precision: 0.8559 - val_recall: 0.6888\n",
            "Epoch 60/90\n",
            "234/234 - 1s - loss: 1.4985 - accuracy: 0.7868 - precision: 0.8570 - recall: 0.6880 - val_loss: 1.4760 - val_accuracy: 0.7855 - val_precision: 0.8563 - val_recall: 0.6880\n",
            "Epoch 61/90\n",
            "234/234 - 1s - loss: 1.4539 - accuracy: 0.7870 - precision: 0.8564 - recall: 0.6892 - val_loss: 1.4328 - val_accuracy: 0.7844 - val_precision: 0.8569 - val_recall: 0.6848\n",
            "Epoch 62/90\n",
            "234/234 - 1s - loss: 1.4120 - accuracy: 0.7849 - precision: 0.8581 - recall: 0.6823 - val_loss: 1.3921 - val_accuracy: 0.7853 - val_precision: 0.8567 - val_recall: 0.6872\n",
            "Epoch 63/90\n",
            "234/234 - 1s - loss: 1.3724 - accuracy: 0.7850 - precision: 0.8576 - recall: 0.6832 - val_loss: 1.3537 - val_accuracy: 0.7857 - val_precision: 0.8569 - val_recall: 0.6880\n",
            "Epoch 64/90\n",
            "234/234 - 1s - loss: 1.3352 - accuracy: 0.7862 - precision: 0.8573 - recall: 0.6862 - val_loss: 1.3175 - val_accuracy: 0.7852 - val_precision: 0.8574 - val_recall: 0.6861\n",
            "Epoch 65/90\n",
            "234/234 - 1s - loss: 1.3000 - accuracy: 0.7852 - precision: 0.8575 - recall: 0.6837 - val_loss: 1.2833 - val_accuracy: 0.7851 - val_precision: 0.8573 - val_recall: 0.6859\n",
            "Epoch 66/90\n",
            "234/234 - 1s - loss: 1.2666 - accuracy: 0.7858 - precision: 0.8576 - recall: 0.6851 - val_loss: 1.2508 - val_accuracy: 0.7848 - val_precision: 0.8575 - val_recall: 0.6851\n",
            "Epoch 67/90\n",
            "234/234 - 1s - loss: 1.2348 - accuracy: 0.7852 - precision: 0.8577 - recall: 0.6833 - val_loss: 1.2198 - val_accuracy: 0.7855 - val_precision: 0.8577 - val_recall: 0.6864\n",
            "Epoch 68/90\n",
            "234/234 - 1s - loss: 1.2044 - accuracy: 0.7865 - precision: 0.8580 - recall: 0.6862 - val_loss: 1.1901 - val_accuracy: 0.7856 - val_precision: 0.8580 - val_recall: 0.6864\n",
            "Epoch 69/90\n",
            "234/234 - 1s - loss: 1.1755 - accuracy: 0.7867 - precision: 0.8579 - recall: 0.6868 - val_loss: 1.1620 - val_accuracy: 0.7860 - val_precision: 0.8579 - val_recall: 0.6875\n",
            "Epoch 70/90\n",
            "234/234 - 1s - loss: 1.1482 - accuracy: 0.7875 - precision: 0.8580 - recall: 0.6886 - val_loss: 1.1356 - val_accuracy: 0.7864 - val_precision: 0.8576 - val_recall: 0.6888\n",
            "Epoch 71/90\n",
            "234/234 - 1s - loss: 1.1224 - accuracy: 0.7880 - precision: 0.8587 - recall: 0.6890 - val_loss: 1.1105 - val_accuracy: 0.7871 - val_precision: 0.8573 - val_recall: 0.6907\n",
            "Epoch 72/90\n",
            "234/234 - 1s - loss: 1.0979 - accuracy: 0.7886 - precision: 0.8572 - recall: 0.6921 - val_loss: 1.0867 - val_accuracy: 0.7877 - val_precision: 0.8569 - val_recall: 0.6928\n",
            "Epoch 73/90\n",
            "234/234 - 1s - loss: 1.0747 - accuracy: 0.7896 - precision: 0.8572 - recall: 0.6945 - val_loss: 1.0640 - val_accuracy: 0.7876 - val_precision: 0.8554 - val_recall: 0.6941\n",
            "Epoch 74/90\n",
            "234/234 - 1s - loss: 1.0526 - accuracy: 0.7902 - precision: 0.8565 - recall: 0.6969 - val_loss: 1.0426 - val_accuracy: 0.7895 - val_precision: 0.8558 - val_recall: 0.6981\n",
            "Epoch 75/90\n",
            "234/234 - 1s - loss: 1.0317 - accuracy: 0.7917 - precision: 0.8565 - recall: 0.7005 - val_loss: 1.0223 - val_accuracy: 0.7900 - val_precision: 0.8553 - val_recall: 0.7000\n",
            "Epoch 76/90\n",
            "234/234 - 1s - loss: 1.0121 - accuracy: 0.7928 - precision: 0.8564 - recall: 0.7031 - val_loss: 1.0035 - val_accuracy: 0.7908 - val_precision: 0.8551 - val_recall: 0.7021\n",
            "Epoch 77/90\n",
            "234/234 - 1s - loss: 0.9939 - accuracy: 0.7939 - precision: 0.8563 - recall: 0.7058 - val_loss: 0.9861 - val_accuracy: 0.7919 - val_precision: 0.8546 - val_recall: 0.7053\n",
            "Epoch 78/90\n",
            "234/234 - 1s - loss: 0.9771 - accuracy: 0.7940 - precision: 0.8549 - recall: 0.7079 - val_loss: 0.9698 - val_accuracy: 0.7928 - val_precision: 0.8529 - val_recall: 0.7096\n",
            "Epoch 79/90\n",
            "234/234 - 1s - loss: 0.9612 - accuracy: 0.7947 - precision: 0.8527 - recall: 0.7121 - val_loss: 0.9545 - val_accuracy: 0.7930 - val_precision: 0.8532 - val_recall: 0.7096\n",
            "Epoch 80/90\n",
            "234/234 - 1s - loss: 0.9464 - accuracy: 0.7944 - precision: 0.8525 - recall: 0.7117 - val_loss: 0.9402 - val_accuracy: 0.7936 - val_precision: 0.8523 - val_recall: 0.7123\n",
            "Epoch 81/90\n",
            "234/234 - 1s - loss: 0.9326 - accuracy: 0.7953 - precision: 0.8519 - recall: 0.7144 - val_loss: 0.9270 - val_accuracy: 0.7938 - val_precision: 0.8514 - val_recall: 0.7136\n",
            "Epoch 82/90\n",
            "234/234 - 1s - loss: 0.9200 - accuracy: 0.7957 - precision: 0.8515 - recall: 0.7158 - val_loss: 0.9151 - val_accuracy: 0.7944 - val_precision: 0.8475 - val_recall: 0.7200\n",
            "Epoch 83/90\n",
            "234/234 - 1s - loss: 0.9086 - accuracy: 0.7955 - precision: 0.8474 - recall: 0.7202 - val_loss: 0.9041 - val_accuracy: 0.7942 - val_precision: 0.8452 - val_recall: 0.7221\n",
            "Epoch 84/90\n",
            "234/234 - 1s - loss: 0.8980 - accuracy: 0.7950 - precision: 0.8452 - recall: 0.7218 - val_loss: 0.8939 - val_accuracy: 0.7942 - val_precision: 0.8418 - val_recall: 0.7264\n",
            "Epoch 85/90\n",
            "234/234 - 1s - loss: 0.8879 - accuracy: 0.7944 - precision: 0.8421 - recall: 0.7243 - val_loss: 0.8840 - val_accuracy: 0.7936 - val_precision: 0.8374 - val_recall: 0.7307\n",
            "Epoch 86/90\n",
            "234/234 - 1s - loss: 0.8783 - accuracy: 0.7938 - precision: 0.8384 - recall: 0.7276 - val_loss: 0.8747 - val_accuracy: 0.7936 - val_precision: 0.8370 - val_recall: 0.7312\n",
            "Epoch 87/90\n",
            "234/234 - 1s - loss: 0.8691 - accuracy: 0.7934 - precision: 0.8379 - recall: 0.7271 - val_loss: 0.8657 - val_accuracy: 0.7940 - val_precision: 0.8363 - val_recall: 0.7331\n",
            "Epoch 88/90\n",
            "234/234 - 1s - loss: 0.8602 - accuracy: 0.7931 - precision: 0.8370 - recall: 0.7277 - val_loss: 0.8570 - val_accuracy: 0.7939 - val_precision: 0.8342 - val_recall: 0.7355\n",
            "Epoch 89/90\n",
            "234/234 - 1s - loss: 0.8516 - accuracy: 0.7927 - precision: 0.8344 - recall: 0.7300 - val_loss: 0.8486 - val_accuracy: 0.7938 - val_precision: 0.8338 - val_recall: 0.7357\n",
            "Epoch 90/90\n",
            "234/234 - 1s - loss: 0.8432 - accuracy: 0.7931 - precision: 0.8332 - recall: 0.7325 - val_loss: 0.8404 - val_accuracy: 0.7935 - val_precision: 0.8343 - val_recall: 0.7344\n"
          ],
          "name": "stdout"
        }
      ]
    },
    {
      "cell_type": "code",
      "metadata": {
        "colab": {
          "base_uri": "https://localhost:8080/",
          "height": 541
        },
        "id": "lomLuJddUiZS",
        "outputId": "89cad545-ec42-4443-a11a-c68a7c6ed908"
      },
      "source": [
        "x_plot = list(range(1,n_epochs+1))\n",
        "\n",
        "def plot_history(network_history_l1):\n",
        "    plt.figure()\n",
        "    plt.xlabel('Epochs')\n",
        "    plt.ylabel('Loss')\n",
        "    plt.plot(x_plot, network_history_l1.history['loss'])\n",
        "    plt.plot(x_plot, network_history_l1.history['val_loss'])\n",
        "    plt.legend(['Training', 'Validation'])\n",
        "\n",
        "    plt.figure()\n",
        "    plt.xlabel('Epochs')\n",
        "    plt.ylabel('Accuracy')\n",
        "    plt.plot(x_plot, network_history_l1.history['accuracy'])\n",
        "    plt.plot(x_plot, network_history_l1.history['val_accuracy'])\n",
        "    plt.legend(['Training', 'Validation'], loc='lower right')\n",
        "    plt.show()\n",
        "\n",
        "plot_history(network_history_l1)"
      ],
      "execution_count": null,
      "outputs": [
        {
          "output_type": "display_data",
          "data": {
            "image/png": "[encoded data removed]",
            "text/plain": [
              "<Figure size 432x288 with 1 Axes>"
            ]
          },
          "metadata": {
            "tags": [],
            "needs_background": "light"
          }
        },
        {
          "output_type": "display_data",
          "data": {
            "image/png": "[encoded data removed]",
            "text/plain": [
              "<Figure size 432x288 with 1 Axes>"
            ]
          },
          "metadata": {
            "tags": [],
            "needs_background": "light"
          }
        }
      ]
    },
    {
      "cell_type": "code",
      "metadata": {
        "colab": {
          "base_uri": "https://localhost:8080/"
        },
        "id": "uchPAqt0Ujhm",
        "outputId": "ea4d2120-696b-47d0-bef7-a55dea9a7791"
      },
      "source": [
        "from sklearn.metrics import classification_report\n",
        "\n",
        "print(classification_report(y_validation, model_l1.predict_classes(X_validation)))"
      ],
      "execution_count": null,
      "outputs": [
        {
          "output_type": "stream",
          "text": [
            "              precision    recall  f1-score   support\n",
            "\n",
            "           0       0.76      0.85      0.80      3722\n",
            "           1       0.83      0.73      0.78      3750\n",
            "\n",
            "    accuracy                           0.79      7472\n",
            "   macro avg       0.80      0.79      0.79      7472\n",
            "weighted avg       0.80      0.79      0.79      7472\n",
            "\n"
          ],
          "name": "stdout"
        }
      ]
    },
    {
      "cell_type": "markdown",
      "metadata": {
        "id": "3dpQv76Qrk7N"
      },
      "source": [
        "**L2**"
      ]
    },
    {
      "cell_type": "code",
      "metadata": {
        "id": "42PbPRizrjqS"
      },
      "source": [
        "\n",
        "def NeuralNetwork_L2():\n",
        "  dims = X_train.shape[1]\n",
        "  model_l2 = Sequential()\n",
        "  model_l2.add(Dense(256, input_shape=(dims,), activation = \"relu\", kernel_initializer=initializer, kernel_regularizer=regularizers.l2(0.01) ))\n",
        "  model_l2.add(Dense(128, activation = \"relu\", kernel_initializer=initializer, kernel_regularizer=regularizers.l2(0.01) ))\n",
        "  model_l2.add(Dense(32, activation = \"relu\", kernel_initializer=initializer, kernel_regularizer=regularizers.l2(0.01) ))\n",
        "  model_l2.add(Dense(16, activation = \"relu\", kernel_initializer=initializer, kernel_regularizer=regularizers.l2(0.01) ))\n",
        "  model_l2.add(Dense(1, activation = \"sigmoid\",kernel_initializer=initializer))\n",
        "\n",
        "  model_l2.compile(optimizer=SGD(lr=0.001), loss='binary_crossentropy',metrics=['accuracy', metrics.Precision(name='precision'),  metrics.Recall(name='recall')])\n",
        "\n",
        "\n",
        "  return model_l2"
      ],
      "execution_count": null,
      "outputs": []
    },
    {
      "cell_type": "code",
      "metadata": {
        "colab": {
          "base_uri": "https://localhost:8080/"
        },
        "id": "WeurAfAEuNx5",
        "outputId": "1e212c75-d6f8-4a6c-c3d2-a9182905d622"
      },
      "source": [
        "model_l2 = NeuralNetwork_L2()\n",
        "model_l2.summary()"
      ],
      "execution_count": null,
      "outputs": [
        {
          "output_type": "stream",
          "text": [
            "Model: \"sequential_3\"\n",
            "_________________________________________________________________\n",
            "Layer (type)                 Output Shape              Param #   \n",
            "=================================================================\n",
            "dense_15 (Dense)             (None, 256)               6144      \n",
            "_________________________________________________________________\n",
            "dense_16 (Dense)             (None, 128)               32896     \n",
            "_________________________________________________________________\n",
            "dense_17 (Dense)             (None, 32)                4128      \n",
            "_________________________________________________________________\n",
            "dense_18 (Dense)             (None, 16)                528       \n",
            "_________________________________________________________________\n",
            "dense_19 (Dense)             (None, 1)                 17        \n",
            "=================================================================\n",
            "Total params: 43,713\n",
            "Trainable params: 43,713\n",
            "Non-trainable params: 0\n",
            "_________________________________________________________________\n"
          ],
          "name": "stdout"
        }
      ]
    },
    {
      "cell_type": "code",
      "metadata": {
        "colab": {
          "base_uri": "https://localhost:8080/"
        },
        "id": "lGZGNGJPulGa",
        "outputId": "b804515c-2234-48fb-b517-69f866020c92"
      },
      "source": [
        "network_history_l2 = model_l2.fit(X_train, y_train, batch_size=128, \n",
        "                              epochs=90, verbose=2, validation_data=(X_validation, y_validation))"
      ],
      "execution_count": null,
      "outputs": [
        {
          "output_type": "stream",
          "text": [
            "Epoch 1/90\n",
            "234/234 - 1s - loss: 3.5230 - accuracy: 0.5108 - precision: 0.5054 - recall: 0.9834 - val_loss: 3.4863 - val_accuracy: 0.5434 - val_precision: 0.5249 - val_recall: 0.9507\n",
            "Epoch 2/90\n",
            "234/234 - 1s - loss: 3.4577 - accuracy: 0.6156 - precision: 0.5728 - recall: 0.9067 - val_loss: 3.4314 - val_accuracy: 0.6780 - val_precision: 0.6331 - val_recall: 0.8525\n",
            "Epoch 3/90\n",
            "234/234 - 1s - loss: 3.4054 - accuracy: 0.7177 - precision: 0.6771 - recall: 0.8313 - val_loss: 3.3813 - val_accuracy: 0.7390 - val_precision: 0.7140 - val_recall: 0.8008\n",
            "Epoch 4/90\n",
            "234/234 - 1s - loss: 3.3562 - accuracy: 0.7607 - precision: 0.7423 - recall: 0.7982 - val_loss: 3.3333 - val_accuracy: 0.7657 - val_precision: 0.7532 - val_recall: 0.7928\n",
            "Epoch 5/90\n",
            "234/234 - 1s - loss: 3.3092 - accuracy: 0.7788 - precision: 0.7704 - recall: 0.7939 - val_loss: 3.2877 - val_accuracy: 0.7776 - val_precision: 0.7710 - val_recall: 0.7920\n",
            "Epoch 6/90\n",
            "234/234 - 1s - loss: 3.2650 - accuracy: 0.7900 - precision: 0.7844 - recall: 0.7993 - val_loss: 3.2451 - val_accuracy: 0.7840 - val_precision: 0.7791 - val_recall: 0.7949\n",
            "Epoch 7/90\n",
            "234/234 - 1s - loss: 3.2237 - accuracy: 0.7948 - precision: 0.7891 - recall: 0.8042 - val_loss: 3.2055 - val_accuracy: 0.7871 - val_precision: 0.7831 - val_recall: 0.7963\n",
            "Epoch 8/90\n",
            "234/234 - 1s - loss: 3.1852 - accuracy: 0.7970 - precision: 0.7906 - recall: 0.8074 - val_loss: 3.1687 - val_accuracy: 0.7908 - val_precision: 0.7880 - val_recall: 0.7979\n",
            "Epoch 9/90\n",
            "234/234 - 1s - loss: 3.1496 - accuracy: 0.7992 - precision: 0.7934 - recall: 0.8087 - val_loss: 3.1346 - val_accuracy: 0.7960 - val_precision: 0.7930 - val_recall: 0.8032\n",
            "Epoch 10/90\n",
            "234/234 - 1s - loss: 3.1165 - accuracy: 0.8015 - precision: 0.7971 - recall: 0.8085 - val_loss: 3.1027 - val_accuracy: 0.7995 - val_precision: 0.7976 - val_recall: 0.8048\n",
            "Epoch 11/90\n",
            "234/234 - 1s - loss: 3.0854 - accuracy: 0.8038 - precision: 0.7992 - recall: 0.8109 - val_loss: 3.0727 - val_accuracy: 0.8017 - val_precision: 0.7995 - val_recall: 0.8072\n",
            "Epoch 12/90\n",
            "234/234 - 1s - loss: 3.0559 - accuracy: 0.8051 - precision: 0.8010 - recall: 0.8115 - val_loss: 3.0442 - val_accuracy: 0.8023 - val_precision: 0.7999 - val_recall: 0.8083\n",
            "Epoch 13/90\n",
            "234/234 - 1s - loss: 3.0280 - accuracy: 0.8064 - precision: 0.8024 - recall: 0.8127 - val_loss: 3.0169 - val_accuracy: 0.8045 - val_precision: 0.8021 - val_recall: 0.8104\n",
            "Epoch 14/90\n",
            "234/234 - 1s - loss: 3.0011 - accuracy: 0.8074 - precision: 0.8030 - recall: 0.8144 - val_loss: 2.9906 - val_accuracy: 0.8058 - val_precision: 0.8045 - val_recall: 0.8099\n",
            "Epoch 15/90\n",
            "234/234 - 1s - loss: 2.9751 - accuracy: 0.8075 - precision: 0.8040 - recall: 0.8128 - val_loss: 2.9650 - val_accuracy: 0.8061 - val_precision: 0.8040 - val_recall: 0.8115\n",
            "Epoch 16/90\n",
            "234/234 - 1s - loss: 2.9497 - accuracy: 0.8079 - precision: 0.8035 - recall: 0.8147 - val_loss: 2.9400 - val_accuracy: 0.8059 - val_precision: 0.8038 - val_recall: 0.8115\n",
            "Epoch 17/90\n",
            "234/234 - 1s - loss: 2.9250 - accuracy: 0.8079 - precision: 0.8042 - recall: 0.8137 - val_loss: 2.9156 - val_accuracy: 0.8077 - val_precision: 0.8054 - val_recall: 0.8133\n",
            "Epoch 18/90\n",
            "234/234 - 1s - loss: 2.9008 - accuracy: 0.8088 - precision: 0.8061 - recall: 0.8129 - val_loss: 2.8916 - val_accuracy: 0.8078 - val_precision: 0.8046 - val_recall: 0.8149\n",
            "Epoch 19/90\n",
            "234/234 - 1s - loss: 2.8770 - accuracy: 0.8097 - precision: 0.8059 - recall: 0.8157 - val_loss: 2.8680 - val_accuracy: 0.8084 - val_precision: 0.8055 - val_recall: 0.8149\n",
            "Epoch 20/90\n",
            "234/234 - 1s - loss: 2.8535 - accuracy: 0.8107 - precision: 0.8069 - recall: 0.8166 - val_loss: 2.8448 - val_accuracy: 0.8086 - val_precision: 0.8057 - val_recall: 0.8152\n",
            "Epoch 21/90\n",
            "234/234 - 1s - loss: 2.8304 - accuracy: 0.8112 - precision: 0.8072 - recall: 0.8175 - val_loss: 2.8218 - val_accuracy: 0.8097 - val_precision: 0.8076 - val_recall: 0.8149\n",
            "Epoch 22/90\n",
            "234/234 - 1s - loss: 2.8076 - accuracy: 0.8119 - precision: 0.8090 - recall: 0.8161 - val_loss: 2.7992 - val_accuracy: 0.8101 - val_precision: 0.8074 - val_recall: 0.8163\n",
            "Epoch 23/90\n",
            "234/234 - 1s - loss: 2.7850 - accuracy: 0.8122 - precision: 0.8093 - recall: 0.8164 - val_loss: 2.7768 - val_accuracy: 0.8100 - val_precision: 0.8069 - val_recall: 0.8168\n",
            "Epoch 24/90\n",
            "234/234 - 1s - loss: 2.7628 - accuracy: 0.8128 - precision: 0.8089 - recall: 0.8186 - val_loss: 2.7546 - val_accuracy: 0.8105 - val_precision: 0.8079 - val_recall: 0.8165\n",
            "Epoch 25/90\n",
            "234/234 - 1s - loss: 2.7408 - accuracy: 0.8130 - precision: 0.8091 - recall: 0.8190 - val_loss: 2.7328 - val_accuracy: 0.8110 - val_precision: 0.8083 - val_recall: 0.8173\n",
            "Epoch 26/90\n",
            "234/234 - 1s - loss: 2.7190 - accuracy: 0.8132 - precision: 0.8101 - recall: 0.8178 - val_loss: 2.7111 - val_accuracy: 0.8114 - val_precision: 0.8086 - val_recall: 0.8179\n",
            "Epoch 27/90\n",
            "234/234 - 1s - loss: 2.6975 - accuracy: 0.8140 - precision: 0.8099 - recall: 0.8204 - val_loss: 2.6897 - val_accuracy: 0.8118 - val_precision: 0.8094 - val_recall: 0.8176\n",
            "Epoch 28/90\n",
            "234/234 - 1s - loss: 2.6762 - accuracy: 0.8142 - precision: 0.8114 - recall: 0.8184 - val_loss: 2.6685 - val_accuracy: 0.8120 - val_precision: 0.8090 - val_recall: 0.8187\n",
            "Epoch 29/90\n",
            "234/234 - 1s - loss: 2.6551 - accuracy: 0.8147 - precision: 0.8116 - recall: 0.8194 - val_loss: 2.6476 - val_accuracy: 0.8126 - val_precision: 0.8097 - val_recall: 0.8192\n",
            "Epoch 30/90\n",
            "234/234 - 1s - loss: 2.6343 - accuracy: 0.8146 - precision: 0.8106 - recall: 0.8208 - val_loss: 2.6269 - val_accuracy: 0.8128 - val_precision: 0.8111 - val_recall: 0.8173\n",
            "Epoch 31/90\n",
            "234/234 - 1s - loss: 2.6137 - accuracy: 0.8153 - precision: 0.8126 - recall: 0.8194 - val_loss: 2.6064 - val_accuracy: 0.8133 - val_precision: 0.8119 - val_recall: 0.8173\n",
            "Epoch 32/90\n",
            "234/234 - 1s - loss: 2.5933 - accuracy: 0.8156 - precision: 0.8132 - recall: 0.8190 - val_loss: 2.5861 - val_accuracy: 0.8132 - val_precision: 0.8115 - val_recall: 0.8176\n",
            "Epoch 33/90\n",
            "234/234 - 1s - loss: 2.5731 - accuracy: 0.8160 - precision: 0.8137 - recall: 0.8192 - val_loss: 2.5660 - val_accuracy: 0.8134 - val_precision: 0.8111 - val_recall: 0.8189\n",
            "Epoch 34/90\n",
            "234/234 - 1s - loss: 2.5531 - accuracy: 0.8165 - precision: 0.8145 - recall: 0.8192 - val_loss: 2.5461 - val_accuracy: 0.8136 - val_precision: 0.8114 - val_recall: 0.8189\n",
            "Epoch 35/90\n",
            "234/234 - 1s - loss: 2.5333 - accuracy: 0.8165 - precision: 0.8142 - recall: 0.8198 - val_loss: 2.5264 - val_accuracy: 0.8141 - val_precision: 0.8125 - val_recall: 0.8184\n",
            "Epoch 36/90\n",
            "234/234 - 1s - loss: 2.5138 - accuracy: 0.8165 - precision: 0.8139 - recall: 0.8202 - val_loss: 2.5069 - val_accuracy: 0.8137 - val_precision: 0.8127 - val_recall: 0.8171\n",
            "Epoch 37/90\n",
            "234/234 - 1s - loss: 2.4944 - accuracy: 0.8169 - precision: 0.8154 - recall: 0.8189 - val_loss: 2.4876 - val_accuracy: 0.8145 - val_precision: 0.8134 - val_recall: 0.8181\n",
            "Epoch 38/90\n",
            "234/234 - 1s - loss: 2.4752 - accuracy: 0.8170 - precision: 0.8140 - recall: 0.8214 - val_loss: 2.4685 - val_accuracy: 0.8146 - val_precision: 0.8144 - val_recall: 0.8168\n",
            "Epoch 39/90\n",
            "234/234 - 1s - loss: 2.4563 - accuracy: 0.8172 - precision: 0.8158 - recall: 0.8192 - val_loss: 2.4496 - val_accuracy: 0.8154 - val_precision: 0.8147 - val_recall: 0.8184\n",
            "Epoch 40/90\n",
            "234/234 - 1s - loss: 2.4375 - accuracy: 0.8178 - precision: 0.8167 - recall: 0.8190 - val_loss: 2.4309 - val_accuracy: 0.8154 - val_precision: 0.8147 - val_recall: 0.8184\n",
            "Epoch 41/90\n",
            "234/234 - 1s - loss: 2.4189 - accuracy: 0.8176 - precision: 0.8165 - recall: 0.8189 - val_loss: 2.4124 - val_accuracy: 0.8150 - val_precision: 0.8142 - val_recall: 0.8181\n",
            "Epoch 42/90\n",
            "234/234 - 1s - loss: 2.4005 - accuracy: 0.8181 - precision: 0.8159 - recall: 0.8214 - val_loss: 2.3941 - val_accuracy: 0.8156 - val_precision: 0.8156 - val_recall: 0.8173\n",
            "Epoch 43/90\n",
            "234/234 - 1s - loss: 2.3822 - accuracy: 0.8184 - precision: 0.8165 - recall: 0.8210 - val_loss: 2.3759 - val_accuracy: 0.8153 - val_precision: 0.8155 - val_recall: 0.8168\n",
            "Epoch 44/90\n",
            "234/234 - 1s - loss: 2.3642 - accuracy: 0.8186 - precision: 0.8173 - recall: 0.8204 - val_loss: 2.3579 - val_accuracy: 0.8157 - val_precision: 0.8155 - val_recall: 0.8179\n",
            "Epoch 45/90\n",
            "234/234 - 1s - loss: 2.3463 - accuracy: 0.8190 - precision: 0.8181 - recall: 0.8200 - val_loss: 2.3401 - val_accuracy: 0.8160 - val_precision: 0.8152 - val_recall: 0.8189\n",
            "Epoch 46/90\n",
            "234/234 - 1s - loss: 2.3286 - accuracy: 0.8193 - precision: 0.8184 - recall: 0.8204 - val_loss: 2.3225 - val_accuracy: 0.8164 - val_precision: 0.8154 - val_recall: 0.8197\n",
            "Epoch 47/90\n",
            "234/234 - 1s - loss: 2.3111 - accuracy: 0.8195 - precision: 0.8182 - recall: 0.8210 - val_loss: 2.3051 - val_accuracy: 0.8165 - val_precision: 0.8154 - val_recall: 0.8200\n",
            "Epoch 48/90\n",
            "234/234 - 1s - loss: 2.2938 - accuracy: 0.8200 - precision: 0.8186 - recall: 0.8218 - val_loss: 2.2878 - val_accuracy: 0.8171 - val_precision: 0.8168 - val_recall: 0.8192\n",
            "Epoch 49/90\n",
            "234/234 - 1s - loss: 2.2766 - accuracy: 0.8199 - precision: 0.8191 - recall: 0.8208 - val_loss: 2.2707 - val_accuracy: 0.8173 - val_precision: 0.8166 - val_recall: 0.8203\n",
            "Epoch 50/90\n",
            "234/234 - 1s - loss: 2.2596 - accuracy: 0.8202 - precision: 0.8188 - recall: 0.8220 - val_loss: 2.2538 - val_accuracy: 0.8179 - val_precision: 0.8174 - val_recall: 0.8203\n",
            "Epoch 51/90\n",
            "234/234 - 1s - loss: 2.2427 - accuracy: 0.8201 - precision: 0.8183 - recall: 0.8226 - val_loss: 2.2370 - val_accuracy: 0.8181 - val_precision: 0.8185 - val_recall: 0.8192\n",
            "Epoch 52/90\n",
            "234/234 - 1s - loss: 2.2261 - accuracy: 0.8208 - precision: 0.8207 - recall: 0.8206 - val_loss: 2.2204 - val_accuracy: 0.8181 - val_precision: 0.8177 - val_recall: 0.8205\n",
            "Epoch 53/90\n",
            "234/234 - 1s - loss: 2.2096 - accuracy: 0.8208 - precision: 0.8197 - recall: 0.8220 - val_loss: 2.2039 - val_accuracy: 0.8181 - val_precision: 0.8177 - val_recall: 0.8205\n",
            "Epoch 54/90\n",
            "234/234 - 1s - loss: 2.1932 - accuracy: 0.8207 - precision: 0.8192 - recall: 0.8228 - val_loss: 2.1877 - val_accuracy: 0.8185 - val_precision: 0.8184 - val_recall: 0.8205\n",
            "Epoch 55/90\n",
            "234/234 - 1s - loss: 2.1770 - accuracy: 0.8210 - precision: 0.8202 - recall: 0.8217 - val_loss: 2.1715 - val_accuracy: 0.8193 - val_precision: 0.8195 - val_recall: 0.8208\n",
            "Epoch 56/90\n",
            "234/234 - 1s - loss: 2.1610 - accuracy: 0.8209 - precision: 0.8199 - recall: 0.8221 - val_loss: 2.1555 - val_accuracy: 0.8193 - val_precision: 0.8200 - val_recall: 0.8200\n",
            "Epoch 57/90\n",
            "234/234 - 1s - loss: 2.1451 - accuracy: 0.8209 - precision: 0.8201 - recall: 0.8218 - val_loss: 2.1397 - val_accuracy: 0.8197 - val_precision: 0.8208 - val_recall: 0.8197\n",
            "Epoch 58/90\n",
            "234/234 - 1s - loss: 2.1294 - accuracy: 0.8210 - precision: 0.8207 - recall: 0.8210 - val_loss: 2.1241 - val_accuracy: 0.8200 - val_precision: 0.8206 - val_recall: 0.8208\n",
            "Epoch 59/90\n",
            "234/234 - 1s - loss: 2.1138 - accuracy: 0.8211 - precision: 0.8204 - recall: 0.8218 - val_loss: 2.1085 - val_accuracy: 0.8200 - val_precision: 0.8208 - val_recall: 0.8205\n",
            "Epoch 60/90\n",
            "234/234 - 1s - loss: 2.0984 - accuracy: 0.8210 - precision: 0.8200 - recall: 0.8222 - val_loss: 2.0932 - val_accuracy: 0.8196 - val_precision: 0.8206 - val_recall: 0.8197\n",
            "Epoch 61/90\n",
            "234/234 - 1s - loss: 2.0831 - accuracy: 0.8212 - precision: 0.8207 - recall: 0.8216 - val_loss: 2.0780 - val_accuracy: 0.8197 - val_precision: 0.8205 - val_recall: 0.8203\n",
            "Epoch 62/90\n",
            "234/234 - 1s - loss: 2.0679 - accuracy: 0.8211 - precision: 0.8209 - recall: 0.8210 - val_loss: 2.0629 - val_accuracy: 0.8204 - val_precision: 0.8211 - val_recall: 0.8211\n",
            "Epoch 63/90\n",
            "234/234 - 1s - loss: 2.0530 - accuracy: 0.8214 - precision: 0.8212 - recall: 0.8212 - val_loss: 2.0480 - val_accuracy: 0.8207 - val_precision: 0.8210 - val_recall: 0.8219\n",
            "Epoch 64/90\n",
            "234/234 - 1s - loss: 2.0381 - accuracy: 0.8213 - precision: 0.8206 - recall: 0.8219 - val_loss: 2.0332 - val_accuracy: 0.8208 - val_precision: 0.8210 - val_recall: 0.8221\n",
            "Epoch 65/90\n",
            "234/234 - 1s - loss: 2.0234 - accuracy: 0.8215 - precision: 0.8211 - recall: 0.8217 - val_loss: 2.0185 - val_accuracy: 0.8204 - val_precision: 0.8209 - val_recall: 0.8213\n",
            "Epoch 66/90\n",
            "234/234 - 1s - loss: 2.0089 - accuracy: 0.8214 - precision: 0.8208 - recall: 0.8220 - val_loss: 2.0040 - val_accuracy: 0.8208 - val_precision: 0.8221 - val_recall: 0.8205\n",
            "Epoch 67/90\n",
            "234/234 - 1s - loss: 1.9944 - accuracy: 0.8220 - precision: 0.8226 - recall: 0.8207 - val_loss: 1.9897 - val_accuracy: 0.8204 - val_precision: 0.8206 - val_recall: 0.8219\n",
            "Epoch 68/90\n",
            "234/234 - 1s - loss: 1.9802 - accuracy: 0.8220 - precision: 0.8221 - recall: 0.8214 - val_loss: 1.9755 - val_accuracy: 0.8205 - val_precision: 0.8204 - val_recall: 0.8224\n",
            "Epoch 69/90\n",
            "234/234 - 1s - loss: 1.9660 - accuracy: 0.8220 - precision: 0.8222 - recall: 0.8214 - val_loss: 1.9614 - val_accuracy: 0.8204 - val_precision: 0.8204 - val_recall: 0.8221\n",
            "Epoch 70/90\n",
            "234/234 - 1s - loss: 1.9520 - accuracy: 0.8220 - precision: 0.8215 - recall: 0.8225 - val_loss: 1.9474 - val_accuracy: 0.8208 - val_precision: 0.8216 - val_recall: 0.8213\n",
            "Epoch 71/90\n",
            "234/234 - 1s - loss: 1.9381 - accuracy: 0.8219 - precision: 0.8221 - recall: 0.8212 - val_loss: 1.9336 - val_accuracy: 0.8209 - val_precision: 0.8216 - val_recall: 0.8216\n",
            "Epoch 72/90\n",
            "234/234 - 1s - loss: 1.9244 - accuracy: 0.8220 - precision: 0.8220 - recall: 0.8216 - val_loss: 1.9199 - val_accuracy: 0.8212 - val_precision: 0.8219 - val_recall: 0.8219\n",
            "Epoch 73/90\n",
            "234/234 - 1s - loss: 1.9108 - accuracy: 0.8225 - precision: 0.8230 - recall: 0.8212 - val_loss: 1.9063 - val_accuracy: 0.8213 - val_precision: 0.8216 - val_recall: 0.8227\n",
            "Epoch 74/90\n",
            "234/234 - 1s - loss: 1.8973 - accuracy: 0.8222 - precision: 0.8228 - recall: 0.8210 - val_loss: 1.8929 - val_accuracy: 0.8219 - val_precision: 0.8218 - val_recall: 0.8237\n",
            "Epoch 75/90\n",
            "234/234 - 1s - loss: 1.8839 - accuracy: 0.8222 - precision: 0.8216 - recall: 0.8226 - val_loss: 1.8796 - val_accuracy: 0.8217 - val_precision: 0.8224 - val_recall: 0.8224\n",
            "Epoch 76/90\n",
            "234/234 - 1s - loss: 1.8707 - accuracy: 0.8225 - precision: 0.8231 - recall: 0.8212 - val_loss: 1.8664 - val_accuracy: 0.8220 - val_precision: 0.8223 - val_recall: 0.8232\n",
            "Epoch 77/90\n",
            "234/234 - 1s - loss: 1.8576 - accuracy: 0.8227 - precision: 0.8230 - recall: 0.8218 - val_loss: 1.8534 - val_accuracy: 0.8221 - val_precision: 0.8236 - val_recall: 0.8216\n",
            "Epoch 78/90\n",
            "234/234 - 1s - loss: 1.8446 - accuracy: 0.8227 - precision: 0.8239 - recall: 0.8204 - val_loss: 1.8404 - val_accuracy: 0.8223 - val_precision: 0.8228 - val_recall: 0.8232\n",
            "Epoch 79/90\n",
            "234/234 - 1s - loss: 1.8317 - accuracy: 0.8225 - precision: 0.8227 - recall: 0.8216 - val_loss: 1.8276 - val_accuracy: 0.8223 - val_precision: 0.8233 - val_recall: 0.8224\n",
            "Epoch 80/90\n",
            "234/234 - 1s - loss: 1.8189 - accuracy: 0.8229 - precision: 0.8241 - recall: 0.8206 - val_loss: 1.8149 - val_accuracy: 0.8225 - val_precision: 0.8227 - val_recall: 0.8240\n",
            "Epoch 81/90\n",
            "234/234 - 1s - loss: 1.8063 - accuracy: 0.8228 - precision: 0.8227 - recall: 0.8226 - val_loss: 1.8024 - val_accuracy: 0.8223 - val_precision: 0.8228 - val_recall: 0.8232\n",
            "Epoch 82/90\n",
            "234/234 - 1s - loss: 1.7938 - accuracy: 0.8227 - precision: 0.8226 - recall: 0.8224 - val_loss: 1.7899 - val_accuracy: 0.8220 - val_precision: 0.8234 - val_recall: 0.8216\n",
            "Epoch 83/90\n",
            "234/234 - 1s - loss: 1.7814 - accuracy: 0.8231 - precision: 0.8240 - recall: 0.8214 - val_loss: 1.7776 - val_accuracy: 0.8223 - val_precision: 0.8231 - val_recall: 0.8227\n",
            "Epoch 84/90\n",
            "234/234 - 1s - loss: 1.7691 - accuracy: 0.8233 - precision: 0.8247 - recall: 0.8208 - val_loss: 1.7653 - val_accuracy: 0.8227 - val_precision: 0.8226 - val_recall: 0.8245\n",
            "Epoch 85/90\n",
            "234/234 - 1s - loss: 1.7570 - accuracy: 0.8232 - precision: 0.8234 - recall: 0.8224 - val_loss: 1.7532 - val_accuracy: 0.8225 - val_precision: 0.8230 - val_recall: 0.8235\n",
            "Epoch 86/90\n",
            "234/234 - 1s - loss: 1.7449 - accuracy: 0.8234 - precision: 0.8236 - recall: 0.8226 - val_loss: 1.7412 - val_accuracy: 0.8224 - val_precision: 0.8230 - val_recall: 0.8232\n",
            "Epoch 87/90\n",
            "234/234 - 1s - loss: 1.7330 - accuracy: 0.8234 - precision: 0.8240 - recall: 0.8221 - val_loss: 1.7294 - val_accuracy: 0.8227 - val_precision: 0.8227 - val_recall: 0.8243\n",
            "Epoch 88/90\n",
            "234/234 - 1s - loss: 1.7212 - accuracy: 0.8236 - precision: 0.8239 - recall: 0.8229 - val_loss: 1.7176 - val_accuracy: 0.8229 - val_precision: 0.8232 - val_recall: 0.8243\n",
            "Epoch 89/90\n",
            "234/234 - 1s - loss: 1.7095 - accuracy: 0.8233 - precision: 0.8232 - recall: 0.8231 - val_loss: 1.7060 - val_accuracy: 0.8228 - val_precision: 0.8240 - val_recall: 0.8227\n",
            "Epoch 90/90\n",
            "234/234 - 1s - loss: 1.6979 - accuracy: 0.8236 - precision: 0.8242 - recall: 0.8223 - val_loss: 1.6945 - val_accuracy: 0.8229 - val_precision: 0.8235 - val_recall: 0.8237\n"
          ],
          "name": "stdout"
        }
      ]
    },
    {
      "cell_type": "code",
      "metadata": {
        "colab": {
          "base_uri": "https://localhost:8080/",
          "height": 541
        },
        "id": "1bvb7A08VBQb",
        "outputId": "57213acd-1710-421b-ab53-e074a75c0c98"
      },
      "source": [
        "x_plot = list(range(1,n_epochs+1))\n",
        "\n",
        "def plot_history(network_history_l2):\n",
        "    plt.figure()\n",
        "    plt.xlabel('Epochs')\n",
        "    plt.ylabel('Loss')\n",
        "    plt.plot(x_plot, network_history_l2.history['loss'])\n",
        "    plt.plot(x_plot, network_history_l2.history['val_loss'])\n",
        "    plt.legend(['Training', 'Validation'])\n",
        "\n",
        "    plt.figure()\n",
        "    plt.xlabel('Epochs')\n",
        "    plt.ylabel('Accuracy')\n",
        "    plt.plot(x_plot, network_history_l2.history['accuracy'])\n",
        "    plt.plot(x_plot, network_history_l2.history['val_accuracy'])\n",
        "    plt.legend(['Training', 'Validation'], loc='lower right')\n",
        "    plt.show()\n",
        "\n",
        "plot_history(network_history_l2)"
      ],
      "execution_count": null,
      "outputs": [
        {
          "output_type": "display_data",
          "data": {
            "image/png": "[encoded data removed]",
            "text/plain": [
              "<Figure size 432x288 with 1 Axes>"
            ]
          },
          "metadata": {
            "tags": [],
            "needs_background": "light"
          }
        },
        {
          "output_type": "display_data",
          "data": {
            "image/png": "[encoded data removed]",
            "text/plain": [
              "<Figure size 432x288 with 1 Axes>"
            ]
          },
          "metadata": {
            "tags": [],
            "needs_background": "light"
          }
        }
      ]
    },
    {
      "cell_type": "code",
      "metadata": {
        "colab": {
          "base_uri": "https://localhost:8080/"
        },
        "id": "196T6gLvVGNo",
        "outputId": "1d8ed1ad-daa5-4bd4-8434-1042acee6c62"
      },
      "source": [
        "from sklearn.metrics import classification_report\n",
        "\n",
        "print(classification_report(y_validation, model_l2.predict_classes(X_validation)))"
      ],
      "execution_count": null,
      "outputs": [
        {
          "output_type": "stream",
          "text": [
            "              precision    recall  f1-score   support\n",
            "\n",
            "           0       0.82      0.82      0.82      3722\n",
            "           1       0.82      0.82      0.82      3750\n",
            "\n",
            "    accuracy                           0.82      7472\n",
            "   macro avg       0.82      0.82      0.82      7472\n",
            "weighted avg       0.82      0.82      0.82      7472\n",
            "\n"
          ],
          "name": "stdout"
        }
      ]
    },
    {
      "cell_type": "markdown",
      "metadata": {
        "id": "yHd3SY8Aw7Dm"
      },
      "source": [
        "**Weight Control**"
      ]
    },
    {
      "cell_type": "code",
      "metadata": {
        "colab": {
          "base_uri": "https://localhost:8080/"
        },
        "id": "HC8OBV7_w-nr",
        "outputId": "1f52d722-a660-495a-e768-b0f94a1eea4d"
      },
      "source": [
        "print('Layers name:', model.weights[6].name)\n",
        "print('Layers kernel shape:', model.weights[6].shape)\n",
        "print('Kernel:', model.weights[6][0], end = '\\n\\n')\n",
        "print('Layers name:', model.weights[7].name)\n",
        "print('Layers kernel shape:', model.weights[7].shape)\n",
        "print('Kernel:', model.weights[7])"
      ],
      "execution_count": null,
      "outputs": [
        {
          "output_type": "stream",
          "text": [
            "Layers name: dense_3/kernel:0\n",
            "Layers kernel shape: (32, 16)\n",
            "Kernel: tf.Tensor(\n",
            "[ 0.18958615  0.3706519  -0.21165699  0.22769915 -0.06345185 -0.22380148\n",
            " -0.02390829  0.34474865  0.38142404 -0.19968459 -0.02190387  0.05808946\n",
            " -0.14649895  0.24567866 -0.06550298 -0.1704939 ], shape=(16,), dtype=float32)\n",
            "\n",
            "Layers name: dense_3/bias:0\n",
            "Layers kernel shape: (16,)\n",
            "Kernel: <tf.Variable 'dense_3/bias:0' shape=(16,) dtype=float32, numpy=\n",
            "array([ 0.00543372,  0.04114247,  0.06659926,  0.08501196,  0.00523947,\n",
            "        0.06769285, -0.0045077 , -0.00151187,  0.08378088,  0.0149072 ,\n",
            "        0.00937689,  0.03325773,  0.10270713,  0.07433984,  0.01324603,\n",
            "        0.10722887], dtype=float32)>\n"
          ],
          "name": "stdout"
        }
      ]
    },
    {
      "cell_type": "code",
      "metadata": {
        "colab": {
          "base_uri": "https://localhost:8080/"
        },
        "id": "RZ46mXjrxCX_",
        "outputId": "bcce4152-f6a8-4482-91d0-6d92ca86d4d2"
      },
      "source": [
        "print('Layers name:', model_l2.weights[6].name)\n",
        "print('Layers kernel shape:', model_l2.weights[6].shape)\n",
        "print('Kernel:', model_l2.weights[6][0], end = '\\n\\n')\n",
        "print('Layers name:', model_l2.weights[7].name)\n",
        "print('Layers kernel shape:', model_l2.weights[7].shape)\n",
        "print('Kernel:', model_l2.weights[7])"
      ],
      "execution_count": null,
      "outputs": [
        {
          "output_type": "stream",
          "text": [
            "Layers name: dense_18/kernel:0\n",
            "Layers kernel shape: (32, 16)\n",
            "Kernel: tf.Tensor(\n",
            "[ 0.13582277  0.26500872 -0.14535667  0.16481411 -0.0460673  -0.15591896\n",
            " -0.01708642  0.2262442   0.28033307 -0.13133064 -0.02006625  0.04395174\n",
            " -0.10148692  0.1781306  -0.0473645  -0.11980658], shape=(16,), dtype=float32)\n",
            "\n",
            "Layers name: dense_18/bias:0\n",
            "Layers kernel shape: (16,)\n",
            "Kernel: <tf.Variable 'dense_18/bias:0' shape=(16,) dtype=float32, numpy=\n",
            "array([ 0.03033096,  0.05808203,  0.09238762,  0.09331415,  0.00780793,\n",
            "        0.11647563, -0.01000579, -0.00152462,  0.13044962,  0.03033591,\n",
            "        0.01424668,  0.04460514,  0.13958514,  0.08849746,  0.02025154,\n",
            "        0.13429853], dtype=float32)>\n"
          ],
          "name": "stdout"
        }
      ]
    },
    {
      "cell_type": "code",
      "metadata": {
        "colab": {
          "base_uri": "https://localhost:8080/"
        },
        "id": "Q2T3NNNgxE9c",
        "outputId": "e276ab1e-9b9d-4ec7-d02e-a4d632d99831"
      },
      "source": [
        "print('Layers name:', model_l1.weights[6].name)\n",
        "print('Layers kernel shape:', model_l1.weights[6].shape)\n",
        "print('Kernel:', model_l1.weights[6][0], end = '\\n\\n')\n",
        "print('Layers name:', model_l1.weights[7].name)\n",
        "print('Layers kernel shape:', model_l1.weights[7].shape)\n",
        "print('Kernel:', model_l1.weights[7])"
      ],
      "execution_count": null,
      "outputs": [
        {
          "output_type": "stream",
          "text": [
            "Layers name: dense_8/kernel:0\n",
            "Layers kernel shape: (32, 16)\n",
            "Kernel: tf.Tensor(\n",
            "[ 3.5981044e-02  2.7489507e-01 -9.1613829e-06  9.3851991e-02\n",
            "  9.3297604e-06 -1.0606014e-01 -9.8113571e-07  1.3404648e-01\n",
            "  3.3975387e-01 -1.9377753e-03  1.1203421e-06 -1.5217035e-05\n",
            " -2.5009023e-02  1.2630498e-01 -3.1427478e-06 -3.7015561e-02], shape=(16,), dtype=float32)\n",
            "\n",
            "Layers name: dense_8/bias:0\n",
            "Layers kernel shape: (16,)\n",
            "Kernel: <tf.Variable 'dense_8/bias:0' shape=(16,) dtype=float32, numpy=\n",
            "array([ 0.01471663,  0.01016821,  0.01286812,  0.02523788,  0.02844609,\n",
            "        0.28222683, -0.02937851, -0.00159137,  0.06106265, -0.03523069,\n",
            "        0.06176941,  0.00707647,  0.17534976,  0.01247196,  0.04306566,\n",
            "        0.23647992], dtype=float32)>\n"
          ],
          "name": "stdout"
        }
      ]
    },
    {
      "cell_type": "code",
      "metadata": {
        "colab": {
          "base_uri": "https://localhost:8080/"
        },
        "id": "GgfDcvBvxIPW",
        "outputId": "055d42e3-6c37-40d1-fa06-f3e03d939fa3"
      },
      "source": [
        "print('Sum of the values of the weights without regularization:', sum(abs(model.weights[6][0])).numpy() + sum(abs(model.weights[7][0])).numpy())\n",
        "print('Sum of the values of the weights with regularization l2:', sum(abs(model_l2.weights[6][0])).numpy() + sum(abs(model_l2.weights[7][0])).numpy())\n",
        "print('Sum of the values of the weights with regularization l1:', sum(abs(model_l1.weights[6][0])).numpy() + sum(abs(model_l1.weights[7][0])).numpy())"
      ],
      "execution_count": null,
      "outputs": [
        {
          "output_type": "stream",
          "text": [
            "Sum of the values of the weights without regularization: 2.9502146\n",
            "Sum of the values of the weights with regularization l2: 2.1091204\n",
            "Sum of the values of the weights with regularization l1: 1.1896114\n"
          ],
          "name": "stdout"
        }
      ]
    },
    {
      "cell_type": "markdown",
      "metadata": {
        "id": "e0SK93pQQl3H"
      },
      "source": [
        "**Dropout**"
      ]
    },
    {
      "cell_type": "code",
      "metadata": {
        "id": "5QaktWZ2QsoV"
      },
      "source": [
        "initializer = tf.keras.initializers.GlorotUniform(seed=1234)\n",
        "\n",
        "def NeuralNetwork_Drop():\n",
        "  dims = X_train.shape[1]\n",
        "  model_d = Sequential()\n",
        "  model_d.add(Dense(256, input_shape=(dims,), activation = \"relu\", kernel_initializer=initializer))\n",
        "  model_d.add(Dense(128, activation = \"relu\", kernel_initializer=initializer))\n",
        "  model_d.add(Dropout(0.2))\n",
        "  model_d.add(Dense(32, activation = \"relu\", kernel_initializer=initializer))\n",
        "  model_d.add(Dropout(0.2))\n",
        "  model_d.add(Dense(16, activation = \"relu\", kernel_initializer=initializer))\n",
        "  model_d.add(Dropout(0.2))\n",
        "  model_d.add(Dense(1, activation = \"sigmoid\", kernel_initializer=initializer))\n",
        "\n",
        "\n",
        "  model_d.compile(optimizer=SGD(lr=0.001), loss='binary_crossentropy',metrics=['accuracy', metrics.Precision(name='precision'),  metrics.Recall(name='recall')])\n",
        "  return model_d"
      ],
      "execution_count": null,
      "outputs": []
    },
    {
      "cell_type": "code",
      "metadata": {
        "colab": {
          "base_uri": "https://localhost:8080/"
        },
        "id": "g9Qc0tHPS7Sc",
        "outputId": "bc2cb5e0-f482-45dc-bb0d-b73b1b141cc4"
      },
      "source": [
        "\n",
        "model_drop = NeuralNetwork_Drop()\n",
        "model_drop.summary()\n",
        "n_epochs = 90\n"
      ],
      "execution_count": null,
      "outputs": [
        {
          "output_type": "stream",
          "text": [
            "Model: \"sequential_4\"\n",
            "_________________________________________________________________\n",
            "Layer (type)                 Output Shape              Param #   \n",
            "=================================================================\n",
            "dense_20 (Dense)             (None, 256)               6144      \n",
            "_________________________________________________________________\n",
            "dense_21 (Dense)             (None, 128)               32896     \n",
            "_________________________________________________________________\n",
            "dropout (Dropout)            (None, 128)               0         \n",
            "_________________________________________________________________\n",
            "dense_22 (Dense)             (None, 64)                8256      \n",
            "_________________________________________________________________\n",
            "dropout_1 (Dropout)          (None, 64)                0         \n",
            "_________________________________________________________________\n",
            "dense_23 (Dense)             (None, 32)                2080      \n",
            "_________________________________________________________________\n",
            "dropout_2 (Dropout)          (None, 32)                0         \n",
            "_________________________________________________________________\n",
            "dense_24 (Dense)             (None, 1)                 33        \n",
            "=================================================================\n",
            "Total params: 49,409\n",
            "Trainable params: 49,409\n",
            "Non-trainable params: 0\n",
            "_________________________________________________________________\n"
          ],
          "name": "stdout"
        }
      ]
    },
    {
      "cell_type": "code",
      "metadata": {
        "colab": {
          "base_uri": "https://localhost:8080/"
        },
        "id": "3p6njdC0TiP2",
        "outputId": "3bc0fe4d-5fd8-4971-8802-1f75a8f261b4"
      },
      "source": [
        "network_history_model_drop = model_drop.fit(X_train, y_train, batch_size=128, \n",
        "                            epochs=n_epochs, verbose=2, validation_data=(X_validation, y_validation))"
      ],
      "execution_count": null,
      "outputs": [
        {
          "output_type": "stream",
          "text": [
            "Epoch 1/90\n",
            "234/234 - 1s - loss: 0.7367 - accuracy: 0.5054 - precision: 0.5026 - recall: 0.9818 - val_loss: 0.6959 - val_accuracy: 0.4995 - val_precision: 0.5007 - val_recall: 0.9771\n",
            "Epoch 2/90\n",
            "234/234 - 1s - loss: 0.7009 - accuracy: 0.5278 - precision: 0.5154 - recall: 0.9186 - val_loss: 0.6727 - val_accuracy: 0.5982 - val_precision: 0.5655 - val_recall: 0.8608\n",
            "Epoch 3/90\n",
            "234/234 - 1s - loss: 0.6795 - accuracy: 0.5836 - precision: 0.5545 - recall: 0.8468 - val_loss: 0.6558 - val_accuracy: 0.6973 - val_precision: 0.6766 - val_recall: 0.7603\n",
            "Epoch 4/90\n",
            "234/234 - 1s - loss: 0.6629 - accuracy: 0.6326 - precision: 0.6017 - recall: 0.7825 - val_loss: 0.6404 - val_accuracy: 0.7353 - val_precision: 0.7486 - val_recall: 0.7115\n",
            "Epoch 5/90\n",
            "234/234 - 1s - loss: 0.6466 - accuracy: 0.6738 - precision: 0.6509 - recall: 0.7484 - val_loss: 0.6245 - val_accuracy: 0.7567 - val_precision: 0.7965 - val_recall: 0.6920\n",
            "Epoch 6/90\n",
            "234/234 - 1s - loss: 0.6328 - accuracy: 0.6986 - precision: 0.6890 - recall: 0.7231 - val_loss: 0.6080 - val_accuracy: 0.7645 - val_precision: 0.8119 - val_recall: 0.6907\n",
            "Epoch 7/90\n",
            "234/234 - 1s - loss: 0.6175 - accuracy: 0.7244 - precision: 0.7228 - recall: 0.7272 - val_loss: 0.5910 - val_accuracy: 0.7706 - val_precision: 0.8183 - val_recall: 0.6979\n",
            "Epoch 8/90\n",
            "234/234 - 1s - loss: 0.6009 - accuracy: 0.7354 - precision: 0.7390 - recall: 0.7272 - val_loss: 0.5743 - val_accuracy: 0.7744 - val_precision: 0.8203 - val_recall: 0.7048\n",
            "Epoch 9/90\n",
            "234/234 - 1s - loss: 0.5847 - accuracy: 0.7513 - precision: 0.7603 - recall: 0.7334 - val_loss: 0.5584 - val_accuracy: 0.7788 - val_precision: 0.8209 - val_recall: 0.7152\n",
            "Epoch 10/90\n",
            "234/234 - 1s - loss: 0.5710 - accuracy: 0.7597 - precision: 0.7710 - recall: 0.7383 - val_loss: 0.5439 - val_accuracy: 0.7816 - val_precision: 0.8201 - val_recall: 0.7235\n",
            "Epoch 11/90\n",
            "234/234 - 1s - loss: 0.5581 - accuracy: 0.7615 - precision: 0.7741 - recall: 0.7381 - val_loss: 0.5313 - val_accuracy: 0.7849 - val_precision: 0.8203 - val_recall: 0.7317\n",
            "Epoch 12/90\n",
            "234/234 - 1s - loss: 0.5478 - accuracy: 0.7679 - precision: 0.7810 - recall: 0.7440 - val_loss: 0.5205 - val_accuracy: 0.7879 - val_precision: 0.8207 - val_recall: 0.7387\n",
            "Epoch 13/90\n",
            "234/234 - 1s - loss: 0.5370 - accuracy: 0.7734 - precision: 0.7870 - recall: 0.7494 - val_loss: 0.5114 - val_accuracy: 0.7910 - val_precision: 0.8212 - val_recall: 0.7459\n",
            "Epoch 14/90\n",
            "234/234 - 1s - loss: 0.5318 - accuracy: 0.7757 - precision: 0.7900 - recall: 0.7507 - val_loss: 0.5042 - val_accuracy: 0.7919 - val_precision: 0.8203 - val_recall: 0.7496\n",
            "Epoch 15/90\n",
            "234/234 - 1s - loss: 0.5235 - accuracy: 0.7790 - precision: 0.7917 - recall: 0.7567 - val_loss: 0.4984 - val_accuracy: 0.7951 - val_precision: 0.8215 - val_recall: 0.7560\n",
            "Epoch 16/90\n",
            "234/234 - 1s - loss: 0.5159 - accuracy: 0.7840 - precision: 0.7970 - recall: 0.7617 - val_loss: 0.4936 - val_accuracy: 0.7956 - val_precision: 0.8204 - val_recall: 0.7589\n",
            "Epoch 17/90\n",
            "234/234 - 1s - loss: 0.5124 - accuracy: 0.7848 - precision: 0.7984 - recall: 0.7617 - val_loss: 0.4899 - val_accuracy: 0.7964 - val_precision: 0.8200 - val_recall: 0.7616\n",
            "Epoch 18/90\n",
            "234/234 - 1s - loss: 0.5086 - accuracy: 0.7857 - precision: 0.7992 - recall: 0.7628 - val_loss: 0.4868 - val_accuracy: 0.7987 - val_precision: 0.8203 - val_recall: 0.7669\n",
            "Epoch 19/90\n",
            "234/234 - 1s - loss: 0.5040 - accuracy: 0.7888 - precision: 0.8022 - recall: 0.7661 - val_loss: 0.4843 - val_accuracy: 0.7990 - val_precision: 0.8195 - val_recall: 0.7688\n",
            "Epoch 20/90\n",
            "234/234 - 1s - loss: 0.5048 - accuracy: 0.7876 - precision: 0.7997 - recall: 0.7668 - val_loss: 0.4822 - val_accuracy: 0.7993 - val_precision: 0.8185 - val_recall: 0.7709\n",
            "Epoch 21/90\n",
            "234/234 - 1s - loss: 0.5014 - accuracy: 0.7893 - precision: 0.8001 - recall: 0.7708 - val_loss: 0.4803 - val_accuracy: 0.8002 - val_precision: 0.8189 - val_recall: 0.7728\n",
            "Epoch 22/90\n",
            "234/234 - 1s - loss: 0.4958 - accuracy: 0.7931 - precision: 0.8042 - recall: 0.7745 - val_loss: 0.4786 - val_accuracy: 0.8009 - val_precision: 0.8184 - val_recall: 0.7752\n",
            "Epoch 23/90\n",
            "234/234 - 1s - loss: 0.4966 - accuracy: 0.7935 - precision: 0.8054 - recall: 0.7737 - val_loss: 0.4771 - val_accuracy: 0.8015 - val_precision: 0.8174 - val_recall: 0.7784\n",
            "Epoch 24/90\n",
            "234/234 - 1s - loss: 0.4946 - accuracy: 0.7957 - precision: 0.8064 - recall: 0.7778 - val_loss: 0.4756 - val_accuracy: 0.8023 - val_precision: 0.8179 - val_recall: 0.7797\n",
            "Epoch 25/90\n",
            "234/234 - 1s - loss: 0.4952 - accuracy: 0.7944 - precision: 0.8056 - recall: 0.7756 - val_loss: 0.4743 - val_accuracy: 0.8038 - val_precision: 0.8186 - val_recall: 0.7824\n",
            "Epoch 26/90\n",
            "234/234 - 1s - loss: 0.4920 - accuracy: 0.7975 - precision: 0.8082 - recall: 0.7797 - val_loss: 0.4730 - val_accuracy: 0.8058 - val_precision: 0.8205 - val_recall: 0.7848\n",
            "Epoch 27/90\n",
            "234/234 - 1s - loss: 0.4901 - accuracy: 0.7982 - precision: 0.8090 - recall: 0.7803 - val_loss: 0.4718 - val_accuracy: 0.8063 - val_precision: 0.8214 - val_recall: 0.7848\n",
            "Epoch 28/90\n",
            "234/234 - 1s - loss: 0.4893 - accuracy: 0.7981 - precision: 0.8080 - recall: 0.7817 - val_loss: 0.4706 - val_accuracy: 0.8070 - val_precision: 0.8225 - val_recall: 0.7848\n",
            "Epoch 29/90\n",
            "234/234 - 1s - loss: 0.4887 - accuracy: 0.8001 - precision: 0.8121 - recall: 0.7803 - val_loss: 0.4694 - val_accuracy: 0.8084 - val_precision: 0.8232 - val_recall: 0.7872\n",
            "Epoch 30/90\n",
            "234/234 - 1s - loss: 0.4865 - accuracy: 0.8012 - precision: 0.8111 - recall: 0.7849 - val_loss: 0.4683 - val_accuracy: 0.8098 - val_precision: 0.8237 - val_recall: 0.7901\n",
            "Epoch 31/90\n",
            "234/234 - 1s - loss: 0.4854 - accuracy: 0.8010 - precision: 0.8111 - recall: 0.7844 - val_loss: 0.4672 - val_accuracy: 0.8109 - val_precision: 0.8250 - val_recall: 0.7909\n",
            "Epoch 32/90\n",
            "234/234 - 1s - loss: 0.4845 - accuracy: 0.8008 - precision: 0.8113 - recall: 0.7835 - val_loss: 0.4661 - val_accuracy: 0.8113 - val_precision: 0.8243 - val_recall: 0.7931\n",
            "Epoch 33/90\n",
            "234/234 - 1s - loss: 0.4841 - accuracy: 0.8022 - precision: 0.8127 - recall: 0.7851 - val_loss: 0.4651 - val_accuracy: 0.8125 - val_precision: 0.8254 - val_recall: 0.7944\n",
            "Epoch 34/90\n",
            "234/234 - 1s - loss: 0.4852 - accuracy: 0.8017 - precision: 0.8122 - recall: 0.7845 - val_loss: 0.4641 - val_accuracy: 0.8128 - val_precision: 0.8259 - val_recall: 0.7944\n",
            "Epoch 35/90\n",
            "234/234 - 1s - loss: 0.4817 - accuracy: 0.8030 - precision: 0.8129 - recall: 0.7867 - val_loss: 0.4631 - val_accuracy: 0.8129 - val_precision: 0.8259 - val_recall: 0.7947\n",
            "Epoch 36/90\n",
            "234/234 - 1s - loss: 0.4808 - accuracy: 0.8029 - precision: 0.8142 - recall: 0.7845 - val_loss: 0.4621 - val_accuracy: 0.8132 - val_precision: 0.8264 - val_recall: 0.7947\n",
            "Epoch 37/90\n",
            "234/234 - 1s - loss: 0.4803 - accuracy: 0.8009 - precision: 0.8116 - recall: 0.7833 - val_loss: 0.4611 - val_accuracy: 0.8132 - val_precision: 0.8260 - val_recall: 0.7952\n",
            "Epoch 38/90\n",
            "234/234 - 1s - loss: 0.4797 - accuracy: 0.8058 - precision: 0.8174 - recall: 0.7870 - val_loss: 0.4602 - val_accuracy: 0.8133 - val_precision: 0.8266 - val_recall: 0.7947\n",
            "Epoch 39/90\n",
            "234/234 - 1s - loss: 0.4767 - accuracy: 0.8041 - precision: 0.8156 - recall: 0.7853 - val_loss: 0.4593 - val_accuracy: 0.8133 - val_precision: 0.8263 - val_recall: 0.7952\n",
            "Epoch 40/90\n",
            "234/234 - 1s - loss: 0.4755 - accuracy: 0.8046 - precision: 0.8154 - recall: 0.7872 - val_loss: 0.4584 - val_accuracy: 0.8137 - val_precision: 0.8275 - val_recall: 0.7944\n",
            "Epoch 41/90\n",
            "234/234 - 1s - loss: 0.4748 - accuracy: 0.8057 - precision: 0.8170 - recall: 0.7876 - val_loss: 0.4575 - val_accuracy: 0.8141 - val_precision: 0.8276 - val_recall: 0.7952\n",
            "Epoch 42/90\n",
            "234/234 - 1s - loss: 0.4759 - accuracy: 0.8057 - precision: 0.8172 - recall: 0.7873 - val_loss: 0.4566 - val_accuracy: 0.8145 - val_precision: 0.8274 - val_recall: 0.7965\n",
            "Epoch 43/90\n",
            "234/234 - 1s - loss: 0.4724 - accuracy: 0.8078 - precision: 0.8201 - recall: 0.7882 - val_loss: 0.4558 - val_accuracy: 0.8145 - val_precision: 0.8280 - val_recall: 0.7957\n",
            "Epoch 44/90\n",
            "234/234 - 1s - loss: 0.4721 - accuracy: 0.8073 - precision: 0.8203 - recall: 0.7865 - val_loss: 0.4550 - val_accuracy: 0.8153 - val_precision: 0.8279 - val_recall: 0.7979\n",
            "Epoch 45/90\n",
            "234/234 - 1s - loss: 0.4739 - accuracy: 0.8056 - precision: 0.8165 - recall: 0.7880 - val_loss: 0.4542 - val_accuracy: 0.8165 - val_precision: 0.8281 - val_recall: 0.8005\n",
            "Epoch 46/90\n",
            "234/234 - 1s - loss: 0.4705 - accuracy: 0.8078 - precision: 0.8188 - recall: 0.7902 - val_loss: 0.4534 - val_accuracy: 0.8166 - val_precision: 0.8287 - val_recall: 0.8000\n",
            "Epoch 47/90\n",
            "234/234 - 1s - loss: 0.4706 - accuracy: 0.8093 - precision: 0.8209 - recall: 0.7909 - val_loss: 0.4526 - val_accuracy: 0.8164 - val_precision: 0.8294 - val_recall: 0.7984\n",
            "Epoch 48/90\n",
            "234/234 - 1s - loss: 0.4697 - accuracy: 0.8100 - precision: 0.8224 - recall: 0.7904 - val_loss: 0.4519 - val_accuracy: 0.8162 - val_precision: 0.8288 - val_recall: 0.7989\n",
            "Epoch 49/90\n",
            "234/234 - 1s - loss: 0.4706 - accuracy: 0.8088 - precision: 0.8203 - recall: 0.7905 - val_loss: 0.4511 - val_accuracy: 0.8171 - val_precision: 0.8301 - val_recall: 0.7989\n",
            "Epoch 50/90\n",
            "234/234 - 1s - loss: 0.4677 - accuracy: 0.8103 - precision: 0.8220 - recall: 0.7918 - val_loss: 0.4504 - val_accuracy: 0.8172 - val_precision: 0.8306 - val_recall: 0.7987\n",
            "Epoch 51/90\n",
            "234/234 - 1s - loss: 0.4661 - accuracy: 0.8098 - precision: 0.8223 - recall: 0.7901 - val_loss: 0.4497 - val_accuracy: 0.8173 - val_precision: 0.8302 - val_recall: 0.7995\n",
            "Epoch 52/90\n",
            "234/234 - 1s - loss: 0.4672 - accuracy: 0.8109 - precision: 0.8238 - recall: 0.7907 - val_loss: 0.4490 - val_accuracy: 0.8175 - val_precision: 0.8312 - val_recall: 0.7984\n",
            "Epoch 53/90\n",
            "234/234 - 1s - loss: 0.4650 - accuracy: 0.8114 - precision: 0.8249 - recall: 0.7902 - val_loss: 0.4483 - val_accuracy: 0.8172 - val_precision: 0.8313 - val_recall: 0.7976\n",
            "Epoch 54/90\n",
            "234/234 - 1s - loss: 0.4657 - accuracy: 0.8120 - precision: 0.8260 - recall: 0.7902 - val_loss: 0.4476 - val_accuracy: 0.8177 - val_precision: 0.8315 - val_recall: 0.7987\n",
            "Epoch 55/90\n",
            "234/234 - 1s - loss: 0.4662 - accuracy: 0.8090 - precision: 0.8227 - recall: 0.7874 - val_loss: 0.4469 - val_accuracy: 0.8183 - val_precision: 0.8320 - val_recall: 0.7992\n",
            "Epoch 56/90\n",
            "234/234 - 1s - loss: 0.4635 - accuracy: 0.8120 - precision: 0.8244 - recall: 0.7924 - val_loss: 0.4463 - val_accuracy: 0.8181 - val_precision: 0.8314 - val_recall: 0.7997\n",
            "Epoch 57/90\n",
            "234/234 - 1s - loss: 0.4630 - accuracy: 0.8114 - precision: 0.8236 - recall: 0.7922 - val_loss: 0.4457 - val_accuracy: 0.8187 - val_precision: 0.8329 - val_recall: 0.7989\n",
            "Epoch 58/90\n",
            "234/234 - 1s - loss: 0.4623 - accuracy: 0.8129 - precision: 0.8267 - recall: 0.7913 - val_loss: 0.4450 - val_accuracy: 0.8188 - val_precision: 0.8339 - val_recall: 0.7979\n",
            "Epoch 59/90\n",
            "234/234 - 1s - loss: 0.4617 - accuracy: 0.8126 - precision: 0.8254 - recall: 0.7924 - val_loss: 0.4444 - val_accuracy: 0.8196 - val_precision: 0.8344 - val_recall: 0.7992\n",
            "Epoch 60/90\n",
            "234/234 - 1s - loss: 0.4604 - accuracy: 0.8123 - precision: 0.8266 - recall: 0.7900 - val_loss: 0.4438 - val_accuracy: 0.8200 - val_precision: 0.8349 - val_recall: 0.7995\n",
            "Epoch 61/90\n",
            "234/234 - 1s - loss: 0.4613 - accuracy: 0.8115 - precision: 0.8254 - recall: 0.7897 - val_loss: 0.4432 - val_accuracy: 0.8204 - val_precision: 0.8359 - val_recall: 0.7989\n",
            "Epoch 62/90\n",
            "234/234 - 1s - loss: 0.4613 - accuracy: 0.8134 - precision: 0.8279 - recall: 0.7909 - val_loss: 0.4425 - val_accuracy: 0.8203 - val_precision: 0.8359 - val_recall: 0.7987\n",
            "Epoch 63/90\n",
            "234/234 - 1s - loss: 0.4585 - accuracy: 0.8140 - precision: 0.8285 - recall: 0.7916 - val_loss: 0.4419 - val_accuracy: 0.8207 - val_precision: 0.8357 - val_recall: 0.8000\n",
            "Epoch 64/90\n",
            "234/234 - 1s - loss: 0.4600 - accuracy: 0.8138 - precision: 0.8279 - recall: 0.7918 - val_loss: 0.4413 - val_accuracy: 0.8208 - val_precision: 0.8363 - val_recall: 0.7995\n",
            "Epoch 65/90\n",
            "234/234 - 1s - loss: 0.4553 - accuracy: 0.8150 - precision: 0.8306 - recall: 0.7910 - val_loss: 0.4408 - val_accuracy: 0.8209 - val_precision: 0.8359 - val_recall: 0.8003\n",
            "Epoch 66/90\n",
            "234/234 - 1s - loss: 0.4572 - accuracy: 0.8138 - precision: 0.8278 - recall: 0.7920 - val_loss: 0.4402 - val_accuracy: 0.8209 - val_precision: 0.8365 - val_recall: 0.7995\n",
            "Epoch 67/90\n",
            "234/234 - 1s - loss: 0.4568 - accuracy: 0.8146 - precision: 0.8299 - recall: 0.7910 - val_loss: 0.4397 - val_accuracy: 0.8212 - val_precision: 0.8373 - val_recall: 0.7989\n",
            "Epoch 68/90\n",
            "234/234 - 1s - loss: 0.4578 - accuracy: 0.8141 - precision: 0.8305 - recall: 0.7888 - val_loss: 0.4391 - val_accuracy: 0.8212 - val_precision: 0.8362 - val_recall: 0.8005\n",
            "Epoch 69/90\n",
            "234/234 - 1s - loss: 0.4563 - accuracy: 0.8138 - precision: 0.8287 - recall: 0.7906 - val_loss: 0.4386 - val_accuracy: 0.8220 - val_precision: 0.8386 - val_recall: 0.7992\n",
            "Epoch 70/90\n",
            "234/234 - 1s - loss: 0.4557 - accuracy: 0.8155 - precision: 0.8314 - recall: 0.7910 - val_loss: 0.4380 - val_accuracy: 0.8217 - val_precision: 0.8385 - val_recall: 0.7987\n",
            "Epoch 71/90\n",
            "234/234 - 1s - loss: 0.4537 - accuracy: 0.8156 - precision: 0.8310 - recall: 0.7920 - val_loss: 0.4375 - val_accuracy: 0.8219 - val_precision: 0.8381 - val_recall: 0.7995\n",
            "Epoch 72/90\n",
            "234/234 - 1s - loss: 0.4538 - accuracy: 0.8167 - precision: 0.8338 - recall: 0.7908 - val_loss: 0.4369 - val_accuracy: 0.8219 - val_precision: 0.8383 - val_recall: 0.7992\n",
            "Epoch 73/90\n",
            "234/234 - 1s - loss: 0.4529 - accuracy: 0.8166 - precision: 0.8321 - recall: 0.7930 - val_loss: 0.4364 - val_accuracy: 0.8220 - val_precision: 0.8382 - val_recall: 0.7997\n",
            "Epoch 74/90\n",
            "234/234 - 1s - loss: 0.4538 - accuracy: 0.8163 - precision: 0.8316 - recall: 0.7927 - val_loss: 0.4359 - val_accuracy: 0.8216 - val_precision: 0.8373 - val_recall: 0.8000\n",
            "Epoch 75/90\n",
            "234/234 - 1s - loss: 0.4536 - accuracy: 0.8150 - precision: 0.8307 - recall: 0.7910 - val_loss: 0.4353 - val_accuracy: 0.8217 - val_precision: 0.8383 - val_recall: 0.7989\n",
            "Epoch 76/90\n",
            "234/234 - 1s - loss: 0.4519 - accuracy: 0.8168 - precision: 0.8321 - recall: 0.7934 - val_loss: 0.4348 - val_accuracy: 0.8223 - val_precision: 0.8386 - val_recall: 0.7997\n",
            "Epoch 77/90\n",
            "234/234 - 1s - loss: 0.4523 - accuracy: 0.8169 - precision: 0.8325 - recall: 0.7930 - val_loss: 0.4343 - val_accuracy: 0.8225 - val_precision: 0.8393 - val_recall: 0.7995\n",
            "Epoch 78/90\n",
            "234/234 - 1s - loss: 0.4519 - accuracy: 0.8164 - precision: 0.8323 - recall: 0.7922 - val_loss: 0.4338 - val_accuracy: 0.8227 - val_precision: 0.8395 - val_recall: 0.7995\n",
            "Epoch 79/90\n",
            "234/234 - 1s - loss: 0.4503 - accuracy: 0.8187 - precision: 0.8354 - recall: 0.7935 - val_loss: 0.4333 - val_accuracy: 0.8229 - val_precision: 0.8398 - val_recall: 0.7997\n",
            "Epoch 80/90\n",
            "234/234 - 1s - loss: 0.4509 - accuracy: 0.8175 - precision: 0.8350 - recall: 0.7912 - val_loss: 0.4328 - val_accuracy: 0.8227 - val_precision: 0.8388 - val_recall: 0.8005\n",
            "Epoch 81/90\n",
            "234/234 - 1s - loss: 0.4491 - accuracy: 0.8173 - precision: 0.8346 - recall: 0.7910 - val_loss: 0.4323 - val_accuracy: 0.8232 - val_precision: 0.8392 - val_recall: 0.8013\n",
            "Epoch 82/90\n",
            "234/234 - 1s - loss: 0.4486 - accuracy: 0.8176 - precision: 0.8334 - recall: 0.7937 - val_loss: 0.4318 - val_accuracy: 0.8236 - val_precision: 0.8402 - val_recall: 0.8008\n",
            "Epoch 83/90\n",
            "234/234 - 1s - loss: 0.4490 - accuracy: 0.8177 - precision: 0.8351 - recall: 0.7914 - val_loss: 0.4313 - val_accuracy: 0.8240 - val_precision: 0.8409 - val_recall: 0.8008\n",
            "Epoch 84/90\n",
            "234/234 - 1s - loss: 0.4469 - accuracy: 0.8191 - precision: 0.8358 - recall: 0.7941 - val_loss: 0.4308 - val_accuracy: 0.8236 - val_precision: 0.8402 - val_recall: 0.8008\n",
            "Epoch 85/90\n",
            "234/234 - 1s - loss: 0.4467 - accuracy: 0.8170 - precision: 0.8334 - recall: 0.7920 - val_loss: 0.4303 - val_accuracy: 0.8244 - val_precision: 0.8405 - val_recall: 0.8024\n",
            "Epoch 86/90\n",
            "234/234 - 1s - loss: 0.4454 - accuracy: 0.8199 - precision: 0.8353 - recall: 0.7965 - val_loss: 0.4298 - val_accuracy: 0.8256 - val_precision: 0.8432 - val_recall: 0.8016\n",
            "Epoch 87/90\n",
            "234/234 - 1s - loss: 0.4475 - accuracy: 0.8193 - precision: 0.8366 - recall: 0.7933 - val_loss: 0.4294 - val_accuracy: 0.8251 - val_precision: 0.8419 - val_recall: 0.8021\n",
            "Epoch 88/90\n",
            "234/234 - 1s - loss: 0.4488 - accuracy: 0.8176 - precision: 0.8353 - recall: 0.7908 - val_loss: 0.4289 - val_accuracy: 0.8253 - val_precision: 0.8420 - val_recall: 0.8027\n",
            "Epoch 89/90\n",
            "234/234 - 1s - loss: 0.4460 - accuracy: 0.8176 - precision: 0.8348 - recall: 0.7917 - val_loss: 0.4284 - val_accuracy: 0.8257 - val_precision: 0.8429 - val_recall: 0.8024\n",
            "Epoch 90/90\n",
            "234/234 - 1s - loss: 0.4433 - accuracy: 0.8185 - precision: 0.8349 - recall: 0.7937 - val_loss: 0.4280 - val_accuracy: 0.8257 - val_precision: 0.8419 - val_recall: 0.8037\n"
          ],
          "name": "stdout"
        }
      ]
    },
    {
      "cell_type": "code",
      "metadata": {
        "colab": {
          "base_uri": "https://localhost:8080/",
          "height": 544
        },
        "id": "5OYKwTVAT-2X",
        "outputId": "b9dec28f-b1b8-4ca5-b52c-f12be79c6038"
      },
      "source": [
        "x_plot = list(range(1,n_epochs+1))\n",
        "\n",
        "def plot_history(network_history_model_drop):\n",
        "    plt.figure()\n",
        "    plt.xlabel('Epochs')\n",
        "    plt.ylabel('Loss')\n",
        "    plt.plot(x_plot, network_history_model_drop.history['loss'])\n",
        "    plt.plot(x_plot, network_history_model_drop.history['val_loss'])\n",
        "    plt.legend(['Training', 'Validation'])\n",
        "\n",
        "    plt.figure()\n",
        "    plt.xlabel('Epochs')\n",
        "    plt.ylabel('Accuracy')\n",
        "    plt.plot(x_plot, network_history_model_drop.history['accuracy'])\n",
        "    plt.plot(x_plot, network_history_model_drop.history['val_accuracy'])\n",
        "    plt.legend(['Training', 'Validation'], loc='lower right')\n",
        "    plt.show()\n",
        "\n",
        "plot_history(network_history_model_drop)"
      ],
      "execution_count": null,
      "outputs": [
        {
          "output_type": "display_data",
          "data": {
            "image/png": "[encoded data removed]",
            "text/plain": [
              "<Figure size 432x288 with 1 Axes>"
            ]
          },
          "metadata": {
            "tags": [],
            "needs_background": "light"
          }
        },
        {
          "output_type": "display_data",
          "data": {
            "image/png": "[encoded data removed]",
            "text/plain": [
              "<Figure size 432x288 with 1 Axes>"
            ]
          },
          "metadata": {
            "tags": [],
            "needs_background": "light"
          }
        }
      ]
    },
    {
      "cell_type": "code",
      "metadata": {
        "colab": {
          "base_uri": "https://localhost:8080/"
        },
        "id": "KSvj95ntUmY2",
        "outputId": "c95fd0c2-9115-46f7-eb0d-33881e7232d5"
      },
      "source": [
        "print(classification_report(y_validation, model_drop.predict_classes(X_validation)))"
      ],
      "execution_count": null,
      "outputs": [
        {
          "output_type": "stream",
          "text": [
            "              precision    recall  f1-score   support\n",
            "\n",
            "           0       0.81      0.85      0.83      3722\n",
            "           1       0.84      0.80      0.82      3750\n",
            "\n",
            "    accuracy                           0.83      7472\n",
            "   macro avg       0.83      0.83      0.83      7472\n",
            "weighted avg       0.83      0.83      0.83      7472\n",
            "\n"
          ],
          "name": "stdout"
        }
      ]
    },
    {
      "cell_type": "code",
      "metadata": {
        "colab": {
          "base_uri": "https://localhost:8080/"
        },
        "id": "T91htGq5XGvW",
        "outputId": "885e1ae1-affb-4821-9d9f-32ca054ea420"
      },
      "source": [
        "print('Sum of the values of the weights with dropout:', sum(abs(model_drop.weights[6][0])).numpy() + sum(abs(model_drop.weights[7][0])).numpy())"
      ],
      "execution_count": null,
      "outputs": [
        {
          "output_type": "stream",
          "text": [
            "Sum of the values of the weights with dropout: 4.1122527\n"
          ],
          "name": "stdout"
        }
      ]
    },
    {
      "cell_type": "markdown",
      "metadata": {
        "id": "N-zar_Cm5PT5"
      },
      "source": [
        "**Best Model**"
      ]
    },
    {
      "cell_type": "code",
      "metadata": {
        "colab": {
          "base_uri": "https://localhost:8080/"
        },
        "id": "mCl_gAbw5QEI",
        "outputId": "1c9f9865-47ac-4b1d-d6e6-4b4f4e314623"
      },
      "source": [
        "y_predict = (model_l2.predict(test_final))\n",
        "y_predict"
      ],
      "execution_count": null,
      "outputs": [
        {
          "output_type": "execute_result",
          "data": {
            "text/plain": [
              "array([[0.4554066 ],\n",
              "       [0.19218925],\n",
              "       [0.35498983],\n",
              "       ...,\n",
              "       [0.4513973 ],\n",
              "       [0.47164685],\n",
              "       [0.10252455]], dtype=float32)"
            ]
          },
          "metadata": {
            "tags": []
          },
          "execution_count": 43
        }
      ]
    },
    {
      "cell_type": "code",
      "metadata": {
        "id": "1ZDakq7k5OVI"
      },
      "source": [
        "np.savetxt(f'Gianmaria_Balducci_807141_score.txt', y_predict, fmt='%1.0f')"
      ],
      "execution_count": null,
      "outputs": []
    },
    {
      "cell_type": "code",
      "metadata": {
        "id": "JBAAqMNaMpy9"
      },
      "source": [
        ""
      ],
      "execution_count": null,
      "outputs": []
    }
  ]
}