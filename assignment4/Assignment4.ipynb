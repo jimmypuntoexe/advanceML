{
  "nbformat": 4,
  "nbformat_minor": 0,
  "metadata": {
    "colab": {
      "name": "Assignment4.ipynb",
      "provenance": [],
      "collapsed_sections": [],
      "toc_visible": true
    },
    "kernelspec": {
      "name": "python3",
      "display_name": "Python 3"
    },
    "accelerator": "GPU"
  },
  "cells": [
    {
      "cell_type": "code",
      "metadata": {
        "id": "3rEHFiAMOEEX"
      },
      "source": [
        "import numpy as np\n",
        "import keras\n",
        "from keras.models import Model\n",
        "from keras.datasets.cifar10 import load_data\n",
        "from tensorflow.keras.applications.vgg16 import VGG16 \n",
        "from tensorflow.keras.preprocessing import image \n",
        "from tensorflow.keras.applications.vgg16 import preprocess_input \n",
        "from keras.models import Sequential\n",
        "from keras.layers import Flatten, MaxPool2D\n",
        "from keras.utils import to_categorical\n",
        "from sklearn.metrics import accuracy_score"
      ],
      "execution_count": null,
      "outputs": []
    },
    {
      "cell_type": "code",
      "metadata": {
        "id": "TXB5QqSrCa6P",
        "colab": {
          "base_uri": "https://localhost:8080/"
        },
        "outputId": "5d8b6a77-a519-4ed8-b5eb-ef1b755010da"
      },
      "source": [
        "(x_train, y_train), (x_test, y_test) = load_data()\n",
        "\n",
        "train_index = np.where(y_train.ravel() >= 4)\n",
        "test_index = np.where(y_test.ravel() >= 4)\n",
        "\n",
        "x_train = x_train[train_index]\n",
        "y_train = y_train[train_index]\n",
        "x_test = x_test[test_index]\n",
        "y_test = y_test[test_index]\n",
        "\n",
        "x_train = preprocess_input(x_train)\n",
        "x_test = preprocess_input(x_test)\n",
        "img_shape = x_train[0].shape"
      ],
      "execution_count": null,
      "outputs": [
        {
          "output_type": "stream",
          "text": [
            "Downloading data from https://www.cs.toronto.edu/~kriz/cifar-10-python.tar.gz\n",
            "170500096/170498071 [==============================] - 2s 0us/step\n"
          ],
          "name": "stdout"
        }
      ]
    },
    {
      "cell_type": "code",
      "metadata": {
        "colab": {
          "base_uri": "https://localhost:8080/"
        },
        "id": "G3H3CEyMXEYy",
        "outputId": "7148f6e0-96e4-4569-b8ff-0e1f1dea7b11"
      },
      "source": [
        "print(\"train shape: \", x_train.shape)\n",
        "print(\"test shape: \", x_test.shape)\n",
        "print(\"train target shape: \", y_train.shape)\n",
        "print(\"test target shape: \", y_test.shape)"
      ],
      "execution_count": null,
      "outputs": [
        {
          "output_type": "stream",
          "text": [
            "train shape:  (30000, 32, 32, 3)\n",
            "test shape:  (6000, 32, 32, 3)\n",
            "train target shape:  (30000, 1)\n",
            "test target shape:  (6000, 1)\n"
          ],
          "name": "stdout"
        }
      ]
    },
    {
      "cell_type": "markdown",
      "metadata": {
        "id": "Oxlhn3jiYqRX"
      },
      "source": [
        "## **Primo taglio: FC layers**"
      ]
    },
    {
      "cell_type": "code",
      "metadata": {
        "colab": {
          "base_uri": "https://localhost:8080/"
        },
        "id": "J3J2BRKrX0-H",
        "outputId": "3cb6c6a5-8945-45eb-8563-8d58ddf234d8"
      },
      "source": [
        "\n",
        "model = VGG16(weights='imagenet', input_shape=img_shape, include_top=False) \n",
        "model.summary()"
      ],
      "execution_count": null,
      "outputs": [
        {
          "output_type": "stream",
          "text": [
            "Downloading data from https://storage.googleapis.com/tensorflow/keras-applications/vgg16/vgg16_weights_tf_dim_ordering_tf_kernels_notop.h5\n",
            "58892288/58889256 [==============================] - 1s 0us/step\n",
            "Model: \"vgg16\"\n",
            "_________________________________________________________________\n",
            "Layer (type)                 Output Shape              Param #   \n",
            "=================================================================\n",
            "input_1 (InputLayer)         [(None, 32, 32, 3)]       0         \n",
            "_________________________________________________________________\n",
            "block1_conv1 (Conv2D)        (None, 32, 32, 64)        1792      \n",
            "_________________________________________________________________\n",
            "block1_conv2 (Conv2D)        (None, 32, 32, 64)        36928     \n",
            "_________________________________________________________________\n",
            "block1_pool (MaxPooling2D)   (None, 16, 16, 64)        0         \n",
            "_________________________________________________________________\n",
            "block2_conv1 (Conv2D)        (None, 16, 16, 128)       73856     \n",
            "_________________________________________________________________\n",
            "block2_conv2 (Conv2D)        (None, 16, 16, 128)       147584    \n",
            "_________________________________________________________________\n",
            "block2_pool (MaxPooling2D)   (None, 8, 8, 128)         0         \n",
            "_________________________________________________________________\n",
            "block3_conv1 (Conv2D)        (None, 8, 8, 256)         295168    \n",
            "_________________________________________________________________\n",
            "block3_conv2 (Conv2D)        (None, 8, 8, 256)         590080    \n",
            "_________________________________________________________________\n",
            "block3_conv3 (Conv2D)        (None, 8, 8, 256)         590080    \n",
            "_________________________________________________________________\n",
            "block3_pool (MaxPooling2D)   (None, 4, 4, 256)         0         \n",
            "_________________________________________________________________\n",
            "block4_conv1 (Conv2D)        (None, 4, 4, 512)         1180160   \n",
            "_________________________________________________________________\n",
            "block4_conv2 (Conv2D)        (None, 4, 4, 512)         2359808   \n",
            "_________________________________________________________________\n",
            "block4_conv3 (Conv2D)        (None, 4, 4, 512)         2359808   \n",
            "_________________________________________________________________\n",
            "block4_pool (MaxPooling2D)   (None, 2, 2, 512)         0         \n",
            "_________________________________________________________________\n",
            "block5_conv1 (Conv2D)        (None, 2, 2, 512)         2359808   \n",
            "_________________________________________________________________\n",
            "block5_conv2 (Conv2D)        (None, 2, 2, 512)         2359808   \n",
            "_________________________________________________________________\n",
            "block5_conv3 (Conv2D)        (None, 2, 2, 512)         2359808   \n",
            "_________________________________________________________________\n",
            "block5_pool (MaxPooling2D)   (None, 1, 1, 512)         0         \n",
            "=================================================================\n",
            "Total params: 14,714,688\n",
            "Trainable params: 14,714,688\n",
            "Non-trainable params: 0\n",
            "_________________________________________________________________\n"
          ],
          "name": "stdout"
        }
      ]
    },
    {
      "cell_type": "code",
      "metadata": {
        "colab": {
          "base_uri": "https://localhost:8080/"
        },
        "id": "IhrVGi9Lyxjz",
        "outputId": "6bc0a563-9cc8-4a66-d711-fedb9612f11c"
      },
      "source": [
        "output = model.get_layer('block5_pool').output\n",
        "output = Flatten()(output)\n",
        "new_model = Model(model.input, output)\n",
        "new_model.summary()"
      ],
      "execution_count": null,
      "outputs": [
        {
          "output_type": "stream",
          "text": [
            "Model: \"model\"\n",
            "_________________________________________________________________\n",
            "Layer (type)                 Output Shape              Param #   \n",
            "=================================================================\n",
            "input_1 (InputLayer)         [(None, 32, 32, 3)]       0         \n",
            "_________________________________________________________________\n",
            "block1_conv1 (Conv2D)        (None, 32, 32, 64)        1792      \n",
            "_________________________________________________________________\n",
            "block1_conv2 (Conv2D)        (None, 32, 32, 64)        36928     \n",
            "_________________________________________________________________\n",
            "block1_pool (MaxPooling2D)   (None, 16, 16, 64)        0         \n",
            "_________________________________________________________________\n",
            "block2_conv1 (Conv2D)        (None, 16, 16, 128)       73856     \n",
            "_________________________________________________________________\n",
            "block2_conv2 (Conv2D)        (None, 16, 16, 128)       147584    \n",
            "_________________________________________________________________\n",
            "block2_pool (MaxPooling2D)   (None, 8, 8, 128)         0         \n",
            "_________________________________________________________________\n",
            "block3_conv1 (Conv2D)        (None, 8, 8, 256)         295168    \n",
            "_________________________________________________________________\n",
            "block3_conv2 (Conv2D)        (None, 8, 8, 256)         590080    \n",
            "_________________________________________________________________\n",
            "block3_conv3 (Conv2D)        (None, 8, 8, 256)         590080    \n",
            "_________________________________________________________________\n",
            "block3_pool (MaxPooling2D)   (None, 4, 4, 256)         0         \n",
            "_________________________________________________________________\n",
            "block4_conv1 (Conv2D)        (None, 4, 4, 512)         1180160   \n",
            "_________________________________________________________________\n",
            "block4_conv2 (Conv2D)        (None, 4, 4, 512)         2359808   \n",
            "_________________________________________________________________\n",
            "block4_conv3 (Conv2D)        (None, 4, 4, 512)         2359808   \n",
            "_________________________________________________________________\n",
            "block4_pool (MaxPooling2D)   (None, 2, 2, 512)         0         \n",
            "_________________________________________________________________\n",
            "block5_conv1 (Conv2D)        (None, 2, 2, 512)         2359808   \n",
            "_________________________________________________________________\n",
            "block5_conv2 (Conv2D)        (None, 2, 2, 512)         2359808   \n",
            "_________________________________________________________________\n",
            "block5_conv3 (Conv2D)        (None, 2, 2, 512)         2359808   \n",
            "_________________________________________________________________\n",
            "block5_pool (MaxPooling2D)   (None, 1, 1, 512)         0         \n",
            "_________________________________________________________________\n",
            "flatten (Flatten)            (None, 512)               0         \n",
            "=================================================================\n",
            "Total params: 14,714,688\n",
            "Trainable params: 14,714,688\n",
            "Non-trainable params: 0\n",
            "_________________________________________________________________\n"
          ],
          "name": "stdout"
        }
      ]
    },
    {
      "cell_type": "markdown",
      "metadata": {
        "id": "fB3PuuGxZFFL"
      },
      "source": [
        "**Mio dataset cifar10**"
      ]
    },
    {
      "cell_type": "code",
      "metadata": {
        "id": "7EpJXnl2dCYR"
      },
      "source": [
        "x_train_features = new_model.predict(x_train) \n",
        "x_test_features = new_model.predict(x_test) "
      ],
      "execution_count": null,
      "outputs": []
    },
    {
      "cell_type": "code",
      "metadata": {
        "colab": {
          "base_uri": "https://localhost:8080/"
        },
        "id": "zbXdmsxJZy7w",
        "outputId": "c1603c5a-fd85-4a34-b05f-ea7ba4a6e660"
      },
      "source": [
        "print(\"train shape: \", x_train_features.shape)\n",
        "print(\"test shape: \", x_test_features.shape)"
      ],
      "execution_count": null,
      "outputs": [
        {
          "output_type": "stream",
          "text": [
            "train shape:  (30000, 512)\n",
            "test shape:  (6000, 512)\n"
          ],
          "name": "stdout"
        }
      ]
    },
    {
      "cell_type": "code",
      "metadata": {
        "id": "vXjB-SoScXGO"
      },
      "source": [
        "np.save('x_train_taglio_fc.npy', x_train_features)\n",
        "np.save('x_test_taglio_fc.npy', x_test_features)"
      ],
      "execution_count": null,
      "outputs": []
    },
    {
      "cell_type": "code",
      "metadata": {
        "id": "485KalmNi5T1"
      },
      "source": [
        "np.save('y_train_taglio_fc.npy', to_categorical(y_train))\n",
        "np.save('y_test_taglio_fc.npy', to_categorical(y_test))"
      ],
      "execution_count": null,
      "outputs": []
    },
    {
      "cell_type": "markdown",
      "metadata": {
        "id": "2bqJSNn4rD_X"
      },
      "source": [
        "## **Esperimenti**"
      ]
    },
    {
      "cell_type": "code",
      "metadata": {
        "id": "MTzcP2jorDTc"
      },
      "source": [
        "from sklearn.svm import LinearSVC\n",
        "from sklearn.metrics import classification_report\n",
        "split = 0.8\n",
        "\n",
        "x_features = np.load('x_train_taglio_fc.npy')\n",
        "x_features_test = np.load('x_test_taglio_fc.npy')\n",
        "y_features = np.load('y_train_taglio_fc.npy')\n",
        "y_features_test = np.load('y_test_taglio_fc.npy')\n",
        "\n",
        "splitat = int(len(x_features) * split)\n",
        "x_features_train = x_features[:splitat]\n",
        "y_features_train = y_features[:splitat]\n",
        "\n",
        "x_features_val = x_features[splitat:]\n",
        "y_features_val = y_features[splitat:]"
      ],
      "execution_count": null,
      "outputs": []
    },
    {
      "cell_type": "code",
      "metadata": {
        "colab": {
          "base_uri": "https://localhost:8080/"
        },
        "id": "DeBBhH5L1XKz",
        "outputId": "2b378ce4-b14a-4d91-b4ae-b7d247f086ee"
      },
      "source": [
        "print(\"train shape: \", x_features_train.shape)\n",
        "print(\"test shape: \", x_features_test.shape)"
      ],
      "execution_count": null,
      "outputs": [
        {
          "output_type": "stream",
          "text": [
            "train shape:  (24000, 512)\n",
            "test shape:  (6000, 512)\n"
          ],
          "name": "stdout"
        }
      ]
    },
    {
      "cell_type": "code",
      "metadata": {
        "colab": {
          "base_uri": "https://localhost:8080/"
        },
        "id": "aYe9Yn7ZRHAE",
        "outputId": "2593f01f-8229-429d-cac6-1e365743b753"
      },
      "source": [
        "print(\"train shape: \", x_features_train.shape)\n",
        "print(\"test shape: \", x_features_test.shape)"
      ],
      "execution_count": null,
      "outputs": [
        {
          "output_type": "stream",
          "text": [
            "train shape:  (24000, 512)\n",
            "test shape:  (6000, 512)\n"
          ],
          "name": "stdout"
        }
      ]
    },
    {
      "cell_type": "code",
      "metadata": {
        "colab": {
          "base_uri": "https://localhost:8080/"
        },
        "id": "TV8zNZ5CJ57V",
        "outputId": "c8508a5e-04b1-463b-9102-95a7ff655ae6"
      },
      "source": [
        "y_features_test = np.argmax(y_features_test, axis=1)\n",
        "y_features_val = np.argmax(y_features_val, axis=1)\n",
        "y_features_train = np.argmax(y_features_train, axis=1)\n",
        "y_features_train.shape"
      ],
      "execution_count": null,
      "outputs": [
        {
          "output_type": "execute_result",
          "data": {
            "text/plain": [
              "(24000,)"
            ]
          },
          "metadata": {
            "tags": []
          },
          "execution_count": 11
        }
      ]
    },
    {
      "cell_type": "code",
      "metadata": {
        "colab": {
          "base_uri": "https://localhost:8080/"
        },
        "id": "PF_aKupWq-LX",
        "outputId": "d9d55bee-36cb-4a5b-bba7-ecf995fb687c"
      },
      "source": [
        "from sklearn.svm import LinearSVC, SVC\n",
        "\n",
        "svm = LinearSVC(verbose=2, max_iter=1000, C=0.1)\n",
        "svm.fit(x_features_train, y_features_train) \n"
      ],
      "execution_count": null,
      "outputs": [
        {
          "output_type": "stream",
          "text": [
            "[LibLinear]"
          ],
          "name": "stdout"
        },
        {
          "output_type": "stream",
          "text": [
            "/usr/local/lib/python3.6/dist-packages/sklearn/svm/_base.py:947: ConvergenceWarning: Liblinear failed to converge, increase the number of iterations.\n",
            "  \"the number of iterations.\", ConvergenceWarning)\n"
          ],
          "name": "stderr"
        },
        {
          "output_type": "execute_result",
          "data": {
            "text/plain": [
              "LinearSVC(C=0.1, class_weight=None, dual=True, fit_intercept=True,\n",
              "          intercept_scaling=1, loss='squared_hinge', max_iter=1000,\n",
              "          multi_class='ovr', penalty='l2', random_state=None, tol=0.0001,\n",
              "          verbose=2)"
            ]
          },
          "metadata": {
            "tags": []
          },
          "execution_count": 12
        }
      ]
    },
    {
      "cell_type": "code",
      "metadata": {
        "colab": {
          "base_uri": "https://localhost:8080/"
        },
        "id": "tY2JNLfoNUt3",
        "outputId": "8c0ef8a5-36af-427b-e283-5f0b902cc0a0"
      },
      "source": [
        "x_features_test.shape"
      ],
      "execution_count": null,
      "outputs": [
        {
          "output_type": "execute_result",
          "data": {
            "text/plain": [
              "(6000, 512)"
            ]
          },
          "metadata": {
            "tags": []
          },
          "execution_count": 16
        }
      ]
    },
    {
      "cell_type": "code",
      "metadata": {
        "colab": {
          "base_uri": "https://localhost:8080/"
        },
        "id": "tYCncs-LN3YC",
        "outputId": "652243d6-eaa7-4766-eba0-921e05b9fb01"
      },
      "source": [
        "x_features_train.shape"
      ],
      "execution_count": null,
      "outputs": [
        {
          "output_type": "execute_result",
          "data": {
            "text/plain": [
              "(24000, 512)"
            ]
          },
          "metadata": {
            "tags": []
          },
          "execution_count": 17
        }
      ]
    },
    {
      "cell_type": "markdown",
      "metadata": {
        "id": "iktdtA2OX8bk"
      },
      "source": [
        "## Performance-train"
      ]
    },
    {
      "cell_type": "code",
      "metadata": {
        "colab": {
          "base_uri": "https://localhost:8080/"
        },
        "id": "VS-w2xS3ezya",
        "outputId": "54478715-7a33-4ab7-cd45-7c2a8db2c100"
      },
      "source": [
        "\n",
        "predictions_train = svm.predict(x_features_train)\n",
        "\n",
        "print(classification_report(y_features_train, predictions_train))"
      ],
      "execution_count": null,
      "outputs": [
        {
          "output_type": "stream",
          "text": [
            "              precision    recall  f1-score   support\n",
            "\n",
            "           4       0.59      0.72      0.64      4003\n",
            "           5       0.77      0.63      0.69      3977\n",
            "           6       0.79      0.69      0.74      4020\n",
            "           7       0.70      0.71      0.71      4024\n",
            "           8       0.88      0.81      0.84      3998\n",
            "           9       0.78      0.90      0.84      3978\n",
            "\n",
            "    accuracy                           0.74     24000\n",
            "   macro avg       0.75      0.74      0.74     24000\n",
            "weighted avg       0.75      0.74      0.74     24000\n",
            "\n"
          ],
          "name": "stdout"
        }
      ]
    },
    {
      "cell_type": "code",
      "metadata": {
        "colab": {
          "base_uri": "https://localhost:8080/"
        },
        "id": "QkHxAZXVmmwp",
        "outputId": "59ad9d6d-e2f5-4ae8-b1b6-1e890d56f756"
      },
      "source": [
        "\n",
        "acc_train1= accuracy_score(y_features_train, predictions_train)\n",
        "acc_train1"
      ],
      "execution_count": null,
      "outputs": [
        {
          "output_type": "execute_result",
          "data": {
            "text/plain": [
              "0.7432083333333334"
            ]
          },
          "metadata": {
            "tags": []
          },
          "execution_count": 14
        }
      ]
    },
    {
      "cell_type": "code",
      "metadata": {
        "colab": {
          "base_uri": "https://localhost:8080/"
        },
        "id": "uAI9CGKMX1if",
        "outputId": "c43ca9cf-f4ff-4ff1-fb24-6ede28b3db85"
      },
      "source": [
        "\n",
        "predictions_val = svm.predict(x_features_val)\n",
        "print(classification_report(y_features_val, predictions_val))\n"
      ],
      "execution_count": null,
      "outputs": [
        {
          "output_type": "stream",
          "text": [
            "              precision    recall  f1-score   support\n",
            "\n",
            "           4       0.55      0.68      0.61       997\n",
            "           5       0.73      0.58      0.64      1023\n",
            "           6       0.77      0.67      0.72       980\n",
            "           7       0.66      0.67      0.67       976\n",
            "           8       0.87      0.80      0.83      1002\n",
            "           9       0.76      0.88      0.82      1022\n",
            "\n",
            "    accuracy                           0.71      6000\n",
            "   macro avg       0.72      0.71      0.71      6000\n",
            "weighted avg       0.72      0.71      0.71      6000\n",
            "\n"
          ],
          "name": "stdout"
        }
      ]
    },
    {
      "cell_type": "code",
      "metadata": {
        "colab": {
          "base_uri": "https://localhost:8080/"
        },
        "id": "oYchRRhbrAsv",
        "outputId": "66b95f24-d582-4298-872f-b2a5e51e5916"
      },
      "source": [
        "acc_val1= accuracy_score(y_features_val, predictions_val)\n",
        "acc_val1"
      ],
      "execution_count": null,
      "outputs": [
        {
          "output_type": "execute_result",
          "data": {
            "text/plain": [
              "0.7146666666666667"
            ]
          },
          "metadata": {
            "tags": []
          },
          "execution_count": 16
        }
      ]
    },
    {
      "cell_type": "markdown",
      "metadata": {
        "id": "RROKVQ4nYD30"
      },
      "source": [
        "## TEST"
      ]
    },
    {
      "cell_type": "code",
      "metadata": {
        "colab": {
          "base_uri": "https://localhost:8080/"
        },
        "id": "7qUtIg81MiX_",
        "outputId": "3e35ea20-f9a2-4a66-9e4b-612428e65942"
      },
      "source": [
        "\n",
        "predictions_test = svm.predict(x_features_test)\n",
        "print(classification_report(y_features_test, predictions_test))"
      ],
      "execution_count": null,
      "outputs": [
        {
          "output_type": "stream",
          "text": [
            "              precision    recall  f1-score   support\n",
            "\n",
            "           4       0.58      0.69      0.63      1000\n",
            "           5       0.74      0.62      0.67      1000\n",
            "           6       0.76      0.68      0.72      1000\n",
            "           7       0.69      0.69      0.69      1000\n",
            "           8       0.88      0.79      0.83      1000\n",
            "           9       0.78      0.90      0.83      1000\n",
            "\n",
            "    accuracy                           0.73      6000\n",
            "   macro avg       0.74      0.73      0.73      6000\n",
            "weighted avg       0.74      0.73      0.73      6000\n",
            "\n"
          ],
          "name": "stdout"
        }
      ]
    },
    {
      "cell_type": "code",
      "metadata": {
        "colab": {
          "base_uri": "https://localhost:8080/"
        },
        "id": "uYBBT9UNrVRi",
        "outputId": "120e24dd-91b2-4af1-eb8a-3361bad5b734"
      },
      "source": [
        "acc_test1= accuracy_score(y_features_test, predictions_test)\n",
        "acc_test1"
      ],
      "execution_count": null,
      "outputs": [
        {
          "output_type": "execute_result",
          "data": {
            "text/plain": [
              "0.7296666666666667"
            ]
          },
          "metadata": {
            "tags": []
          },
          "execution_count": 18
        }
      ]
    },
    {
      "cell_type": "markdown",
      "metadata": {
        "id": "6WWJLNFaDzkF"
      },
      "source": [
        "### **Secondo Taglio** "
      ]
    },
    {
      "cell_type": "code",
      "metadata": {
        "colab": {
          "base_uri": "https://localhost:8080/"
        },
        "id": "5NMCQaC6EODY",
        "outputId": "48bd3b5e-556a-4c04-917a-a8ebcb6284bf"
      },
      "source": [
        "from tensorflow.keras.models import Model\n",
        "base_model = VGG16(weights = 'imagenet', input_shape=img_shape, include_top=False )\n",
        "model2 = Model(inputs = base_model.input, outputs = base_model.get_layer('block4_pool').output)\n",
        "output = model2.get_layer('block4_pool').output\n",
        "output = Flatten()(output)\n",
        "model2 = Model(model2.input, output)\n",
        "model2.summary()"
      ],
      "execution_count": null,
      "outputs": [
        {
          "output_type": "stream",
          "text": [
            "Model: \"model_2\"\n",
            "_________________________________________________________________\n",
            "Layer (type)                 Output Shape              Param #   \n",
            "=================================================================\n",
            "input_2 (InputLayer)         [(None, 32, 32, 3)]       0         \n",
            "_________________________________________________________________\n",
            "block1_conv1 (Conv2D)        (None, 32, 32, 64)        1792      \n",
            "_________________________________________________________________\n",
            "block1_conv2 (Conv2D)        (None, 32, 32, 64)        36928     \n",
            "_________________________________________________________________\n",
            "block1_pool (MaxPooling2D)   (None, 16, 16, 64)        0         \n",
            "_________________________________________________________________\n",
            "block2_conv1 (Conv2D)        (None, 16, 16, 128)       73856     \n",
            "_________________________________________________________________\n",
            "block2_conv2 (Conv2D)        (None, 16, 16, 128)       147584    \n",
            "_________________________________________________________________\n",
            "block2_pool (MaxPooling2D)   (None, 8, 8, 128)         0         \n",
            "_________________________________________________________________\n",
            "block3_conv1 (Conv2D)        (None, 8, 8, 256)         295168    \n",
            "_________________________________________________________________\n",
            "block3_conv2 (Conv2D)        (None, 8, 8, 256)         590080    \n",
            "_________________________________________________________________\n",
            "block3_conv3 (Conv2D)        (None, 8, 8, 256)         590080    \n",
            "_________________________________________________________________\n",
            "block3_pool (MaxPooling2D)   (None, 4, 4, 256)         0         \n",
            "_________________________________________________________________\n",
            "block4_conv1 (Conv2D)        (None, 4, 4, 512)         1180160   \n",
            "_________________________________________________________________\n",
            "block4_conv2 (Conv2D)        (None, 4, 4, 512)         2359808   \n",
            "_________________________________________________________________\n",
            "block4_conv3 (Conv2D)        (None, 4, 4, 512)         2359808   \n",
            "_________________________________________________________________\n",
            "block4_pool (MaxPooling2D)   (None, 2, 2, 512)         0         \n",
            "_________________________________________________________________\n",
            "flatten_1 (Flatten)          (None, 2048)              0         \n",
            "=================================================================\n",
            "Total params: 7,635,264\n",
            "Trainable params: 7,635,264\n",
            "Non-trainable params: 0\n",
            "_________________________________________________________________\n"
          ],
          "name": "stdout"
        }
      ]
    },
    {
      "cell_type": "code",
      "metadata": {
        "colab": {
          "base_uri": "https://localhost:8080/"
        },
        "id": "2NKyem2rD_z8",
        "outputId": "63c34f60-cc34-4e69-f3da-e478bc48756c"
      },
      "source": [
        "block4_pool_train_features = model2.predict(x_train)\n",
        "block4_pool_test_features = model2.predict(x_test)\n",
        "print(block4_pool_train_features.shape)\n",
        "print(block4_pool_test_features.shape)\n",
        "print(block4_pool_train_features)\n",
        "print(block4_pool_test_features)"
      ],
      "execution_count": null,
      "outputs": [
        {
          "output_type": "stream",
          "text": [
            "(30000, 2048)\n",
            "(6000, 2048)\n",
            "[[  0.          0.          0.        ...   0.          0.\n",
            "    0.       ]\n",
            " [507.4358      0.        430.5692    ...   7.1725945   0.\n",
            "  391.38397  ]\n",
            " [ 43.580486    0.        326.1762    ...  72.45773    17.934416\n",
            "    0.       ]\n",
            " ...\n",
            " [  0.          0.        332.96362   ... 136.2713      0.\n",
            "  207.31445  ]\n",
            " [  0.         51.55373   529.49603   ...   0.          0.\n",
            "  142.28122  ]\n",
            " [270.04453     0.        118.73401   ...   0.          0.\n",
            "    0.       ]]\n",
            "[[  0.         0.       146.5086   ...   0.         0.         0.      ]\n",
            " [493.815      0.       655.06305  ...   0.         0.       171.5757  ]\n",
            " [106.02412    0.        30.21217  ...   0.         0.        76.36065 ]\n",
            " ...\n",
            " [  8.164804   0.         0.       ...   0.         0.       291.08743 ]\n",
            " [110.20189    0.       100.849205 ...   0.         0.         0.      ]\n",
            " [289.20325  252.82713  553.81635  ...  97.59216    0.       551.13043 ]]\n"
          ],
          "name": "stdout"
        }
      ]
    },
    {
      "cell_type": "code",
      "metadata": {
        "id": "O_YfApeREEzc"
      },
      "source": [
        "np.save('x_train_taglio_block4pool.npy', block4_pool_train_features)\n",
        "np.save('x_test_taglio_block4pool.npy', block4_pool_test_features) "
      ],
      "execution_count": null,
      "outputs": []
    },
    {
      "cell_type": "code",
      "metadata": {
        "id": "nwMCoIAQFZt9"
      },
      "source": [
        "np.save('y_train_taglio_block4pool.npy', to_categorical(y_train))\n",
        "np.save('y_test_taglio_block4pool.npy', to_categorical(y_test)) "
      ],
      "execution_count": null,
      "outputs": []
    },
    {
      "cell_type": "code",
      "metadata": {
        "id": "3nm7tofXFwn0"
      },
      "source": [
        "from sklearn.svm import LinearSVC\n",
        "from sklearn.metrics import classification_report\n",
        "split = 0.8\n",
        "\n",
        "x_features = np.load('x_train_taglio_block4pool.npy')\n",
        "x_features_test = np.load('x_test_taglio_block4pool.npy')\n",
        "y_features = np.load('y_train_taglio_block4pool.npy')\n",
        "y_features_test = np.load('y_test_taglio_block4pool.npy')\n",
        "\n",
        "splitat = int(len(x_features) * split)\n",
        "x_features_train = x_features[:splitat]\n",
        "y_features_train = y_features[:splitat]\n",
        "\n",
        "x_features_val = x_features[splitat:]\n",
        "y_features_val = y_features[splitat:]"
      ],
      "execution_count": null,
      "outputs": []
    },
    {
      "cell_type": "code",
      "metadata": {
        "id": "DnJ6WkjBGLlz",
        "colab": {
          "base_uri": "https://localhost:8080/"
        },
        "outputId": "db1e0b53-6d80-4971-f198-637bce99bc96"
      },
      "source": [
        "print(\"train shape: \", x_features_train.shape)\n",
        "print(\"test shape: \", x_features_test.shape)"
      ],
      "execution_count": null,
      "outputs": [
        {
          "output_type": "stream",
          "text": [
            "train shape:  (24000, 2048)\n",
            "test shape:  (6000, 2048)\n"
          ],
          "name": "stdout"
        }
      ]
    },
    {
      "cell_type": "code",
      "metadata": {
        "colab": {
          "base_uri": "https://localhost:8080/"
        },
        "id": "uFMKiiakGcrl",
        "outputId": "35fff9c6-6b20-41a7-a4b0-3af6bc0adaf4"
      },
      "source": [
        "print(\"train shape: \", x_features_train.shape)\n",
        "print(\"test shape: \", x_features_test.shape)"
      ],
      "execution_count": null,
      "outputs": [
        {
          "output_type": "stream",
          "text": [
            "train shape:  (24000, 2048)\n",
            "test shape:  (6000, 2048)\n"
          ],
          "name": "stdout"
        }
      ]
    },
    {
      "cell_type": "code",
      "metadata": {
        "colab": {
          "base_uri": "https://localhost:8080/"
        },
        "id": "sPQ6fKoAGeZS",
        "outputId": "b4a5be3b-0d12-4ecb-9a00-90635fbff7ba"
      },
      "source": [
        "y_features_test = np.argmax(y_features_test, axis=1)\n",
        "y_features_val = np.argmax(y_features_val, axis=1)\n",
        "y_features_train = np.argmax(y_features_train, axis=1)\n",
        "y_features_train.shape"
      ],
      "execution_count": null,
      "outputs": [
        {
          "output_type": "execute_result",
          "data": {
            "text/plain": [
              "(24000,)"
            ]
          },
          "metadata": {
            "tags": []
          },
          "execution_count": 24
        }
      ]
    },
    {
      "cell_type": "code",
      "metadata": {
        "colab": {
          "base_uri": "https://localhost:8080/"
        },
        "id": "teQPOeRuGt8I",
        "outputId": "dbc4dd4d-5191-4d1c-cfd6-5595651bd85e"
      },
      "source": [
        "from sklearn.svm import LinearSVC, SVC\n",
        "\n",
        "svm2 = LinearSVC(verbose=1, max_iter=1000, C= 0.1)\n",
        "svm2.fit(x_features_train, y_features_train) \n"
      ],
      "execution_count": null,
      "outputs": [
        {
          "output_type": "stream",
          "text": [
            "[LibLinear]"
          ],
          "name": "stdout"
        },
        {
          "output_type": "stream",
          "text": [
            "/usr/local/lib/python3.6/dist-packages/sklearn/svm/_base.py:947: ConvergenceWarning: Liblinear failed to converge, increase the number of iterations.\n",
            "  \"the number of iterations.\", ConvergenceWarning)\n"
          ],
          "name": "stderr"
        },
        {
          "output_type": "execute_result",
          "data": {
            "text/plain": [
              "LinearSVC(C=0.1, class_weight=None, dual=True, fit_intercept=True,\n",
              "          intercept_scaling=1, loss='squared_hinge', max_iter=1000,\n",
              "          multi_class='ovr', penalty='l2', random_state=None, tol=0.0001,\n",
              "          verbose=1)"
            ]
          },
          "metadata": {
            "tags": []
          },
          "execution_count": 25
        }
      ]
    },
    {
      "cell_type": "code",
      "metadata": {
        "colab": {
          "base_uri": "https://localhost:8080/"
        },
        "id": "ya1SpaE5ib1X",
        "outputId": "dfbbfcf9-16b8-4c4e-8cde-843540e9ac08"
      },
      "source": [
        "\n",
        "predictions_train2 = svm2.predict(x_features_train)\n",
        "print(classification_report(y_features_train, predictions_train2))"
      ],
      "execution_count": null,
      "outputs": [
        {
          "output_type": "stream",
          "text": [
            "              precision    recall  f1-score   support\n",
            "\n",
            "           4       0.96      0.85      0.90      4003\n",
            "           5       0.90      0.94      0.92      3977\n",
            "           6       0.98      0.99      0.98      4020\n",
            "           7       0.90      0.94      0.92      4024\n",
            "           8       0.99      1.00      1.00      3998\n",
            "           9       1.00      1.00      1.00      3978\n",
            "\n",
            "    accuracy                           0.95     24000\n",
            "   macro avg       0.95      0.95      0.95     24000\n",
            "weighted avg       0.95      0.95      0.95     24000\n",
            "\n"
          ],
          "name": "stdout"
        }
      ]
    },
    {
      "cell_type": "code",
      "metadata": {
        "colab": {
          "base_uri": "https://localhost:8080/"
        },
        "id": "YkA5MKiUslJg",
        "outputId": "1ca4a8ab-1279-42cc-f2cd-00ace28d2b2e"
      },
      "source": [
        "acc_train2= accuracy_score(y_features_train, predictions_train2)\n",
        "acc_train2"
      ],
      "execution_count": null,
      "outputs": [
        {
          "output_type": "execute_result",
          "data": {
            "text/plain": [
              "0.952875"
            ]
          },
          "metadata": {
            "tags": []
          },
          "execution_count": 27
        }
      ]
    },
    {
      "cell_type": "code",
      "metadata": {
        "colab": {
          "base_uri": "https://localhost:8080/"
        },
        "id": "bhWs3OW8ZIW6",
        "outputId": "0dfd9e0d-e979-41ee-c7e1-10270872e973"
      },
      "source": [
        "\n",
        "predictions_val2 = svm2.predict(x_features_val)\n",
        "print(classification_report(y_features_val, predictions_val2))"
      ],
      "execution_count": null,
      "outputs": [
        {
          "output_type": "stream",
          "text": [
            "              precision    recall  f1-score   support\n",
            "\n",
            "           4       0.79      0.69      0.74       997\n",
            "           5       0.78      0.82      0.80      1023\n",
            "           6       0.85      0.86      0.86       980\n",
            "           7       0.78      0.82      0.80       976\n",
            "           8       0.92      0.93      0.92      1002\n",
            "           9       0.91      0.91      0.91      1022\n",
            "\n",
            "    accuracy                           0.84      6000\n",
            "   macro avg       0.84      0.84      0.84      6000\n",
            "weighted avg       0.84      0.84      0.84      6000\n",
            "\n"
          ],
          "name": "stdout"
        }
      ]
    },
    {
      "cell_type": "code",
      "metadata": {
        "colab": {
          "base_uri": "https://localhost:8080/"
        },
        "id": "CKAzQlR6tM-l",
        "outputId": "bada0ebf-1cfd-48fa-cd95-897af3c3917d"
      },
      "source": [
        "acc_val2= accuracy_score(y_features_val, predictions_val2)\n",
        "acc_val2"
      ],
      "execution_count": null,
      "outputs": [
        {
          "output_type": "execute_result",
          "data": {
            "text/plain": [
              "0.8385"
            ]
          },
          "metadata": {
            "tags": []
          },
          "execution_count": 31
        }
      ]
    },
    {
      "cell_type": "code",
      "metadata": {
        "colab": {
          "base_uri": "https://localhost:8080/"
        },
        "id": "Vv8Uf5yxG5wm",
        "outputId": "05896665-e05a-494c-a6e7-f8963fb13417"
      },
      "source": [
        "predictions_test2 = svm2.predict(x_features_test)\n",
        "print(classification_report(y_features_test, predictions_test2))"
      ],
      "execution_count": null,
      "outputs": [
        {
          "output_type": "stream",
          "text": [
            "              precision    recall  f1-score   support\n",
            "\n",
            "           4       0.80      0.69      0.74      1000\n",
            "           5       0.78      0.80      0.79      1000\n",
            "           6       0.83      0.86      0.85      1000\n",
            "           7       0.78      0.83      0.80      1000\n",
            "           8       0.92      0.92      0.92      1000\n",
            "           9       0.92      0.92      0.92      1000\n",
            "\n",
            "    accuracy                           0.84      6000\n",
            "   macro avg       0.84      0.84      0.84      6000\n",
            "weighted avg       0.84      0.84      0.84      6000\n",
            "\n"
          ],
          "name": "stdout"
        }
      ]
    },
    {
      "cell_type": "code",
      "metadata": {
        "colab": {
          "base_uri": "https://localhost:8080/"
        },
        "id": "ylkwIvhrt2w9",
        "outputId": "1980c5cd-08c8-4160-b61d-4172a2c40902"
      },
      "source": [
        "acc_test2= accuracy_score(y_features_test, predictions_test2)\n",
        "acc_test2"
      ],
      "execution_count": null,
      "outputs": [
        {
          "output_type": "execute_result",
          "data": {
            "text/plain": [
              "0.8376666666666667"
            ]
          },
          "metadata": {
            "tags": []
          },
          "execution_count": 33
        }
      ]
    },
    {
      "cell_type": "markdown",
      "metadata": {
        "id": "DEFtG_KGSTIc"
      },
      "source": [
        "### **TERZO TAGLIO**"
      ]
    },
    {
      "cell_type": "code",
      "metadata": {
        "colab": {
          "base_uri": "https://localhost:8080/"
        },
        "id": "5vMvaI7jSYnh",
        "outputId": "6a482a47-d717-4e69-bdbf-c5366eaa31c3"
      },
      "source": [
        "from tensorflow.keras.models import Model\n",
        "base_model = VGG16(weights = 'imagenet', input_shape=img_shape, include_top=False )\n",
        "model3 = Model(inputs = base_model.input, outputs = base_model.get_layer('block3_pool').output)\n",
        "output = model3.get_layer('block3_pool').output\n",
        "output = Flatten()(output)\n",
        "model3 = Model(model3.input, output)\n",
        "model3.summary()"
      ],
      "execution_count": null,
      "outputs": [
        {
          "output_type": "stream",
          "text": [
            "Model: \"model_4\"\n",
            "_________________________________________________________________\n",
            "Layer (type)                 Output Shape              Param #   \n",
            "=================================================================\n",
            "input_3 (InputLayer)         [(None, 32, 32, 3)]       0         \n",
            "_________________________________________________________________\n",
            "block1_conv1 (Conv2D)        (None, 32, 32, 64)        1792      \n",
            "_________________________________________________________________\n",
            "block1_conv2 (Conv2D)        (None, 32, 32, 64)        36928     \n",
            "_________________________________________________________________\n",
            "block1_pool (MaxPooling2D)   (None, 16, 16, 64)        0         \n",
            "_________________________________________________________________\n",
            "block2_conv1 (Conv2D)        (None, 16, 16, 128)       73856     \n",
            "_________________________________________________________________\n",
            "block2_conv2 (Conv2D)        (None, 16, 16, 128)       147584    \n",
            "_________________________________________________________________\n",
            "block2_pool (MaxPooling2D)   (None, 8, 8, 128)         0         \n",
            "_________________________________________________________________\n",
            "block3_conv1 (Conv2D)        (None, 8, 8, 256)         295168    \n",
            "_________________________________________________________________\n",
            "block3_conv2 (Conv2D)        (None, 8, 8, 256)         590080    \n",
            "_________________________________________________________________\n",
            "block3_conv3 (Conv2D)        (None, 8, 8, 256)         590080    \n",
            "_________________________________________________________________\n",
            "block3_pool (MaxPooling2D)   (None, 4, 4, 256)         0         \n",
            "_________________________________________________________________\n",
            "flatten_2 (Flatten)          (None, 4096)              0         \n",
            "=================================================================\n",
            "Total params: 1,735,488\n",
            "Trainable params: 1,735,488\n",
            "Non-trainable params: 0\n",
            "_________________________________________________________________\n"
          ],
          "name": "stdout"
        }
      ]
    },
    {
      "cell_type": "code",
      "metadata": {
        "colab": {
          "base_uri": "https://localhost:8080/"
        },
        "id": "ElQq3IQXWe_r",
        "outputId": "13e9660c-13c9-4976-a132-906879346a33"
      },
      "source": [
        "block2_pool_train_features = model3.predict(x_train)\n",
        "block2_pool_test_features = model3.predict(x_test)\n",
        "print(block2_pool_train_features.shape)\n",
        "print(block2_pool_test_features.shape)\n"
      ],
      "execution_count": null,
      "outputs": [
        {
          "output_type": "stream",
          "text": [
            "(30000, 4096)\n",
            "(6000, 4096)\n"
          ],
          "name": "stdout"
        }
      ]
    },
    {
      "cell_type": "code",
      "metadata": {
        "id": "xlZeIE5VWvSv"
      },
      "source": [
        "np.save('x_train_taglio_block3pool.npy', block2_pool_train_features)\n",
        "np.save('x_test_taglio_block3pool.npy', block2_pool_test_features)\n",
        "\n",
        "np.save('y_train_taglio_block3pool.npy', to_categorical(y_train))\n",
        "np.save('y_test_taglio_block3pool.npy', to_categorical(y_test))\n"
      ],
      "execution_count": null,
      "outputs": []
    },
    {
      "cell_type": "code",
      "metadata": {
        "id": "Mj6hVa3zXGLF"
      },
      "source": [
        "from sklearn.svm import LinearSVC\n",
        "from sklearn.metrics import classification_report\n",
        "split = 0.8\n",
        "\n",
        "x_features = np.load('x_train_taglio_block3pool.npy')\n",
        "x_features_test = np.load('x_test_taglio_block3pool.npy')\n",
        "y_features = np.load('y_train_taglio_block3pool.npy')\n",
        "y_features_test = np.load('y_test_taglio_block3pool.npy')\n",
        "\n",
        "splitat = int(len(x_features) * split)\n",
        "x_features_train = x_features[:splitat]\n",
        "y_features_train = y_features[:splitat]\n",
        "\n",
        "x_features_val = x_features[splitat:]\n",
        "y_features_val = y_features[splitat:]"
      ],
      "execution_count": null,
      "outputs": []
    },
    {
      "cell_type": "code",
      "metadata": {
        "colab": {
          "base_uri": "https://localhost:8080/"
        },
        "id": "PATmEaEbXr3V",
        "outputId": "622bfbab-a4eb-47df-bbd2-52a9d1f2fbc9"
      },
      "source": [
        "y_features_test = np.argmax(y_features_test, axis=1)\n",
        "y_features_val = np.argmax(y_features_val, axis=1)\n",
        "y_features_train = np.argmax(y_features_train, axis=1)\n",
        "y_features_train.shape"
      ],
      "execution_count": null,
      "outputs": [
        {
          "output_type": "execute_result",
          "data": {
            "text/plain": [
              "(24000,)"
            ]
          },
          "metadata": {
            "tags": []
          },
          "execution_count": 38
        }
      ]
    },
    {
      "cell_type": "code",
      "metadata": {
        "colab": {
          "base_uri": "https://localhost:8080/"
        },
        "id": "Fp_GboZtXwbP",
        "outputId": "3bdc64f3-e046-4535-f87d-b57a5c6cb9b4"
      },
      "source": [
        "from sklearn.svm import LinearSVC, SVC\n",
        "\n",
        "svm3 = LinearSVC(verbose=1, max_iter=1000, C=0.1)\n",
        "svm3.fit(x_features_train, y_features_train) "
      ],
      "execution_count": null,
      "outputs": [
        {
          "output_type": "stream",
          "text": [
            "[LibLinear]"
          ],
          "name": "stdout"
        },
        {
          "output_type": "stream",
          "text": [
            "/usr/local/lib/python3.6/dist-packages/sklearn/svm/_base.py:947: ConvergenceWarning: Liblinear failed to converge, increase the number of iterations.\n",
            "  \"the number of iterations.\", ConvergenceWarning)\n"
          ],
          "name": "stderr"
        },
        {
          "output_type": "execute_result",
          "data": {
            "text/plain": [
              "LinearSVC(C=0.1, class_weight=None, dual=True, fit_intercept=True,\n",
              "          intercept_scaling=1, loss='squared_hinge', max_iter=1000,\n",
              "          multi_class='ovr', penalty='l2', random_state=None, tol=0.0001,\n",
              "          verbose=1)"
            ]
          },
          "metadata": {
            "tags": []
          },
          "execution_count": 39
        }
      ]
    },
    {
      "cell_type": "code",
      "metadata": {
        "colab": {
          "base_uri": "https://localhost:8080/"
        },
        "id": "PGqmaB17ixSV",
        "outputId": "9c5feb80-e51c-441c-8261-2e6e90ac506a"
      },
      "source": [
        "\n",
        "predictions_train3 = svm3.predict(x_features_train)\n",
        "print(classification_report(y_features_train, predictions_train3))"
      ],
      "execution_count": null,
      "outputs": [
        {
          "output_type": "stream",
          "text": [
            "              precision    recall  f1-score   support\n",
            "\n",
            "           4       1.00      1.00      1.00      4003\n",
            "           5       1.00      1.00      1.00      3977\n",
            "           6       1.00      1.00      1.00      4020\n",
            "           7       1.00      1.00      1.00      4024\n",
            "           8       1.00      1.00      1.00      3998\n",
            "           9       1.00      1.00      1.00      3978\n",
            "\n",
            "    accuracy                           1.00     24000\n",
            "   macro avg       1.00      1.00      1.00     24000\n",
            "weighted avg       1.00      1.00      1.00     24000\n",
            "\n"
          ],
          "name": "stdout"
        }
      ]
    },
    {
      "cell_type": "code",
      "metadata": {
        "colab": {
          "base_uri": "https://localhost:8080/"
        },
        "id": "EKwYbGi3uGIb",
        "outputId": "937f206a-cfc6-41ab-adb3-e44e6ad221e4"
      },
      "source": [
        "acc_train3= accuracy_score(y_features_train, predictions_train3)\n",
        "acc_train3"
      ],
      "execution_count": null,
      "outputs": [
        {
          "output_type": "execute_result",
          "data": {
            "text/plain": [
              "1.0"
            ]
          },
          "metadata": {
            "tags": []
          },
          "execution_count": 41
        }
      ]
    },
    {
      "cell_type": "code",
      "metadata": {
        "colab": {
          "base_uri": "https://localhost:8080/"
        },
        "id": "0Iw4aDdYZsNK",
        "outputId": "3ffb4d2e-58bc-4945-e6a9-8e33d72da37a"
      },
      "source": [
        "predictions_val3 = svm3.predict(x_features_val)\n",
        "print(classification_report(y_features_val, predictions_val3))"
      ],
      "execution_count": null,
      "outputs": [
        {
          "output_type": "stream",
          "text": [
            "              precision    recall  f1-score   support\n",
            "\n",
            "           4       0.78      0.77      0.77       997\n",
            "           5       0.80      0.80      0.80      1023\n",
            "           6       0.87      0.88      0.87       980\n",
            "           7       0.83      0.81      0.82       976\n",
            "           8       0.92      0.93      0.93      1002\n",
            "           9       0.92      0.92      0.92      1022\n",
            "\n",
            "    accuracy                           0.85      6000\n",
            "   macro avg       0.85      0.85      0.85      6000\n",
            "weighted avg       0.85      0.85      0.85      6000\n",
            "\n"
          ],
          "name": "stdout"
        }
      ]
    },
    {
      "cell_type": "code",
      "metadata": {
        "colab": {
          "base_uri": "https://localhost:8080/"
        },
        "id": "uWHNIJQHuKhR",
        "outputId": "97e9dce8-fda9-4d80-d864-484b28a6fe73"
      },
      "source": [
        "acc_val3= accuracy_score(y_features_val, predictions_val3)\n",
        "acc_val3"
      ],
      "execution_count": null,
      "outputs": [
        {
          "output_type": "execute_result",
          "data": {
            "text/plain": [
              "0.8533333333333334"
            ]
          },
          "metadata": {
            "tags": []
          },
          "execution_count": 43
        }
      ]
    },
    {
      "cell_type": "code",
      "metadata": {
        "colab": {
          "base_uri": "https://localhost:8080/"
        },
        "id": "r7m7Z6-mXxX9",
        "outputId": "81ba3af9-be2c-4435-b8b6-1ea3d0953131"
      },
      "source": [
        "predictions_test3 = svm3.predict(x_features_test)\n",
        "print(classification_report(y_features_test, predictions_test3))"
      ],
      "execution_count": null,
      "outputs": [
        {
          "output_type": "stream",
          "text": [
            "              precision    recall  f1-score   support\n",
            "\n",
            "           4       0.76      0.74      0.75      1000\n",
            "           5       0.79      0.79      0.79      1000\n",
            "           6       0.85      0.87      0.86      1000\n",
            "           7       0.83      0.82      0.82      1000\n",
            "           8       0.91      0.93      0.92      1000\n",
            "           9       0.92      0.92      0.92      1000\n",
            "\n",
            "    accuracy                           0.84      6000\n",
            "   macro avg       0.84      0.84      0.84      6000\n",
            "weighted avg       0.84      0.84      0.84      6000\n",
            "\n"
          ],
          "name": "stdout"
        }
      ]
    },
    {
      "cell_type": "code",
      "metadata": {
        "colab": {
          "base_uri": "https://localhost:8080/"
        },
        "id": "dVQXlW0VuZiD",
        "outputId": "ad66deea-7b76-4efc-9177-c0f5cd74aff5"
      },
      "source": [
        "acc_test3= accuracy_score(y_features_test, predictions_test3)\n",
        "acc_test3"
      ],
      "execution_count": null,
      "outputs": [
        {
          "output_type": "execute_result",
          "data": {
            "text/plain": [
              "0.8443333333333334"
            ]
          },
          "metadata": {
            "tags": []
          },
          "execution_count": 45
        }
      ]
    },
    {
      "cell_type": "code",
      "metadata": {
        "colab": {
          "base_uri": "https://localhost:8080/",
          "height": 297
        },
        "id": "2i9hM5CvumN6",
        "outputId": "4797c828-dad7-4335-d2ff-fdcc1456cb81"
      },
      "source": [
        "import matplotlib.pyplot as plt\n",
        "\"\"\"#Plot accuracy train\"\"\"\n",
        "\n",
        "accuracy_train = [acc_train1,acc_train2,acc_train3]\n",
        "\n",
        "x_plot = list(['block5_pool','block4_pool','block3_pool'])\n",
        "\n",
        "plt.figure()\n",
        "plt.xlabel('Layer')\n",
        "plt.ylabel('Accuracy')\n",
        "plt.plot(x_plot, accuracy_train)\n",
        "\n",
        "plt.legend(['Linear svm'])"
      ],
      "execution_count": null,
      "outputs": [
        {
          "output_type": "execute_result",
          "data": {
            "text/plain": [
              "<matplotlib.legend.Legend at 0x7ff298093940>"
            ]
          },
          "metadata": {
            "tags": []
          },
          "execution_count": 46
        },
        {
          "output_type": "display_data",
          "data": {
            "image/png": "[encoded data removed]",
            "text/plain": [
              "<Figure size 432x288 with 1 Axes>"
            ]
          },
          "metadata": {
            "tags": [],
            "needs_background": "light"
          }
        }
      ]
    },
    {
      "cell_type": "code",
      "metadata": {
        "colab": {
          "base_uri": "https://localhost:8080/",
          "height": 301
        },
        "id": "BHyhabFPuuCZ",
        "outputId": "3236376e-65f0-47da-de40-9cbbbd50b577"
      },
      "source": [
        "\n",
        "\"\"\"#Plot accuracy val\"\"\"\n",
        "\n",
        "accuracy_val = [acc_val1,acc_val2,acc_val3]\n",
        "\n",
        "x_plot = list(['block5_pool','block4_pool','block3_pool'])\n",
        "\n",
        "plt.figure()\n",
        "plt.xlabel('Layer')\n",
        "plt.ylabel('Accuracy')\n",
        "plt.plot(x_plot, accuracy_val)\n",
        "\n",
        "plt.legend(['Linear svm'])"
      ],
      "execution_count": null,
      "outputs": [
        {
          "output_type": "execute_result",
          "data": {
            "text/plain": [
              "<matplotlib.legend.Legend at 0x7ff290334be0>"
            ]
          },
          "metadata": {
            "tags": []
          },
          "execution_count": 47
        },
        {
          "output_type": "display_data",
          "data": {
            "image/png": "[encoded data removed]",
            "text/plain": [
              "<Figure size 432x288 with 1 Axes>"
            ]
          },
          "metadata": {
            "tags": [],
            "needs_background": "light"
          }
        }
      ]
    },
    {
      "cell_type": "code",
      "metadata": {
        "colab": {
          "base_uri": "https://localhost:8080/",
          "height": 297
        },
        "id": "skk9oJO4uuuJ",
        "outputId": "839a808e-7514-4688-de4d-4d58e2bebf61"
      },
      "source": [
        "\n",
        "\"\"\"#Plot accuracy test\"\"\"\n",
        "\n",
        "accuracy_test = [acc_test1,acc_test2,acc_test3]\n",
        "\n",
        "x_plot = list(['block5_pool','block4_pool','block3_pool'])\n",
        "\n",
        "plt.figure()\n",
        "plt.xlabel('Layer')\n",
        "plt.ylabel('Accuracy')\n",
        "plt.plot(x_plot, accuracy_test)\n",
        "\n",
        "plt.legend(['Linear svm'])"
      ],
      "execution_count": null,
      "outputs": [
        {
          "output_type": "execute_result",
          "data": {
            "text/plain": [
              "<matplotlib.legend.Legend at 0x7ff29033dd30>"
            ]
          },
          "metadata": {
            "tags": []
          },
          "execution_count": 48
        },
        {
          "output_type": "display_data",
          "data": {
            "image/png": "[encoded data removed]",
            "text/plain": [
              "<Figure size 432x288 with 1 Axes>"
            ]
          },
          "metadata": {
            "tags": [],
            "needs_background": "light"
          }
        }
      ]
    }
  ]
}