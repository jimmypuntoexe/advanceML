{
  "nbformat": 4,
  "nbformat_minor": 0,
  "metadata": {
    "colab": {
      "name": "assignment3.ipynb",
      "provenance": [],
      "collapsed_sections": []
    },
    "kernelspec": {
      "name": "python3",
      "display_name": "Python 3"
    }
  },
  "cells": [
    {
      "cell_type": "markdown",
      "metadata": {
        "id": "Yvj2PlTXG5Fn"
      },
      "source": [
        "**Setup**"
      ]
    },
    {
      "cell_type": "code",
      "metadata": {
        "id": "2-9iyAg6C1dV"
      },
      "source": [
        "import numpy as np \n",
        "from tensorflow import keras\n",
        "from tensorflow.keras import layers\n",
        "from matplotlib import pyplot as plt\n",
        "import seaborn as sns\n",
        "import tensorflow as tf"
      ],
      "execution_count": null,
      "outputs": []
    },
    {
      "cell_type": "markdown",
      "metadata": {
        "id": "o4-rI1HrHH0t"
      },
      "source": [
        "**Data Preparation**"
      ]
    },
    {
      "cell_type": "code",
      "metadata": {
        "colab": {
          "base_uri": "https://localhost:8080/",
          "height": 265
        },
        "id": "PhZgNOhfHFkg",
        "outputId": "21a1b3ba-7baf-4068-f499-dbe296c714da"
      },
      "source": [
        "# Model/data parameters \n",
        "num_classes = 10 #digits 0-9\n",
        "input_shape = (28,28,1)\n",
        "\n",
        "# load the data and divide it into train/test split\n",
        "(x_train, y_train), (x_test, y_test) = keras.datasets.mnist.load_data()\n",
        "\n",
        "x_train= x_train.astype(\"float32\") / 255\n",
        "x_test, x_test.astype(\"float32\") / 255\n",
        "\n",
        "# plot some samples\n",
        "image_index  = 7777\n",
        "print(y_train[image_index])\n",
        "plt.imshow(x_train[image_index],cmap='gray')\n",
        "plt.axis(\"off\")\n",
        "plt.show()"
      ],
      "execution_count": null,
      "outputs": [
        {
          "output_type": "stream",
          "text": [
            "8\n"
          ],
          "name": "stdout"
        },
        {
          "output_type": "display_data",
          "data": {
            "image/png": "[encoded data removed]",
            "text/plain": [
              "<Figure size 432x288 with 1 Axes>"
            ]
          },
          "metadata": {
            "tags": [],
            "needs_background": "light"
          }
        }
      ]
    },
    {
      "cell_type": "code",
      "metadata": {
        "colab": {
          "base_uri": "https://localhost:8080/"
        },
        "id": "q_gWDUq7sfry",
        "outputId": "d8590fca-e689-4922-9224-791850d13b76"
      },
      "source": [
        "x_train.shape"
      ],
      "execution_count": null,
      "outputs": [
        {
          "output_type": "execute_result",
          "data": {
            "text/plain": [
              "(60000, 28, 28)"
            ]
          },
          "metadata": {
            "tags": []
          },
          "execution_count": 4
        }
      ]
    },
    {
      "cell_type": "code",
      "metadata": {
        "colab": {
          "base_uri": "https://localhost:8080/"
        },
        "id": "-zfu2gAnPRIR",
        "outputId": "cfea3707-d94d-4984-e515-b12ed8cd8627"
      },
      "source": [
        "#expand dimension of our data (28,28,1)\n",
        "x_train = np.expand_dims(x_train, -1)\n",
        "x_test = np.expand_dims(x_test, -1)\n",
        "print(\"x_train shape: \", x_train.shape)\n",
        "print(\"x_train samples: \", x_train.shape[0])\n",
        "print(\"x_test sample: \", x_test.shape[0])   "
      ],
      "execution_count": null,
      "outputs": [
        {
          "output_type": "stream",
          "text": [
            "x_train shape:  (60000, 28, 28, 1)\n",
            "x_train samples:  60000\n",
            "x_test sample:  10000\n"
          ],
          "name": "stdout"
        }
      ]
    },
    {
      "cell_type": "code",
      "metadata": {
        "colab": {
          "base_uri": "https://localhost:8080/",
          "height": 515
        },
        "id": "P1JctDXpG38D",
        "outputId": "cee31852-fb32-4dba-e0ba-f311e66ff591"
      },
      "source": [
        "plt.figure(figsize=(10,7))\n",
        "g = sns.countplot(y_train, palette=\"icefire\")\n",
        "plt.title(\"Number of digit classes\")\n"
      ],
      "execution_count": null,
      "outputs": [
        {
          "output_type": "stream",
          "text": [
            "/usr/local/lib/python3.6/dist-packages/seaborn/_decorators.py:43: FutureWarning: Pass the following variable as a keyword arg: x. From version 0.12, the only valid positional argument will be `data`, and passing other arguments without an explicit keyword will result in an error or misinterpretation.\n",
            "  FutureWarning\n"
          ],
          "name": "stderr"
        },
        {
          "output_type": "execute_result",
          "data": {
            "text/plain": [
              "Text(0.5, 1.0, 'Number of digit classes')"
            ]
          },
          "metadata": {
            "tags": []
          },
          "execution_count": 6
        },
        {
          "output_type": "display_data",
          "data": {
            "image/png": "[encoded data removed]",
            "text/plain": [
              "<Figure size 720x504 with 1 Axes>"
            ]
          },
          "metadata": {
            "tags": [],
            "needs_background": "light"
          }
        }
      ]
    },
    {
      "cell_type": "code",
      "metadata": {
        "id": "PX6Wm4Y8I6vp",
        "colab": {
          "base_uri": "https://localhost:8080/"
        },
        "outputId": "a5aeb0f5-d7f5-4bb0-9cb5-3ac0c8541b73"
      },
      "source": [
        "y_train = keras.utils.to_categorical(y_train, num_classes)\n",
        "y_test = keras.utils.to_categorical(y_test, num_classes)\n",
        "y_train.shape"
      ],
      "execution_count": null,
      "outputs": [
        {
          "output_type": "execute_result",
          "data": {
            "text/plain": [
              "(60000, 10)"
            ]
          },
          "metadata": {
            "tags": []
          },
          "execution_count": 7
        }
      ]
    },
    {
      "cell_type": "code",
      "metadata": {
        "colab": {
          "base_uri": "https://localhost:8080/"
        },
        "id": "bR0VBF_EJLLv",
        "outputId": "6ed35469-22fd-49a5-9f21-d55e9615089c"
      },
      "source": [
        "model = keras.Sequential (\n",
        "    [\n",
        "      keras.Input(shape =  input_shape),\n",
        "    \n",
        "      layers.Conv2D(8, kernel_size=(3,3), activation='relu'),\n",
        "      layers.Conv2D(8, kernel_size=(3,3), activation='relu'),\n",
        "      layers.MaxPool2D(pool_size=(2,2)),\n",
        "     \n",
        "      layers.Conv2D(16, kernel_size=(3,3), activation='relu'),\n",
        "      layers.Conv2D(16, kernel_size=(3,3), activation='relu'),\n",
        "      layers.MaxPool2D(pool_size=(2,2)),\n",
        "      \n",
        "      layers.Flatten(),\n",
        "      layers.Dropout(0.3),\n",
        "      layers.Dense(num_classes, activation='softmax'),\n",
        "    ]\n",
        ")\n",
        "model.summary()"
      ],
      "execution_count": null,
      "outputs": [
        {
          "output_type": "stream",
          "text": [
            "Model: \"sequential\"\n",
            "_________________________________________________________________\n",
            "Layer (type)                 Output Shape              Param #   \n",
            "=================================================================\n",
            "conv2d (Conv2D)              (None, 26, 26, 8)         80        \n",
            "_________________________________________________________________\n",
            "conv2d_1 (Conv2D)            (None, 24, 24, 8)         584       \n",
            "_________________________________________________________________\n",
            "max_pooling2d (MaxPooling2D) (None, 12, 12, 8)         0         \n",
            "_________________________________________________________________\n",
            "conv2d_2 (Conv2D)            (None, 10, 10, 16)        1168      \n",
            "_________________________________________________________________\n",
            "conv2d_3 (Conv2D)            (None, 8, 8, 16)          2320      \n",
            "_________________________________________________________________\n",
            "max_pooling2d_1 (MaxPooling2 (None, 4, 4, 16)          0         \n",
            "_________________________________________________________________\n",
            "flatten (Flatten)            (None, 256)               0         \n",
            "_________________________________________________________________\n",
            "dropout (Dropout)            (None, 256)               0         \n",
            "_________________________________________________________________\n",
            "dense (Dense)                (None, 10)                2570      \n",
            "=================================================================\n",
            "Total params: 6,722\n",
            "Trainable params: 6,722\n",
            "Non-trainable params: 0\n",
            "_________________________________________________________________\n"
          ],
          "name": "stdout"
        }
      ]
    },
    {
      "cell_type": "markdown",
      "metadata": {
        "id": "j9bZ1F_FLB2C"
      },
      "source": [
        "Train the model"
      ]
    },
    {
      "cell_type": "code",
      "metadata": {
        "id": "zRGL60o92wFM"
      },
      "source": [
        "from keras.callbacks import EarlyStopping\n",
        "early_stopping = [EarlyStopping(monitor='val_loss', patience=5, restore_best_weights=True)]"
      ],
      "execution_count": null,
      "outputs": []
    },
    {
      "cell_type": "code",
      "metadata": {
        "colab": {
          "base_uri": "https://localhost:8080/"
        },
        "id": "Zny_J_lFLBed",
        "outputId": "24de0275-bdef-49b9-c690-3bdf5be1d1dd"
      },
      "source": [
        "batch_size = 128\n",
        "epochs = 150  \n",
        "\n",
        "model.compile(loss='categorical_crossentropy', optimizer='adam', metrics=['accuracy'])\n",
        "\n",
        "network_history = model.fit(x_train, y_train, batch_size=batch_size, callbacks=early_stopping,  epochs = epochs, validation_split=0.2)"
      ],
      "execution_count": null,
      "outputs": [
        {
          "output_type": "stream",
          "text": [
            "Epoch 1/150\n",
            "375/375 [==============================] - 31s 84ms/step - loss: 0.5853 - accuracy: 0.8109 - val_loss: 0.1491 - val_accuracy: 0.9570\n",
            "Epoch 2/150\n",
            "375/375 [==============================] - 31s 83ms/step - loss: 0.1627 - accuracy: 0.9506 - val_loss: 0.0833 - val_accuracy: 0.9760\n",
            "Epoch 3/150\n",
            "375/375 [==============================] - 31s 83ms/step - loss: 0.1180 - accuracy: 0.9627 - val_loss: 0.0663 - val_accuracy: 0.9811\n",
            "Epoch 4/150\n",
            "375/375 [==============================] - 31s 84ms/step - loss: 0.0944 - accuracy: 0.9711 - val_loss: 0.0585 - val_accuracy: 0.9822\n",
            "Epoch 5/150\n",
            "375/375 [==============================] - 31s 84ms/step - loss: 0.0844 - accuracy: 0.9740 - val_loss: 0.0504 - val_accuracy: 0.9855\n",
            "Epoch 6/150\n",
            "375/375 [==============================] - 31s 84ms/step - loss: 0.0723 - accuracy: 0.9771 - val_loss: 0.0469 - val_accuracy: 0.9862\n",
            "Epoch 7/150\n",
            "375/375 [==============================] - 31s 83ms/step - loss: 0.0659 - accuracy: 0.9792 - val_loss: 0.0507 - val_accuracy: 0.9853\n",
            "Epoch 8/150\n",
            "375/375 [==============================] - 31s 83ms/step - loss: 0.0616 - accuracy: 0.9807 - val_loss: 0.0410 - val_accuracy: 0.9881\n",
            "Epoch 9/150\n",
            "375/375 [==============================] - 31s 83ms/step - loss: 0.0579 - accuracy: 0.9822 - val_loss: 0.0432 - val_accuracy: 0.9865\n",
            "Epoch 10/150\n",
            "375/375 [==============================] - 31s 83ms/step - loss: 0.0547 - accuracy: 0.9826 - val_loss: 0.0397 - val_accuracy: 0.9888\n",
            "Epoch 11/150\n",
            "375/375 [==============================] - 31s 84ms/step - loss: 0.0508 - accuracy: 0.9843 - val_loss: 0.0376 - val_accuracy: 0.9890\n",
            "Epoch 12/150\n",
            "375/375 [==============================] - 31s 83ms/step - loss: 0.0483 - accuracy: 0.9846 - val_loss: 0.0355 - val_accuracy: 0.9901\n",
            "Epoch 13/150\n",
            "375/375 [==============================] - 31s 83ms/step - loss: 0.0463 - accuracy: 0.9855 - val_loss: 0.0400 - val_accuracy: 0.9887\n",
            "Epoch 14/150\n",
            "375/375 [==============================] - 31s 83ms/step - loss: 0.0454 - accuracy: 0.9855 - val_loss: 0.0339 - val_accuracy: 0.9905\n",
            "Epoch 15/150\n",
            "375/375 [==============================] - 31s 84ms/step - loss: 0.0448 - accuracy: 0.9861 - val_loss: 0.0350 - val_accuracy: 0.9894\n",
            "Epoch 16/150\n",
            "375/375 [==============================] - 32s 85ms/step - loss: 0.0432 - accuracy: 0.9861 - val_loss: 0.0342 - val_accuracy: 0.9907\n",
            "Epoch 17/150\n",
            "375/375 [==============================] - 32s 85ms/step - loss: 0.0415 - accuracy: 0.9866 - val_loss: 0.0336 - val_accuracy: 0.9909\n",
            "Epoch 18/150\n",
            "375/375 [==============================] - 31s 84ms/step - loss: 0.0383 - accuracy: 0.9882 - val_loss: 0.0346 - val_accuracy: 0.9903\n",
            "Epoch 19/150\n",
            "375/375 [==============================] - 31s 84ms/step - loss: 0.0391 - accuracy: 0.9877 - val_loss: 0.0320 - val_accuracy: 0.9919\n",
            "Epoch 20/150\n",
            "375/375 [==============================] - 31s 83ms/step - loss: 0.0365 - accuracy: 0.9887 - val_loss: 0.0375 - val_accuracy: 0.9898\n",
            "Epoch 21/150\n",
            "375/375 [==============================] - 31s 83ms/step - loss: 0.0364 - accuracy: 0.9884 - val_loss: 0.0344 - val_accuracy: 0.9913\n",
            "Epoch 22/150\n",
            "375/375 [==============================] - 31s 83ms/step - loss: 0.0380 - accuracy: 0.9876 - val_loss: 0.0311 - val_accuracy: 0.9914\n",
            "Epoch 23/150\n",
            "375/375 [==============================] - 31s 84ms/step - loss: 0.0342 - accuracy: 0.9886 - val_loss: 0.0316 - val_accuracy: 0.9911\n",
            "Epoch 24/150\n",
            "375/375 [==============================] - 31s 84ms/step - loss: 0.0347 - accuracy: 0.9888 - val_loss: 0.0294 - val_accuracy: 0.9920\n",
            "Epoch 25/150\n",
            "375/375 [==============================] - 31s 83ms/step - loss: 0.0329 - accuracy: 0.9898 - val_loss: 0.0318 - val_accuracy: 0.9916\n",
            "Epoch 26/150\n",
            "375/375 [==============================] - 31s 84ms/step - loss: 0.0330 - accuracy: 0.9893 - val_loss: 0.0320 - val_accuracy: 0.9916\n",
            "Epoch 27/150\n",
            "375/375 [==============================] - 31s 84ms/step - loss: 0.0324 - accuracy: 0.9894 - val_loss: 0.0328 - val_accuracy: 0.9906\n",
            "Epoch 28/150\n",
            "375/375 [==============================] - 31s 84ms/step - loss: 0.0326 - accuracy: 0.9894 - val_loss: 0.0306 - val_accuracy: 0.9919\n",
            "Epoch 29/150\n",
            "375/375 [==============================] - 32s 84ms/step - loss: 0.0310 - accuracy: 0.9901 - val_loss: 0.0324 - val_accuracy: 0.9910\n"
          ],
          "name": "stdout"
        }
      ]
    },
    {
      "cell_type": "code",
      "metadata": {
        "colab": {
          "base_uri": "https://localhost:8080/",
          "height": 530
        },
        "id": "ZeklyXa2yOnA",
        "outputId": "dd5ab4b6-dbf2-4c5d-bad3-7543ed2772e4"
      },
      "source": [
        "x_plot = list(range(1,len(network_history.history['val_accuracy']) + 1))\n",
        "\n",
        "\n",
        "def plot_history(network_history):\n",
        "    plt.figure()\n",
        "    plt.xlabel('Epochs')\n",
        "    plt.ylabel('Loss')\n",
        "    plt.plot(x_plot, network_history.history['loss'])\n",
        "    plt.plot(x_plot, network_history.history['val_loss'])\n",
        "    plt.legend(['Training', 'Validation'])\n",
        "\n",
        "    plt.figure()\n",
        "    # plt.xlabel('Epochs')\n",
        "    plt.ylabel('Accuracy')\n",
        "    plt.plot(x_plot, network_history.history['accuracy'])\n",
        "    plt.plot(x_plot, network_history.history['val_accuracy'])\n",
        "    plt.legend(['Training', 'Validation'], loc='lower right')\n",
        "    plt.show()\n",
        "\n",
        "plot_history(network_history)"
      ],
      "execution_count": null,
      "outputs": [
        {
          "output_type": "display_data",
          "data": {
            "image/png": "[encoded data removed]",
            "text/plain": [
              "<Figure size 432x288 with 1 Axes>"
            ]
          },
          "metadata": {
            "tags": [],
            "needs_background": "light"
          }
        },
        {
          "output_type": "display_data",
          "data": {
            "image/png": "[encoded data removed]",
            "text/plain": [
              "<Figure size 432x288 with 1 Axes>"
            ]
          },
          "metadata": {
            "tags": [],
            "needs_background": "light"
          }
        }
      ]
    },
    {
      "cell_type": "code",
      "metadata": {
        "colab": {
          "base_uri": "https://localhost:8080/"
        },
        "id": "b-Il9hWHF6wn",
        "outputId": "080b9f9e-58b2-480c-a835-08069655321f"
      },
      "source": [
        "score = model.evaluate(x_train, y_train, verbose=0)\n",
        "print ('Train loss', score[0])\n",
        "print('Train accuracy', score[1])"
      ],
      "execution_count": null,
      "outputs": [
        {
          "output_type": "stream",
          "text": [
            "Train loss 0.018193982541561127\n",
            "Train accuracy 0.9947666525840759\n"
          ],
          "name": "stdout"
        }
      ]
    },
    {
      "cell_type": "code",
      "metadata": {
        "colab": {
          "base_uri": "https://localhost:8080/"
        },
        "id": "AIfnwdnaF94a",
        "outputId": "6752e0d6-c124-4c22-cd08-05a4e585b59f"
      },
      "source": [
        "predicted = np.round(model.predict(x_train))\n",
        "from sklearn.metrics import classification_report\n",
        "targets = ['0', '1', '2', '3', '4', '5', '6', '7', '8', '9']\n",
        "print(classification_report(y_train,predicted,  target_names=targets))"
      ],
      "execution_count": null,
      "outputs": [
        {
          "output_type": "stream",
          "text": [
            "              precision    recall  f1-score   support\n",
            "\n",
            "           0       1.00      1.00      1.00      5923\n",
            "           1       1.00      1.00      1.00      6742\n",
            "           2       1.00      0.99      1.00      5958\n",
            "           3       1.00      0.99      1.00      6131\n",
            "           4       0.99      1.00      0.99      5842\n",
            "           5       0.99      0.99      0.99      5421\n",
            "           6       1.00      1.00      1.00      5918\n",
            "           7       1.00      0.99      0.99      6265\n",
            "           8       0.99      0.99      0.99      5851\n",
            "           9       0.99      0.99      0.99      5949\n",
            "\n",
            "   micro avg       1.00      0.99      0.99     60000\n",
            "   macro avg       1.00      0.99      0.99     60000\n",
            "weighted avg       1.00      0.99      0.99     60000\n",
            " samples avg       0.99      0.99      0.99     60000\n",
            "\n"
          ],
          "name": "stdout"
        },
        {
          "output_type": "stream",
          "text": [
            "/usr/local/lib/python3.6/dist-packages/sklearn/metrics/_classification.py:1272: UndefinedMetricWarning: Precision and F-score are ill-defined and being set to 0.0 in samples with no predicted labels. Use `zero_division` parameter to control this behavior.\n",
            "  _warn_prf(average, modifier, msg_start, len(result))\n"
          ],
          "name": "stderr"
        }
      ]
    },
    {
      "cell_type": "markdown",
      "metadata": {
        "id": "J_2JjKS9jFSw"
      },
      "source": [
        "Evaluation on testset"
      ]
    },
    {
      "cell_type": "code",
      "metadata": {
        "colab": {
          "base_uri": "https://localhost:8080/"
        },
        "id": "dNU_ml3qY2zq",
        "outputId": "951d237e-7c3e-42aa-a8de-c8c6f05b1302"
      },
      "source": [
        "score = model.evaluate(x_test, y_test, verbose=0)\n",
        "print ('Test loss', score[0])\n",
        "print('Test accuracy', score[1])"
      ],
      "execution_count": null,
      "outputs": [
        {
          "output_type": "stream",
          "text": [
            "Test loss 3.8522143363952637\n",
            "Test accuracy 0.9911999702453613\n"
          ],
          "name": "stdout"
        }
      ]
    },
    {
      "cell_type": "code",
      "metadata": {
        "colab": {
          "base_uri": "https://localhost:8080/"
        },
        "id": "N7h7oWEfkRnA",
        "outputId": "99ce149c-f5fc-4929-d927-33ac8463f116"
      },
      "source": [
        "predicted = np.round(model.predict(x_test))\n",
        "from sklearn.metrics import classification_report\n",
        "targets = ['0', '1', '2', '3', '4', '5', '6', '7', '8', '9']\n",
        "print(classification_report(y_test,predicted,  target_names=targets))"
      ],
      "execution_count": null,
      "outputs": [
        {
          "output_type": "stream",
          "text": [
            "              precision    recall  f1-score   support\n",
            "\n",
            "           0       1.00      0.99      1.00       980\n",
            "           1       1.00      0.99      0.99      1135\n",
            "           2       0.99      1.00      0.99      1032\n",
            "           3       0.99      0.99      0.99      1010\n",
            "           4       0.99      1.00      0.99       982\n",
            "           5       0.98      0.99      0.99       892\n",
            "           6       0.99      0.98      0.99       958\n",
            "           7       0.99      0.99      0.99      1028\n",
            "           8       0.99      1.00      0.99       974\n",
            "           9       0.99      0.98      0.99      1009\n",
            "\n",
            "   micro avg       0.99      0.99      0.99     10000\n",
            "   macro avg       0.99      0.99      0.99     10000\n",
            "weighted avg       0.99      0.99      0.99     10000\n",
            " samples avg       0.99      0.99      0.99     10000\n",
            "\n"
          ],
          "name": "stdout"
        }
      ]
    }
  ]
}